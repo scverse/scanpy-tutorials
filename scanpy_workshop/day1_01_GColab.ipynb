{
 "cells": [
  {
   "cell_type": "markdown",
   "metadata": {
    "colab_type": "text",
    "id": "EHslS56Op2yY"
   },
   "source": [
    "Install all packages for the tutorial."
   ]
  },
  {
   "cell_type": "code",
   "execution_count": null,
   "metadata": {
    "colab": {
     "base_uri": "https://localhost:8080/",
     "height": 939
    },
    "colab_type": "code",
    "id": "Gc8rMGg9pAi0",
    "outputId": "b9ed0c4f-3ab9-4098-baa4-6a0049fb1f2a"
   },
   "outputs": [],
   "source": [
    "!pip install scanpy==1.4.6 umap-learn==0.4.0 anndata==0.7.1 numpy==1.18.2 scipy==1.4.1 pandas matplotlib scrublet seaborn python-igraph==0.8.0 louvain==0.6.1"
   ]
  },
  {
   "cell_type": "markdown",
   "metadata": {
    "colab_type": "text",
    "id": "CrRGqY5-qHCB"
   },
   "source": [
    "Load all required packages."
   ]
  },
  {
   "cell_type": "code",
   "execution_count": null,
   "metadata": {
    "colab": {
     "base_uri": "https://localhost:8080/",
     "height": 71
    },
    "colab_type": "code",
    "id": "GCVoCy-bo_QH",
    "outputId": "8a44aad9-143c-4f0d-c96c-da37be06d5f2"
   },
   "outputs": [],
   "source": [
    "import scanpy as sc\n",
    "import anndata as ann\n",
    "import numpy as np\n",
    "import scipy as sp\n",
    "import pandas as pd\n",
    "import matplotlib.pyplot as plt\n",
    "from matplotlib import rcParams\n",
    "from matplotlib import colors\n",
    "\n",
    "import os \n",
    "#doublet detection\n",
    "import scrublet as scr\n",
    "\n",
    "#pretty plotting\n",
    "import seaborn as sb\n",
    "\n"
   ]
  },
  {
   "cell_type": "code",
   "execution_count": null,
   "metadata": {
    "colab": {
     "base_uri": "https://localhost:8080/",
     "height": 54
    },
    "colab_type": "code",
    "id": "Hn1RPUWao_QK",
    "outputId": "b27ef92a-4a31-47d2-e480-0b22b53d157d"
   },
   "outputs": [],
   "source": [
    "plt.rcParams['figure.figsize']=(8,8) #rescale figures\n",
    "sc.settings.verbosity = 3\n",
    "#sc.set_figure_params(dpi=200, dpi_save=300)\n",
    "sc.logging.print_versions()\n"
   ]
  },
  {
   "cell_type": "markdown",
   "metadata": {
    "colab_type": "text",
    "id": "QoN9Q-Ixo_QN"
   },
   "source": [
    "Of note, this notebook was created as part of a workshop, so we use extra large legend texts in all seaborn plots. You can set the context as well to 'talk' or 'paper'."
   ]
  },
  {
   "cell_type": "code",
   "execution_count": null,
   "metadata": {
    "colab": {},
    "colab_type": "code",
    "id": "eHxPKEofo_QN"
   },
   "outputs": [],
   "source": [
    "sb.set_context(context='poster')\n"
   ]
  },
  {
   "cell_type": "markdown",
   "metadata": {
    "colab_type": "text",
    "id": "6UNtoZClo_QS"
   },
   "source": [
    "## Set project file paths"
   ]
  },
  {
   "cell_type": "markdown",
   "metadata": {
    "colab_type": "text",
    "id": "HGWb3YZMqUuJ"
   },
   "source": [
    "Let us set up the connection with Google Drive."
   ]
  },
  {
   "cell_type": "code",
   "execution_count": null,
   "metadata": {
    "colab": {
     "base_uri": "https://localhost:8080/",
     "height": 54
    },
    "colab_type": "code",
    "id": "CGM46GrhqcG3",
    "outputId": "e67c147c-deb3-4718-825e-74a39044895b"
   },
   "outputs": [],
   "source": [
    "from google.colab import drive\n",
    "drive.mount('/content/drive')"
   ]
  },
  {
   "cell_type": "markdown",
   "metadata": {
    "colab_type": "text",
    "id": "QEmLfywfo_QS"
   },
   "source": [
    "We set up the file paths to the respective directories."
   ]
  },
  {
   "cell_type": "code",
   "execution_count": null,
   "metadata": {
    "colab": {},
    "colab_type": "code",
    "id": "7XbTYdAyo_QT"
   },
   "outputs": [],
   "source": [
    "file_path = '/content/drive/My Drive/' #this is the file path to your google drive (main directory)"
   ]
  },
  {
   "cell_type": "code",
   "execution_count": null,
   "metadata": {
    "colab": {
     "base_uri": "https://localhost:8080/",
     "height": 1000
    },
    "colab_type": "code",
    "id": "dlfgZIW-rRxD",
    "outputId": "a4270d35-0f78-460c-fb38-1d85f6d775c3"
   },
   "outputs": [],
   "source": [
    "os.listdir(file_path) #shows all files in file_path"
   ]
  },
  {
   "cell_type": "markdown",
   "metadata": {
    "colab_type": "text",
    "id": "5R-3ThBCo_QU"
   },
   "source": [
    "File path to the raw data. They are usually stored at a different location than the rest of the project."
   ]
  },
  {
   "cell_type": "code",
   "execution_count": null,
   "metadata": {
    "colab": {},
    "colab_type": "code",
    "id": "0LVjnAUro_QV"
   },
   "outputs": [],
   "source": [
    "file_path_raw = file_path + '3k_PBMC/'"
   ]
  },
  {
   "cell_type": "markdown",
   "metadata": {
    "colab_type": "text",
    "id": "u5W73_O-o_QX"
   },
   "source": [
    "The data directory contains all processed data and `anndata` files. "
   ]
  },
  {
   "cell_type": "code",
   "execution_count": null,
   "metadata": {
    "colab": {},
    "colab_type": "code",
    "id": "9eAR80p-o_QX"
   },
   "outputs": [],
   "source": [
    "data_dir = file_path + 'day1_beginner/data/' "
   ]
  },
  {
   "cell_type": "markdown",
   "metadata": {
    "colab_type": "text",
    "id": "tCBmS2LBo_Qa"
   },
   "source": [
    "The tables directory contains all tabular data output, e.g. in `.csv` or `.xls` file format. That applies to differential expression test results or overview tables such as the number of cells per cell type."
   ]
  },
  {
   "cell_type": "code",
   "execution_count": null,
   "metadata": {
    "colab": {},
    "colab_type": "code",
    "id": "1gtX2ZxKo_Qa"
   },
   "outputs": [],
   "source": [
    "table_dir = file_path + 'day1_beginner/tables/'"
   ]
  },
  {
   "cell_type": "markdown",
   "metadata": {
    "colab_type": "text",
    "id": "HTwh3ucRo_Qc"
   },
   "source": [
    "The default figure path is a POSIX path calles 'figures'. If you don't change the default figure directory, scanpy creates a subdirectory where this notebook is located.  "
   ]
  },
  {
   "cell_type": "code",
   "execution_count": null,
   "metadata": {
    "colab": {},
    "colab_type": "code",
    "id": "CyBykptno_Qd"
   },
   "outputs": [],
   "source": [
    "sc.settings.figdir = file_path + 'day1_beginner/figures/'"
   ]
  },
  {
   "cell_type": "markdown",
   "metadata": {
    "colab_type": "text",
    "id": "3XkWWYhso_Qe"
   },
   "source": [
    "**Comment:** When you repeat certain analyses, it might be helpful to set a `date` variable and add it to every figure and table (see `datetime` Python package)."
   ]
  },
  {
   "cell_type": "markdown",
   "metadata": {
    "colab_type": "text",
    "id": "k5aPwUFlo_Qf"
   },
   "source": [
    "# Read data"
   ]
  },
  {
   "cell_type": "markdown",
   "metadata": {
    "colab_type": "text",
    "id": "avH8KH95o_Qf"
   },
   "source": [
    "The dataset consists of 4k PBMCs (Human) provided by 10X Genomics. The data is an mtx directory with an `mtx` file (*i.e.* count matrix), two `tsv` files with barcodes (*i.e.* cell indices) and features (*i.e.* gene symbols). `Scanpy` unpacks the files (if the files are in `gz` archive format) and creates an `anndata` object with the `read_10x_mtx` function.    \n",
    "\n",
    "The dataset is not filtered, yet. "
   ]
  },
  {
   "cell_type": "code",
   "execution_count": null,
   "metadata": {
    "colab": {},
    "colab_type": "code",
    "id": "L4Kqe-Ako_Qg"
   },
   "outputs": [],
   "source": [
    "file_path_raw = file_path_raw + 'raw_gene_bc_matrices/'\n"
   ]
  },
  {
   "cell_type": "code",
   "execution_count": null,
   "metadata": {
    "colab": {
     "base_uri": "https://localhost:8080/",
     "height": 34
    },
    "colab_type": "code",
    "id": "Zl44xuSXo_Qi",
    "outputId": "64895932-cc6b-47a9-8b0a-1d513dc08320"
   },
   "outputs": [],
   "source": [
    "adata_raw = sc.read_10x_mtx(path=file_path_raw)"
   ]
  },
  {
   "cell_type": "markdown",
   "metadata": {
    "colab_type": "text",
    "id": "TsiM6VQjo_Qk"
   },
   "source": [
    "Let us check the dataset size. "
   ]
  },
  {
   "cell_type": "code",
   "execution_count": null,
   "metadata": {
    "colab": {
     "base_uri": "https://localhost:8080/",
     "height": 34
    },
    "colab_type": "code",
    "id": "ABdO41edo_Qk",
    "outputId": "301d1e0e-a680-44a7-87fe-26f5dca99b32"
   },
   "outputs": [],
   "source": [
    "adata_raw.shape"
   ]
  },
  {
   "cell_type": "code",
   "execution_count": null,
   "metadata": {
    "colab": {
     "base_uri": "https://localhost:8080/",
     "height": 34
    },
    "colab_type": "code",
    "id": "dv00sIVLo_Qm",
    "outputId": "ba1b0550-1b60-4626-be53-ee1a8a4781f8"
   },
   "outputs": [],
   "source": [
    "print('Total number of observations: {:d}'.format(adata_raw.n_obs))"
   ]
  },
  {
   "cell_type": "markdown",
   "metadata": {
    "colab_type": "text",
    "id": "WdhnVZwzo_Qo"
   },
   "source": [
    "**Comment:** End of first session."
   ]
  },
  {
   "cell_type": "markdown",
   "metadata": {
    "colab_type": "text",
    "id": "pTHWJjI1o_Qo",
    "toc-hr-collapsed": false
   },
   "source": [
    "# Pre-processing and visualization"
   ]
  },
  {
   "cell_type": "markdown",
   "metadata": {
    "colab_type": "text",
    "id": "b5yjGRD0o_Qo"
   },
   "source": [
    "## Remove empty droplets\n",
    "\n",
    "The dataset contains an excessive amount of \"cells\", which are in fact empty droplets. Let us remove these barcodes prior to further quality control. In R, there is the emptyDrops package to distinguish empty droplets from actual cells. We do not have access to an R kernel on Google Colabs, therefore, we select all cells with less than 100 counts in total to estimate the background signal.\n",
    "\n",
    "It must be noted that CellRanger 3.0 has incorporated the EmptyDrops algorithm to distinguish cells from empty droplets."
   ]
  },
  {
   "cell_type": "markdown",
   "metadata": {
    "colab_type": "text",
    "id": "KKgmuOGDxRhv"
   },
   "source": [
    "Let us examine the barcodes with less than 100 counts."
   ]
  },
  {
   "cell_type": "code",
   "execution_count": null,
   "metadata": {
    "colab": {},
    "colab_type": "code",
    "id": "yMwfMjb6tp1z"
   },
   "outputs": [],
   "source": [
    "#compute number of total counts\n",
    "adata_raw.obs['n_counts'] = np.sum(adata_raw.X, axis=1)\n",
    "adata_empty = adata_raw[adata_raw.obs['n_counts']<100].copy()"
   ]
  },
  {
   "cell_type": "markdown",
   "metadata": {
    "colab_type": "text",
    "id": "42onFTc1uBiz"
   },
   "source": [
    "Estimate the gene composition in the background. Compute the number of counts per gene over all cells first."
   ]
  },
  {
   "cell_type": "code",
   "execution_count": null,
   "metadata": {
    "colab": {},
    "colab_type": "code",
    "id": "1yhVjRJduKiB"
   },
   "outputs": [],
   "source": [
    "adata_empty.var['total_gene']= np.sum(adata_empty.X, axis=0).A1"
   ]
  },
  {
   "cell_type": "markdown",
   "metadata": {
    "colab_type": "text",
    "id": "XQ5gFLQjvYAg"
   },
   "source": [
    "Compute the contribution of a gene to the background signal as the total number of counts of a gene over all cells divided by the total number of counts."
   ]
  },
  {
   "cell_type": "code",
   "execution_count": null,
   "metadata": {
    "colab": {},
    "colab_type": "code",
    "id": "IYQMIrkQubEa"
   },
   "outputs": [],
   "source": [
    "adata_empty.var['frac_gene'] = adata_empty.var['total_gene']*100 / np.sum(adata_empty.var['total_gene'])\n"
   ]
  },
  {
   "cell_type": "markdown",
   "metadata": {
    "colab_type": "text",
    "id": "vHkNC40mv86J"
   },
   "source": [
    "Display the top 10 genes with the strongest contribution to the background. "
   ]
  },
  {
   "cell_type": "code",
   "execution_count": null,
   "metadata": {
    "colab": {
     "base_uri": "https://localhost:8080/",
     "height": 204
    },
    "colab_type": "code",
    "id": "l9aMDq2du8KV",
    "outputId": "be27f6ea-31fc-40f4-9419-c456d1954fea"
   },
   "outputs": [],
   "source": [
    "adata_empty.var['frac_gene'].sort_values(ascending=False)[:10]"
   ]
  },
  {
   "cell_type": "markdown",
   "metadata": {
    "colab_type": "text",
    "id": "8zhhwoToo_Qy"
   },
   "source": [
    "Let us create a filtered data matrix by filtering out all barcodes with less than 100 counts per barcode."
   ]
  },
  {
   "cell_type": "code",
   "execution_count": null,
   "metadata": {
    "colab": {
     "base_uri": "https://localhost:8080/",
     "height": 34
    },
    "colab_type": "code",
    "id": "wwCbGrUho_Qy",
    "outputId": "dd5e89e2-a118-467d-edfc-44d8931907cc"
   },
   "outputs": [],
   "source": [
    "filter_bool, filter_idx = sc.pp.filter_cells(adata_raw, min_counts=100, inplace=False)"
   ]
  },
  {
   "cell_type": "code",
   "execution_count": null,
   "metadata": {
    "colab": {},
    "colab_type": "code",
    "id": "cbQb4wrVo_Q0"
   },
   "outputs": [],
   "source": [
    "adata = adata_raw[filter_bool].copy()"
   ]
  },
  {
   "cell_type": "code",
   "execution_count": null,
   "metadata": {
    "colab": {
     "base_uri": "https://localhost:8080/",
     "height": 68
    },
    "colab_type": "code",
    "id": "Da1CZthmw_9C",
    "outputId": "a697b49e-6559-4b44-f512-1f6ac0982a45"
   },
   "outputs": [],
   "source": [
    "adata"
   ]
  },
  {
   "cell_type": "markdown",
   "metadata": {
    "colab_type": "text",
    "id": "0l3dp6wao_Q2"
   },
   "source": [
    "Save the filtered data set to file."
   ]
  },
  {
   "cell_type": "code",
   "execution_count": null,
   "metadata": {
    "colab": {},
    "colab_type": "code",
    "id": "Cvg93_d-o_Q2"
   },
   "outputs": [],
   "source": [
    "adata.write(data_dir + 'data_filtered.h5ad')"
   ]
  },
  {
   "cell_type": "markdown",
   "metadata": {
    "colab_type": "text",
    "id": "vQ5l1r6Uo_Q4"
   },
   "source": [
    "## Quality control"
   ]
  },
  {
   "cell_type": "markdown",
   "metadata": {
    "colab_type": "text",
    "id": "GZ2irfR0o_Q4"
   },
   "source": [
    "Read data from file to begin with the quality control."
   ]
  },
  {
   "cell_type": "code",
   "execution_count": null,
   "metadata": {
    "colab": {},
    "colab_type": "code",
    "id": "DUdKGB5Yo_Q4"
   },
   "outputs": [],
   "source": [
    "adata = sc.read(data_dir + 'data_filtered.h5ad')"
   ]
  },
  {
   "cell_type": "markdown",
   "metadata": {
    "colab_type": "text",
    "id": "DOp_KZkOo_Q7"
   },
   "source": [
    "Data quality control can be split into cell QC and gene QC. Typical quality measures for assessing the quality of a cell include the number of molecule counts (UMIs), the number of expressed genes, and the fraction of counts that are mitochondrial. A high fraction of mitochondrial reads being picked up can indicate cell stress, as there is a low proportion of nuclear mRNA in the cell. It should be noted that high mitochondrial RNA fractions can also be biological signals indicating elevated respiration."
   ]
  },
  {
   "cell_type": "markdown",
   "metadata": {
    "colab_type": "text",
    "id": "nHsu2FnTo_Q7"
   },
   "source": [
    "We start with calculating the QC covariates: \n",
    "\n",
    "* total number of counts per cell\n",
    "* number of expressed genes per cell\n",
    "* fraction of mitochondrial reads per cell"
   ]
  },
  {
   "cell_type": "markdown",
   "metadata": {
    "colab_type": "text",
    "id": "UiHR_Dh9o_Q8"
   },
   "source": [
    "**Task:** Compute the library size (i.e. the total number of counts per cell), compute the log-scaled library size and the number of expressed genes per cell.\n",
    "\n",
    "**BONUS:** Compute the mean gene expression and the fraction of cells that express a gene. Compute the mean gene expression per batch, donor and replicate."
   ]
  },
  {
   "cell_type": "code",
   "execution_count": null,
   "metadata": {
    "colab": {},
    "colab_type": "code",
    "id": "Ju12A8Ggo_Q8"
   },
   "outputs": [],
   "source": [
    "# Quality control - calculate QC covariates\n",
    "adata.obs['n_counts'] = #\n",
    "adata.obs['log_counts'] = #\n",
    "adata.obs['n_genes'] = #"
   ]
  },
  {
   "cell_type": "markdown",
   "metadata": {
    "colab_type": "text",
    "id": "FjH3ch_To_Q-"
   },
   "source": [
    "Compute the fraction of mitochondrial genes. Note: mitochondrial genes in human start with 'MT-'."
   ]
  },
  {
   "cell_type": "code",
   "execution_count": null,
   "metadata": {
    "colab": {},
    "colab_type": "code",
    "id": "Dec9CcF7o_Q-"
   },
   "outputs": [],
   "source": [
    "mt_gene_mask = np.flatnonzero([gene.startswith('MT-') for gene in adata.var_names])\n",
    "# the `.A1` is only necessary as X is sparse (to transform to a dense array after summing)\n",
    "adata.obs['mt_frac'] = np.sum(adata[:, mt_gene_mask].X, axis=1).A1/adata.obs['n_counts']"
   ]
  },
  {
   "cell_type": "markdown",
   "metadata": {
    "colab_type": "text",
    "id": "rAnuIDggo_RA"
   },
   "source": [
    "Let us visualize the number of expressed genes and the number of counts as a scatter plot. "
   ]
  },
  {
   "cell_type": "markdown",
   "metadata": {
    "colab_type": "text",
    "id": "5vWs1K7Zo_RA"
   },
   "source": [
    "**Task:** Create a scatter plot with the library size against the number of genes. Create a second plot, where you only show cells with a library size of less than 10,000 counts. Color by the fraction of mitochondrial reads. \n",
    "\n",
    "**Questions:** How can we describe the relation of library size vs number of expressed genes vs mitochondrial reads?\n",
    "\n",
    "**BONUS:** Plot the highest expressed genes. \n",
    "\n"
   ]
  },
  {
   "cell_type": "code",
   "execution_count": null,
   "metadata": {
    "colab": {},
    "colab_type": "code",
    "id": "-wCbxypQo_RA"
   },
   "outputs": [],
   "source": [
    "#Data quality summary plots\n",
    "p1 = sc.pl.scatter(adata = , x='' , y='', color='', size=40)\n",
    "#hint: temporary subsetting of the anndata object by .obs works like adata[adata.obs['key']<value]\n",
    "p2 = sc.pl.scatter(adata = , x='', y='', \n",
    "                   color='', size=40)"
   ]
  },
  {
   "cell_type": "markdown",
   "metadata": {
    "colab_type": "text",
    "id": "lYRHBd1oo_RC"
   },
   "source": [
    "**Task:** Below, you find a the code to create a violin plot of the library size. Create another two violin plots displaying the number of genes and the fraction of mitochondrial reads.\n",
    "\n",
    "**Questions:** How do the count data distribute within the sample? \n"
   ]
  },
  {
   "cell_type": "code",
   "execution_count": null,
   "metadata": {
    "colab": {},
    "colab_type": "code",
    "id": "OzLL4Kmko_RC"
   },
   "outputs": [],
   "source": [
    "#Sample quality plots\n",
    "rcParams['figure.figsize']=(7,7)\n",
    "t1 = sc.pl.violin(adata, 'n_counts',\n",
    "                  #groupby='sample',\n",
    "                  size=2, log=True, cut=0)\n",
    "t1 = sc.pl.violin() #display number of genes\n",
    "t2 = sc.pl.violin() #display the fraction of mitochondrial reads"
   ]
  },
  {
   "cell_type": "markdown",
   "metadata": {
    "colab_type": "text",
    "id": "PEIZOrADo_RE"
   },
   "source": [
    "**Conclusions:** By looking at plots of the number of genes versus the number of counts with MT fraction information, we can assess whether there are cells with unexpected summary statistics. It is important here to look at these statistics jointly.  We should probably still filter out some cells with very few genes as these may be difficult to annotate later. This will be true for the initial cellular density between 1000-4000 counts and < ~500 genes.\n",
    "\n",
    "Furthermore it can be seen in the main cloud of data points, that cells with lower counts and genes tend to have a higher fraction of mitochondrial counts. These cells are likely under stress or are dying. When apoptotic cells are sequenced, there is less mRNA to be captured in the nucleus, and therefore fewer counts overall, and thus a higher fraction of counts fall upon mitochondrial RNA. If cells with high mitochondrial activity were found at higher counts/genes per cell, this would indicate biologically relevant mitochondrial activity."
   ]
  },
  {
   "cell_type": "markdown",
   "metadata": {
    "colab_type": "text",
    "id": "6XVWRLkno_RF"
   },
   "source": [
    "**Task:** Create a histogram for the total number of counts. Further, create a histogram for the low count and high count regime, each. Here, you have to decide on a reasonable threshold. "
   ]
  },
  {
   "cell_type": "markdown",
   "metadata": {
    "colab_type": "text",
    "id": "nzZIorO1o_RF"
   },
   "source": [
    "Note: `pandas` does some histogram plotting with `adata.obs['n_counts'].hist()`, howecer, you will obtain prettier plots with `distplot` from `seaborn`.    "
   ]
  },
  {
   "cell_type": "code",
   "execution_count": null,
   "metadata": {
    "colab": {},
    "colab_type": "code",
    "id": "0sXXxhGVo_RF"
   },
   "outputs": [],
   "source": [
    "#Thresholding decision: counts\n",
    "rcParams['figure.figsize']=(20,5)\n",
    "fig_ind=np.arange(131, 134)\n",
    "fig = plt.figure()\n",
    "fig.subplots_adjust(hspace=0.4, wspace=0.6)\n",
    "\n",
    "p3 = sb.distplot(adata.obs['n_counts'], \n",
    "                 kde=False, \n",
    "                 ax=fig.add_subplot(fig_ind[0]))\n",
    "p4 = sb.distplot( #histogram for low count regime\n",
    "                 ax=fig.add_subplot(fig_ind[1]))\n",
    "p5 = sb.distplot( #histogram for high count regime\n",
    "                 ax=fig.add_subplot(fig_ind[2]))\n",
    "plt.show()"
   ]
  },
  {
   "cell_type": "markdown",
   "metadata": {
    "colab_type": "text",
    "id": "rnYtcGWUo_RH"
   },
   "source": [
    "**Conclusions:**\n",
    "Histograms of the number of counts per cell show a small peak of groups of cells with fewer than **XX** counts, which are likely uninformative given the overall distribution of counts. This may be cellular debris found in droplets.\n",
    "\n",
    "On the upper end of counts, we see a population of cells with high counts with decaying slope at **XX** counts. We estimate this population to range until **XX** counts. This estimation is performed by visually tracing a Gaussian around the population."
   ]
  },
  {
   "cell_type": "markdown",
   "metadata": {
    "colab_type": "text",
    "id": "lnrHRa-bo_RH"
   },
   "source": [
    "**Task:** Create a histogram for the total number of genes. Further, create a histogram for the low gene count regime."
   ]
  },
  {
   "cell_type": "code",
   "execution_count": null,
   "metadata": {
    "colab": {},
    "colab_type": "code",
    "id": "EQgtTXsvo_RH"
   },
   "outputs": [],
   "source": [
    "#Thresholding decision: genes\n",
    "\n",
    "rcParams['figure.figsize']=(20,5)\n",
    "fig_ind=np.arange(131, 133)\n",
    "fig = plt.figure()\n",
    "fig.subplots_adjust(hspace=0.4, wspace=0.6) #create a grid for subplots\n",
    "\n",
    "p6 = sb.distplot(adata.obs['n_genes'], kde=False, bins=60, ax=fig.add_subplot(fig_ind[0]))\n",
    "#low number of genes regime\n",
    "p7 = sb.distplot( ax=fig.add_subplot(fig_ind[1]))\n",
    "plt.show()"
   ]
  },
  {
   "cell_type": "markdown",
   "metadata": {
    "colab_type": "text",
    "id": "Fa5ogEaxo_RJ"
   },
   "source": [
    "**Conclusions:**\n",
    "Two populations of cells with low gene counts can be seen in the above plots. Given these plots, and the plot of genes vs counts above, we decide to filter out cells with fewer than **XX** genes expressed. Below this we are likely to find dying cells or empty droplets with ambient RNA. Looking above at the joint plots, we see that we filter out the main density of low gene cells with this threshold.\n",
    "\n",
    "In general it is a good idea to be permissive in the early filtering steps, and then come back to filter out more stringently when a clear picture is available of what would be filtered out. This is available after visualization/clustering. For demonstration purposes we stick to a simple (and slightly more stringent) filtering here."
   ]
  },
  {
   "cell_type": "markdown",
   "metadata": {
    "colab_type": "text",
    "id": "rRE9eR9_o_RJ"
   },
   "source": [
    "**Task:** Create a histogram for the fraction of mitochondrial genes. Further, create a histogram for the high fraction regime."
   ]
  },
  {
   "cell_type": "code",
   "execution_count": null,
   "metadata": {
    "colab": {},
    "colab_type": "code",
    "id": "KDdGZFO7o_RJ"
   },
   "outputs": [],
   "source": [
    "#Thresholding decision: mitochondrial reads\n",
    "\n",
    "rcParams['figure.figsize']=(20,5)\n",
    "fig_ind=np.arange(131, 133)\n",
    "fig = plt.figure()\n",
    "fig.subplots_adjust(hspace=0.4, wspace=0.6)\n",
    "\n",
    "p8 = sb.distplot(  #display the fraction of mitochondrial reads\n",
    "                 ax=fig.add_subplot(fig_ind[0]))\n",
    "\n",
    "p9 = sb.distplot(  #display the fraction of mitochondrial reads for the high fraction (in this case a threshold of 0.2 as high)\n",
    "                 ax=fig.add_subplot(fig_ind[1]))\n",
    "plt.show()"
   ]
  },
  {
   "cell_type": "markdown",
   "metadata": {
    "colab_type": "text",
    "id": "sDjIYDo9o_RL"
   },
   "source": [
    "**Task:** Filter your cells according for the total number of counts, number of expressed genes and fraction of mitochondrial reads. Check the number of remaining cells after each filtering step."
   ]
  },
  {
   "cell_type": "code",
   "execution_count": null,
   "metadata": {
    "colab": {},
    "colab_type": "code",
    "id": "xSoSHrx0o_RL"
   },
   "outputs": [],
   "source": [
    "# Filter cells according to identified QC thresholds:\n",
    "print('Total number of cells: {:d}'.format(adata.n_obs))\n",
    "\n",
    "sc.pp.filter_cells(adata, min_counts = )\n",
    "print('Number of cells after min count filter: {:d}'.format(adata.n_obs))\n",
    "\n",
    "sc.pp.filter_cells(adata, max_counts = )\n",
    "print('Number of cells after max count filter: {:d}'.format(adata.n_obs))\n",
    "\n",
    "adata = adata[adata.obs['mt_frac'] < ]\n",
    "print('Number of cells after MT filter: {:d}'.format(adata.n_obs))\n",
    "\n",
    "sc.pp.filter_cells(adata, min_genes = )\n",
    "print('Number of cells after gene filter: {:d}'.format(adata.n_obs))"
   ]
  },
  {
   "cell_type": "markdown",
   "metadata": {
    "colab_type": "text",
    "id": "2ZodJBlEo_RN"
   },
   "source": [
    "**Task:** Next, filter out non-expressed genes. Check the number of remaining genes after filtering."
   ]
  },
  {
   "cell_type": "code",
   "execution_count": null,
   "metadata": {
    "colab": {},
    "colab_type": "code",
    "id": "yeYag2Ggo_RO"
   },
   "outputs": [],
   "source": [
    "#Filter genes:\n",
    "print('Total number of genes: {:d}'.format(adata.n_vars))\n",
    "\n",
    "# Min 20 cells - filters out 0 count genes\n",
    "sc.pp.filter_genes(adata, )\n",
    "\n",
    "print('Number of genes after cell filter: {:d}'.format(adata.n_vars))"
   ]
  },
  {
   "cell_type": "markdown",
   "metadata": {
    "colab_type": "text",
    "id": "6ihR_AKuo_RP"
   },
   "source": [
    "The filtering is performed based on the thresholds we identified from the QC plots. Genes are also filtered if they are not detected in at least **XX** cells. This reduces the dimensions of the matrix by removing 0 count genes and genes which are not sufficiently informative of the dataset."
   ]
  },
  {
   "cell_type": "markdown",
   "metadata": {
    "colab_type": "text",
    "id": "INT-PCL4o_RQ"
   },
   "source": [
    "### Doublet score"
   ]
  },
  {
   "cell_type": "markdown",
   "metadata": {
    "colab_type": "text",
    "id": "mF4mfLkho_RQ"
   },
   "source": [
    "Let us estimate the amount of doublets in the dataset. Here, we use the tool `scrublet` that simulates doublet gene expression profiles based on the data. We apply it for each sample separately."
   ]
  },
  {
   "cell_type": "code",
   "execution_count": null,
   "metadata": {
    "colab": {},
    "colab_type": "code",
    "id": "WCRmWTM2o_RS"
   },
   "outputs": [],
   "source": [
    "# filtering/preprocessing parameters:\n",
    "min_counts = 2\n",
    "min_cells = 3\n",
    "vscore_percentile = 85\n",
    "n_pc = 50\n",
    "\n",
    "# doublet detector parameters:\n",
    "expected_doublet_rate = 0.02 \n",
    "sim_doublet_ratio = 3\n",
    "n_neighbors = 15\n",
    "\n",
    "\n",
    "\n",
    "scrub = scr.Scrublet(counts_matrix = adata.X,  \n",
    "                     n_neighbors = n_neighbors,\n",
    "                     sim_doublet_ratio = sim_doublet_ratio,\n",
    "                     expected_doublet_rate = expected_doublet_rate)\n",
    "\n",
    "doublet_scores, predicted_doublets = scrub.scrub_doublets( \n",
    "                    min_counts = min_counts, \n",
    "                    min_cells = min_cells, \n",
    "                    n_prin_comps = n_pc,\n",
    "                    use_approx_neighbors = True, \n",
    "                    get_doublet_neighbor_parents = False)\n",
    "\n",
    "adata.obs['doublet_score'] = doublet_scores\n",
    "adata.obs['doublet'] = predicted_doublets\n"
   ]
  },
  {
   "cell_type": "markdown",
   "metadata": {
    "colab_type": "text",
    "id": "Oaass2qLo_RT"
   },
   "source": [
    "**Tasks:** Plot the doublet score as a histogram and as violin plot. "
   ]
  },
  {
   "cell_type": "code",
   "execution_count": null,
   "metadata": {
    "colab": {},
    "colab_type": "code",
    "id": "W0r7k60ao_RU"
   },
   "outputs": [],
   "source": [
    "rcParams['figure.figsize']=(6,6)\n",
    "sb.distplot() #histogram of the doublet score\n",
    "plt.show()\n",
    "\n",
    "rcParams['figure.figsize']=(15,7)\n",
    "sc.pl.violin() #violin plot of the doublet score"
   ]
  },
  {
   "cell_type": "markdown",
   "metadata": {
    "colab_type": "text",
    "id": "uwGUGqVVo_RW"
   },
   "source": [
    "### filtering doublets"
   ]
  },
  {
   "cell_type": "markdown",
   "metadata": {
    "colab_type": "text",
    "id": "ia-8zlugo_RX"
   },
   "source": [
    "Scrublet proposed a different threshold than we would choose based upon the histogram plot of the doublet scores."
   ]
  },
  {
   "cell_type": "markdown",
   "metadata": {
    "colab_type": "text",
    "id": "49PC-KHYo_RX"
   },
   "source": [
    "**Tasks:** Decide on a threshold to filter doublets. "
   ]
  },
  {
   "cell_type": "code",
   "execution_count": null,
   "metadata": {
    "colab": {},
    "colab_type": "code",
    "id": "-qOdhLC1o_RX"
   },
   "outputs": [],
   "source": [
    "thr = #add threshold\n",
    "ix_filt = adata.obs['doublet_score']<=thr\n",
    "\n",
    "adata = adata[ix_filt].copy()\n",
    "print('Number of cells after doublet filter: {:d}'.format(adata.n_obs))"
   ]
  },
  {
   "cell_type": "markdown",
   "metadata": {
    "colab_type": "text",
    "id": "bpjbfSXco_Ra"
   },
   "source": [
    "### Summarize sample information"
   ]
  },
  {
   "cell_type": "markdown",
   "metadata": {
    "colab_type": "text",
    "id": "Qq2WG6z4o_Ra"
   },
   "source": [
    "In order to group by `batch` (for future purposes, because we presently deal with one sample), let us add a `batch` covariate to the `adata` object. "
   ]
  },
  {
   "cell_type": "code",
   "execution_count": null,
   "metadata": {
    "colab": {},
    "colab_type": "code",
    "id": "UqW4DttOo_Rb"
   },
   "outputs": [],
   "source": [
    "adata.obs['batch'] = '1'\n",
    "\n",
    "df = adata.obs[['n_genes','n_counts', 'batch']]\n",
    "df_all = pd.DataFrame(df.groupby(by='batch')['n_genes'].apply(np.mean).values,\n",
    "                      index=df.groupby(by='batch')['n_genes'].apply(np.mean).index,\n",
    "                      columns=['mean_genes'])\n",
    "\n",
    "df_all['median_genes']=df.groupby(by='batch')['n_genes'].apply(np.median).values\n",
    "df_all['mean_counts']=df.groupby(by='batch')['n_counts'].apply(np.mean).values\n",
    "df_all['median_counts']=df.groupby(by='batch')['n_counts'].apply(np.median).values\n",
    "df_all"
   ]
  },
  {
   "cell_type": "markdown",
   "metadata": {
    "colab_type": "text",
    "id": "OSb8lp6po_Rd"
   },
   "source": [
    "Display table."
   ]
  },
  {
   "cell_type": "code",
   "execution_count": null,
   "metadata": {
    "colab": {},
    "colab_type": "code",
    "id": "Wrh2jHJNo_Rd"
   },
   "outputs": [],
   "source": [
    "df_all"
   ]
  },
  {
   "cell_type": "markdown",
   "metadata": {
    "colab_type": "text",
    "id": "vaUlkZFJo_Rf"
   },
   "source": [
    "**Tasks:** Save the summary table to file (`csv` or `xlsx` format) to the `tables` subdirectory. "
   ]
  },
  {
   "cell_type": "code",
   "execution_count": null,
   "metadata": {
    "colab": {},
    "colab_type": "code",
    "id": "D607a0s8o_Rg"
   },
   "outputs": [],
   "source": []
  },
  {
   "cell_type": "markdown",
   "metadata": {
    "colab_type": "text",
    "id": "dWbfhFSU02GK"
   },
   "source": [
    "**Comment:** End of second session."
   ]
  },
  {
   "cell_type": "markdown",
   "metadata": {
    "colab_type": "text",
    "id": "0QX6255Yo_Rh"
   },
   "source": [
    "## Normalization"
   ]
  },
  {
   "cell_type": "markdown",
   "metadata": {
    "colab_type": "text",
    "id": "s_DCkLMNo_Ri"
   },
   "source": [
    "So far, our dataset is a count matrix. Here, every count corresponds to an mRNA molecule captured in the scRNA-seq experiment. As not all mRNA molecules in a cell are captured, there is a variability in the total number of counts detected between cells that results from both the number of molecules that were in the cells, and the sampling. As we cannot assume that all cells contain an equal number of molecules (cell sizes can differ substantially), we have to estimate the number of molecules that were initially in the cells. In fact, we don't estimate the exact number of molecules, but instead estimate cell-specific factors that should be proportional to the true number of molecules. These are called size factors. Normalized expression values are calculated by dividing the measured counts by the size factor for the cell.\n",
    "\n",
    "Several methods for normalization for scRNA-seq data have been proposed. Ideally, we want to apply the `scran` library size normalization followed by log-transformation. However, `scran` is again an R package, and we use the simpler normalisation to logCPM, `i.e.` we divide by the library size followed by the log-transformation. In addition, we save the count matrix to `layers` as 'counts'."
   ]
  },
  {
   "cell_type": "markdown",
   "metadata": {
    "colab_type": "text",
    "id": "h5TsXtvro_Ri"
   },
   "source": [
    "**Comment:** For `scran`, we have not (comprehensively) tested whether normalisation per sample or all samples jointly gives more accurate results. When we normalised per sample, observed many more differentially expressed genes across conditions (in the range of thousands). We think that normalisation per sample preserves a systematic bias while joint normalisation removes batch effects within the same cluster partially, if a cluster contains cell from several batches. No such effect of the normalisation can be observed when samples do not overlap at all. For the time being, we perform joint normalisation of all samples. "
   ]
  },
  {
   "cell_type": "markdown",
   "metadata": {
    "colab_type": "text",
    "id": "d2DrTac1o_Rp"
   },
   "source": [
    "Save the count matrix as layer. "
   ]
  },
  {
   "cell_type": "code",
   "execution_count": null,
   "metadata": {
    "colab": {},
    "colab_type": "code",
    "id": "GL1QAFcW2e65"
   },
   "outputs": [],
   "source": [
    "adata.layers['counts'] = adata.X.copy()"
   ]
  },
  {
   "cell_type": "markdown",
   "metadata": {
    "colab_type": "text",
    "id": "OQM5ksgN2kcR"
   },
   "source": [
    "We use the logCPM normalisation: Normalise with the library size and log-scale."
   ]
  },
  {
   "cell_type": "code",
   "execution_count": null,
   "metadata": {
    "colab": {},
    "colab_type": "code",
    "id": "sVGqfZYZ2hdo"
   },
   "outputs": [],
   "source": [
    "sc.pp.normalize_per_cell(adata, counts_per_cell_after=1e4)\n",
    "sc.pp.log1p(adata)"
   ]
  },
  {
   "cell_type": "markdown",
   "metadata": {
    "colab_type": "text",
    "id": "LdpUkHodo_Rn"
   },
   "source": [
    "**Tasks:** Create a scatter plot of size factor vs library size and number of expressed genes, respectively. \n",
    "\n",
    "**Questions:** How does the library size and number of expressed genes relate to each other? Can we determine cell type specific differences?\n"
   ]
  },
  {
   "cell_type": "code",
   "execution_count": null,
   "metadata": {
    "colab": {},
    "colab_type": "code",
    "id": "8V0YIT8ko_Rn"
   },
   "outputs": [],
   "source": [
    "rcParams['figure.figsize']=(8,8)\n",
    "sc.pl.scatter() "
   ]
  },
  {
   "cell_type": "markdown",
   "metadata": {
    "colab_type": "text",
    "id": "y_C8ceJqo_R0"
   },
   "source": [
    "## Batch correction - general remarks"
   ]
  },
  {
   "cell_type": "markdown",
   "metadata": {
    "colab_type": "text",
    "id": "Pjfr6bMso_R0"
   },
   "source": [
    "This dataset consists of a single batch, thus, batch effect correction is not an issue here. If you handle several batches, you may observe differences across samples, for instance, in the library size per dataset. Such differences may contribute to the batch effect. [Büttner et al., Nat Meth (2019)](https://www.nature.com/articles/s41592-018-0254-1) compared the performance of several batch correction methods. For low-to-medium complexity datasets, ComBat performed best among the tested tools. ComBat is also available in `scanpy` (see `sc.pp.combat`). "
   ]
  },
  {
   "cell_type": "markdown",
   "metadata": {
    "colab_type": "text",
    "id": "s2FGI7ZSo_R1"
   },
   "source": [
    "For high complexity data, especially when you encounter changes in cell type composition, consider to use a data integration method of your choice. We distinguish three different types, *i.e.* if the methods create a corrected data matrix (in feature space), an embedding or a knn-graph. Examples are:\n",
    "1. feature space: MNN (`scanpy.external.pp.mnn_correct`), scanorama (integrates with scanpy), Seurat v3 (R based)\n",
    "2. embedding: scVI (Python based), Harmony (R based), scanorama\n",
    "3. knn-graph: conos (R based), BBKNN (`scanpy.external.pp.bbknn`)\n",
    "\n",
    "Several benchmarking studies aimed to determine best performing methods. In simple cases, Seurat v3 and Harmony performed best [Tran et al., Genome Biology (2020)](https://genomebiology.biomedcentral.com/articles/10.1186/s13059-019-1850-9) and [Chazarra-Gil et al., biorxiv (2020)](https://www.biorxiv.org/content/10.1101/2020.05.22.111211v2). More complex scenarios have been benchmarked in [Luecken et al., biorxiv (2020)](https://www.biorxiv.org/content/10.1101/2020.05.22.111161v2), where BBKNN, Scanorama, and scVI performed well. Furthermore, Scanorama had high scores in the preservation of biological signals, while BBKNN tended to overcorrect. Moreover, Luecken et al. tested different pre-processing schemes. In general, **selecting highly variable genes prior to batch correction improved the batch effect correction result**. We continue with the selection of highly variable genes. \n"
   ]
  },
  {
   "cell_type": "markdown",
   "metadata": {
    "colab_type": "text",
    "id": "xkrOLRtko_R1"
   },
   "source": [
    "## Feature selection (Highly variable genes)"
   ]
  },
  {
   "cell_type": "markdown",
   "metadata": {
    "colab_type": "text",
    "id": "JBnIuZKqo_R1"
   },
   "source": [
    "We extract highly variable genes (HVGs) to further reduce the dimensionality of the dataset and include only the most informative genes. Genes that vary substantially across the dataset are informative of the underlying biological variation in the data. As we only want to capture biological variation in these genes, we select highly variable genes after normalization and batch correction. HVGs are used for clustering, trajectory inference, and dimensionality reduction/visualization, while the full data set is used for computing marker genes, differential testing, cell cycle scoring, and visualizing expression values on the data.\n",
    "\n",
    "Here we use a standard technique for the extraction of highly variable genes from the 10X genomics preprocessing software *CellRanger*. Typically between 1000 and 5000 genes are selected. Here, we extract the top 4000 most variable genes for further processing. If particular genes of importance are known, one could assess how many highly variable genes are necessary to include all, or the majority, of these."
   ]
  },
  {
   "cell_type": "markdown",
   "metadata": {
    "colab_type": "text",
    "id": "yXZU_Udto_R1"
   },
   "source": [
    "Compute highly variable genes and visualize."
   ]
  },
  {
   "cell_type": "code",
   "execution_count": null,
   "metadata": {
    "colab": {},
    "colab_type": "code",
    "id": "3IOiIUnbo_R2"
   },
   "outputs": [],
   "source": [
    "sc.pp.highly_variable_genes(adata, flavor='cell_ranger', n_top_genes=2000)\n",
    "print('\\n','Number of highly variable genes: {:d}'.format(np.sum(adata.var['highly_variable'])))"
   ]
  },
  {
   "cell_type": "code",
   "execution_count": null,
   "metadata": {
    "colab": {},
    "colab_type": "code",
    "id": "tPhEFIMOo_R3"
   },
   "outputs": [],
   "source": [
    "rcParams['figure.figsize']=(10,5)\n",
    "sc.pl.highly_variable_genes(adata)"
   ]
  },
  {
   "cell_type": "markdown",
   "metadata": {
    "colab_type": "text",
    "id": "YVwMiYY7o_R5"
   },
   "source": [
    "The plots show how the data was normalized to select highly variable genes irrespective of the mean expression of the genes. This is achieved by using the index of dispersion which divides by mean expression, and subsequently binning the data by mean expression and selecting the most variable genes within each bin.\n",
    "\n",
    "Highly variable gene information is stored automatically in the `adata.var['highly_variable']` field. The dataset now contains:\n",
    "\n",
    "* count data as layer 'counts' in adata\n",
    "* log-scran normalized data in adata.X\n",
    "* highly variable gene annotations in `adata.var['highly_variable']`\n"
   ]
  },
  {
   "cell_type": "markdown",
   "metadata": {
    "colab_type": "text",
    "id": "_rxIWnopo_R6"
   },
   "source": [
    "## Visualization"
   ]
  },
  {
   "cell_type": "markdown",
   "metadata": {
    "colab_type": "text",
    "id": "2nR8epe8o_R6"
   },
   "source": [
    "Visualizing scRNA-seq data is the process of projecting a high-dimensional matrix of cells and genes into a few coordinates such that every cell is meaningfully represented in a two-dimensional graph. However, the visualization of scRNA-seq data is an active area of research and each method defines 'meaningful' in its own way. \n",
    "\n",
    "Overall t-SNE visualizations have been very popular in the community, however the recent UMAP algorithm has been shown to better represent the topology of the data.\n",
    "\n",
    "We will look at several visualizations to decide which visualization best represents the aspect of the data."
   ]
  },
  {
   "cell_type": "markdown",
   "metadata": {
    "colab_type": "text",
    "id": "05UivDAho_R6"
   },
   "source": [
    "Compute the following embeddings: PCA, t-SNE, UMAP, diffusion map and force-directed graph. Please compute PCA first and compute nearest neighbors next. All other embeddings rely on this information. Visualize the embeddings and color by the total number of counts."
   ]
  },
  {
   "cell_type": "code",
   "execution_count": null,
   "metadata": {
    "colab": {},
    "colab_type": "code",
    "id": "BsdBb8Ago_R6",
    "scrolled": true
   },
   "outputs": [],
   "source": [
    "sc.pp.pca(adata, n_comps=50, use_highly_variable=True, svd_solver='arpack')"
   ]
  },
  {
   "cell_type": "markdown",
   "metadata": {
    "colab_type": "text",
    "id": "B26Z7Abwo_R8"
   },
   "source": [
    "To determine the number of informative principal components, let us review the variance contribution of each component. "
   ]
  },
  {
   "cell_type": "code",
   "execution_count": null,
   "metadata": {
    "colab": {},
    "colab_type": "code",
    "id": "zPY5hb4zo_R8"
   },
   "outputs": [],
   "source": [
    "sc.pl.pca_variance_ratio(adata)"
   ]
  },
  {
   "cell_type": "markdown",
   "metadata": {
    "colab_type": "text",
    "id": "SlTbyHJ-o_R-"
   },
   "source": [
    "Using the elbow method, we select the first **XX** PCs as informative."
   ]
  },
  {
   "cell_type": "markdown",
   "metadata": {
    "colab_type": "text",
    "id": "8wN2cZNDo_R-"
   },
   "source": [
    "**Task:** Decide on the number of informative principal components."
   ]
  },
  {
   "cell_type": "code",
   "execution_count": null,
   "metadata": {
    "colab": {},
    "colab_type": "code",
    "id": "ed5jdQu1o_R-"
   },
   "outputs": [],
   "source": [
    "sc.pp.pca(adata, n_comps= ,#number of informative components  \n",
    "          use_highly_variable=True, svd_solver='arpack')\n",
    "sc.pp.neighbors(adata)\n",
    "sc.tl.tsne(adata) #Note n_jobs works for MulticoreTSNE, but not regular implementation)\n",
    "sc.tl.umap(adata)\n",
    "sc.tl.diffmap(adata)\n",
    "sc.tl.draw_graph(adata)"
   ]
  },
  {
   "cell_type": "code",
   "execution_count": null,
   "metadata": {
    "colab": {},
    "colab_type": "code",
    "id": "gTFS11zzo_SC"
   },
   "outputs": [],
   "source": [
    "rcParams['figure.figsize']=(20,10)\n",
    "fig_ind=np.arange(231, 237)\n",
    "fig = plt.figure()\n",
    "fig.subplots_adjust(hspace=0.4, wspace=0.6)\n",
    "\n",
    "p10 = sc.pl.pca_scatter(adata, color='n_counts', ax=fig.add_subplot(fig_ind[0]), show=False)\n",
    "p11 = sc.pl.tsne(adata, color='n_counts', ax=fig.add_subplot(fig_ind[1]), show=False)\n",
    "p12 = sc.pl.umap(adata, color='n_counts', ax=fig.add_subplot(fig_ind[2]), show=False)\n",
    "p13 = sc.pl.diffmap(adata, color='n_counts', components=['1,2'], ax=fig.add_subplot(fig_ind[3]),show=False)\n",
    "p14 = sc.pl.diffmap(adata, color='n_counts', components=['1,3'], ax=fig.add_subplot(fig_ind[4]), show=False)\n",
    "p15 = sc.pl.draw_graph(adata, color='n_counts', ax=fig.add_subplot(fig_ind[5]), show=False)\n",
    "\n",
    "plt.show()"
   ]
  },
  {
   "cell_type": "markdown",
   "metadata": {
    "colab_type": "text",
    "id": "UhA-AKjto_SD"
   },
   "source": [
    "**PCA**:\n",
    "\n",
    "* Unsurprisingly, the first principle component captures variation in count depth between cells, and is thus only marginally informative\n",
    "* The plot shows a weak clustering of the data in two dimensions\n",
    "\n",
    "**t-SNE**:\n",
    "\n",
    "* Shows several distinct clusters with clear subcluster structure\n",
    "* Connections between clusters are difficult to interpret visually\n",
    "\n",
    "**UMAP**:\n",
    "\n",
    "* Data points are spread out on the plot showing several clusters\n",
    "* Connections between clusters also not visible (and not expected for PBMC data)\n",
    "\n",
    "**Diffusion Maps**:\n",
    "\n",
    "* Shows regions of higher density and a few disconnected cells in between\n",
    "* Trajectories not visible (and not expected for PBMC data)\n",
    "* Each diffusion component extracts heterogeneity in a different part of the data\n",
    "\n",
    "**Graph**:\n",
    "\n",
    "* Shows several clusters with substructure\n",
    "* Lack of trajectories as expected\n",
    "\n",
    "The strengths and weaknesses of the visualizations can readily be identified in the above plots. While t-SNE exaggerates differences, diffusion maps exaggerate transitions. Overall UMAP and force-directed graph drawings show the best compromise of the two aspects, however UMAP is much faster to compute. UMAP has furthermore been shown to more accurately display the structure in the data."
   ]
  },
  {
   "cell_type": "markdown",
   "metadata": {
    "colab_type": "text",
    "id": "l2d-jZwgo_SD"
   },
   "source": [
    "## Cell cycle scoring"
   ]
  },
  {
   "cell_type": "markdown",
   "metadata": {
    "colab_type": "text",
    "id": "TSttSjE6o_SE"
   },
   "source": [
    "Known sources of technical variation in the data have been investigated and corrected for (e.g. batch, count depth). A known source of biological variation that can explain the data is the cell cycle. Here, gene lists from [Macosko et al., Cell 161 (2015)](https://www.sciencedirect.com/science/article/pii/S0092867415005498) is used to score the cell cycle effect in the data and classify cells by cell cycle phase. The file can be found on the [scIB github repository](https://github.com/theislab/scib/tree/master/scIB/resources/).\n",
    "\n",
    "Please note, that the gene list was generated for human HeLa cells."
   ]
  },
  {
   "cell_type": "code",
   "execution_count": null,
   "metadata": {
    "colab": {},
    "colab_type": "code",
    "id": "bctPJeIeo_SE"
   },
   "outputs": [],
   "source": [
    "s_genes_file = data_dir + 's_genes_tirosh_hm.txt'\n",
    "g2m_genes_file = data_dir + 'g2m_genes_tirosh_hm.txt'"
   ]
  },
  {
   "cell_type": "code",
   "execution_count": null,
   "metadata": {
    "colab": {},
    "colab_type": "code",
    "id": "CrSeUWxKo_SF"
   },
   "outputs": [],
   "source": [
    "s_genes = pd.read_table(s_genes_file, header = None).values.flatten()\n",
    "g2m_genes = pd.read_table(g2m_genes_file, header = None).values.flatten()"
   ]
  },
  {
   "cell_type": "code",
   "execution_count": null,
   "metadata": {
    "colab": {},
    "colab_type": "code",
    "id": "6ZyFjoh_o_SG"
   },
   "outputs": [],
   "source": [
    "s_genes_hvg = adata.var_names[np.in1d(adata.var_names, s_genes)]\n",
    "g2m_genes_hvg = adata.var_names[np.in1d(adata.var_names, g2m_genes)]"
   ]
  },
  {
   "cell_type": "markdown",
   "metadata": {
    "colab_type": "text",
    "id": "748UqLsjo_SH"
   },
   "source": [
    "Compute cell cycle score."
   ]
  },
  {
   "cell_type": "code",
   "execution_count": null,
   "metadata": {
    "colab": {},
    "colab_type": "code",
    "id": "n2DlFueZo_SI"
   },
   "outputs": [],
   "source": [
    "sc.tl.score_genes_cell_cycle(adata, s_genes=s_genes_hvg, g2m_genes=g2m_genes_hvg)"
   ]
  },
  {
   "cell_type": "code",
   "execution_count": null,
   "metadata": {
    "colab": {},
    "colab_type": "code",
    "id": "n4FmaJjjo_SJ"
   },
   "outputs": [],
   "source": [
    "print(len(s_genes_hvg))\n",
    "print(len(g2m_genes_hvg))"
   ]
  },
  {
   "cell_type": "code",
   "execution_count": null,
   "metadata": {
    "colab": {},
    "colab_type": "code",
    "id": "s9R5F_9xo_SL"
   },
   "outputs": [],
   "source": [
    "adata.obs['phase'].value_counts()"
   ]
  },
  {
   "cell_type": "markdown",
   "metadata": {
    "colab_type": "text",
    "id": "yhCVwAFho_SN"
   },
   "source": [
    "**Task:** Check whether MKI67 is present in the dataset and visualise the cell cycle scores."
   ]
  },
  {
   "cell_type": "code",
   "execution_count": null,
   "metadata": {
    "colab": {},
    "colab_type": "code",
    "id": "98pLOCXIo_SO"
   },
   "outputs": [],
   "source": [
    "#hint 'MKI67' has to be in the adata.var_names "
   ]
  },
  {
   "cell_type": "code",
   "execution_count": null,
   "metadata": {
    "colab": {},
    "colab_type": "code",
    "id": "qpAXVxmxo_SP"
   },
   "outputs": [],
   "source": [
    "rcParams['figure.figsize']=(5,5)\n",
    "#plots"
   ]
  },
  {
   "cell_type": "markdown",
   "metadata": {
    "colab_type": "text",
    "id": "rO6u4QOTo_ST"
   },
   "source": [
    "Apparently, all cells are assigned to the same proliferative cell cycle phase (G2M), but inspecting the interface marker MKI67 shows little evidence for proliferation. If the phase score looks suspicious, one has to adjust the threshold for assigning a certain phase. By default, a cell is G1, if both S and G2M score are negative. Otherwise, a cell is assigned to the phase where it has the highest score. Potentially, we would need to adapt the cutoffs of the classification."
   ]
  },
  {
   "cell_type": "markdown",
   "metadata": {
    "colab_type": "text",
    "id": "mlsHzutAo_ST"
   },
   "source": [
    "At this point of the analysis, we have reached an important milestone as we finished the pre-processing and enter the downstream analysis part. **Ideally, we don't have to revisit this part again.**"
   ]
  },
  {
   "cell_type": "code",
   "execution_count": null,
   "metadata": {
    "colab": {},
    "colab_type": "code",
    "id": "xklKpMpDo_SY"
   },
   "outputs": [],
   "source": [
    "adata.write(data_dir + 'data_processed.h5ad')"
   ]
  },
  {
   "cell_type": "markdown",
   "metadata": {
    "colab_type": "text",
    "id": "TWTPywHu1H4E"
   },
   "source": [
    "**Comment:** End of third session."
   ]
  },
  {
   "cell_type": "markdown",
   "metadata": {
    "colab_type": "text",
    "id": "mjuNN_Bio_Sa",
    "toc-hr-collapsed": false
   },
   "source": [
    "# Downstream analysis"
   ]
  },
  {
   "cell_type": "code",
   "execution_count": null,
   "metadata": {
    "colab": {},
    "colab_type": "code",
    "id": "q-hBZkN_o_Sb"
   },
   "outputs": [],
   "source": [
    "adata = sc.read(data_dir + 'data_processed.h5ad')"
   ]
  },
  {
   "cell_type": "markdown",
   "metadata": {
    "colab_type": "text",
    "id": "WcD2593Po_Sc"
   },
   "source": [
    "## Clustering"
   ]
  },
  {
   "cell_type": "markdown",
   "metadata": {
    "colab_type": "text",
    "id": "Tz-uJ6Rio_Sc"
   },
   "source": [
    "Clustering is a central component of the scRNA-seq analysis pipeline. To understand the data, we must identify cell types and states present. The first step of doing so is clustering. Performing Modularity optimization by Louvain community detection on the k-nearest-neighbour graph of cells has become an established practice in scRNA-seq analysis. Thus, this is the method of choice in this tutorial as well.\n",
    "\n",
    "Here, we perform clustering at two resolutions. Investigating several resolutions allows us to select a clustering that appears to capture the main clusters in the visualization and can provide a good baseline for further subclustering of the data to identify more specific substructure.\n",
    "\n",
    "Clustering is performed on the highly variable gene data, dimensionality reduced by PCA, and embedded into a KNN graph. (see `sc.pp.pca()` and `sc.pp.neighbors()` functions used in the visualization section)."
   ]
  },
  {
   "cell_type": "markdown",
   "metadata": {
    "colab_type": "text",
    "id": "q90XRL1Xo_Sc"
   },
   "source": [
    "Compute a `louvain` clustering with two different resolutions (`0.5` and `1.5`). Compare the clusterings in a table and visualize the clustering in an embedding. Optional: Compute a clustering with the `leiden` algorithm. "
   ]
  },
  {
   "cell_type": "code",
   "execution_count": null,
   "metadata": {
    "colab": {},
    "colab_type": "code",
    "id": "knPsRlh8o_Sd"
   },
   "outputs": [],
   "source": [
    "# Perform clustering - using highly variable genes\n",
    "sc.tl.louvain(adata, resolution=1.5, key_added='louvain_r1.5')\n",
    "sc.tl.louvain(adata, resolution=0.5, key_added='louvain_r0.5')"
   ]
  },
  {
   "cell_type": "code",
   "execution_count": null,
   "metadata": {
    "colab": {},
    "colab_type": "code",
    "id": "3DJ5Ztr1o_Se"
   },
   "outputs": [],
   "source": [
    "pd.crosstab(adata.obs['louvain_r0.5'], adata.obs['louvain_r1.5'])"
   ]
  },
  {
   "cell_type": "code",
   "execution_count": null,
   "metadata": {
    "colab": {},
    "colab_type": "code",
    "id": "AdTu7I5so_Sg"
   },
   "outputs": [],
   "source": [
    "#Visualize the clustering and how this is reflected by different technical covariates\n",
    "sc.pl.umap(adata, color=['louvain_r1.5', 'louvain_r0.5'], wspace=0.6)\n",
    "sc.pl.umap(adata, color=['log_counts', 'mt_frac'])"
   ]
  },
  {
   "cell_type": "markdown",
   "metadata": {
    "colab_type": "text",
    "id": "UJWkvjRJo_Si"
   },
   "source": [
    "## Marker genes and cluster annotation "
   ]
  },
  {
   "cell_type": "markdown",
   "metadata": {
    "colab_type": "text",
    "id": "ZhZ0UhHdo_Sl"
   },
   "source": [
    "To annotate the clusters we obtained, we find genes that are up-regulated in the cluster compared to all other clusters (marker genes). This differential expression test is performed by a *Welch t-test with overestimated variance* to be conservative. This is the default in `scanpy`. The test is automatically performed on the `.raw` data set, which is uncorrected and contains all genes. All genes are taken into account, as any gene may be an informative marker.\n",
    "\n",
    "As we are using the relevant mouse gut atlas from the literature in this case study, there is no other reference atlas which we use to annotate the cells by automated annotation. Thus, we do not use scmap or garnett here."
   ]
  },
  {
   "cell_type": "markdown",
   "metadata": {
    "colab_type": "text",
    "id": "dN1eMuxBo_Sl"
   },
   "source": [
    "Compute the differential expression profile for each cluster with `rank_genes_groups` and visualize the results."
   ]
  },
  {
   "cell_type": "code",
   "execution_count": null,
   "metadata": {
    "colab": {},
    "colab_type": "code",
    "id": "WNvfEwLzo_Sl"
   },
   "outputs": [],
   "source": [
    "#Calculate marker genes\n",
    "sc.tl.rank_genes_groups(adata, groupby='louvain_r0.5', key_added='rank_genes_r0.5')"
   ]
  },
  {
   "cell_type": "code",
   "execution_count": null,
   "metadata": {
    "colab": {},
    "colab_type": "code",
    "id": "3Mp9Fqzxo_Sm"
   },
   "outputs": [],
   "source": [
    "#Plot marker genes\n",
    "sc.pl.rank_genes_groups(adata, key='rank_genes_r0.5', fontsize=12)"
   ]
  },
  {
   "cell_type": "markdown",
   "metadata": {
    "colab_type": "text",
    "id": "xnfM_dT0o_So"
   },
   "source": [
    "**Tasks:** Calculate and visualise marker genes for the louvain clustering with resolution `1.5`."
   ]
  },
  {
   "cell_type": "code",
   "execution_count": null,
   "metadata": {
    "colab": {},
    "colab_type": "code",
    "id": "5mNXks3eo_So"
   },
   "outputs": [],
   "source": [
    "#Calculate marker genes\n"
   ]
  },
  {
   "cell_type": "code",
   "execution_count": null,
   "metadata": {
    "colab": {},
    "colab_type": "code",
    "id": "iHqyRLK4o_Sq"
   },
   "outputs": [],
   "source": [
    "#Plot marker genes\n"
   ]
  },
  {
   "cell_type": "markdown",
   "metadata": {
    "colab_type": "text",
    "id": "uBBHrt5To_Sq"
   },
   "source": [
    "Here, we observe potentially characteristic gene expression patterns, but we also observe a considerable ribosomal proteins (*RPL* and *RPS*), which are part of the ribosomes. Thus, they are involved in mRNA translational processes. Usually, these genes are difficult to interpret. \n",
    "\n",
    "Furthermore, the score itself is not interpretable in terms of specificity and significance in the case of clustering, because the clusters were previously defined as a group of cells being different from the rest. Therefore, we compare a group that is a priori different to the rest and the resulting scores (or p-values) are inflated. Furthermore, the smaller a cluster is, the smaller is the observed score, unless a gene is very specific to the cluster. Typically, we may find marker genes in the gene lists of the `rank_genes_groups` test, but not all marker genes have a high expression level.\n",
    "\n",
    "When it comes to cluster annotation, we usually have to tap into prior knowledge of the cell type. Depending on the data set, this may involve extensive literature search. In the case of brain cell types, we may refer to several studies and several web resources to extract marker gene sets. Alternative approaches such as `scmap` use annotated reference data to predict the cell type identity of new data, or train a classifier based on marker genes (e.g. `Garnett`).\n"
   ]
  },
  {
   "cell_type": "markdown",
   "metadata": {
    "colab_type": "text",
    "id": "Ho9COJmdo_Sr"
   },
   "source": [
    "In the case of PBMCs, we may refer to several studies and single-cell RNA-sequencing data analysis tutorials to extract marker gene sets. \n",
    "The following list is extracted from the Seurat tutorial on PBMCs."
   ]
  },
  {
   "cell_type": "markdown",
   "metadata": {
    "colab_type": "text",
    "id": "qLZFL-Z6o_Sr"
   },
   "source": [
    "\n",
    "|Marker Gene|Cell Type|\n",
    "|---------|-------|\n",
    "|IL7R|CD4 T cells|\n",
    "|CD14, LYZ|CD14+ Monocytes|\n",
    "|MS4A1|B cells|\n",
    "|CD8A|CD8 T cells|\n",
    "|FCGR3A, MS4A7|FCGR3A+ Monocytes|\n",
    "|GNLY, NKG7|NK cells|\n",
    "|FCER1A, CST3|Dendritic Cells|\n",
    "|PPBP|Megakaryocytes|\n"
   ]
  },
  {
   "cell_type": "markdown",
   "metadata": {
    "colab_type": "text",
    "id": "5OLZR2_do_Sr"
   },
   "source": [
    "Let us define a list of marker genes from literature."
   ]
  },
  {
   "cell_type": "code",
   "execution_count": null,
   "metadata": {
    "colab": {},
    "colab_type": "code",
    "id": "MDjqMwbko_Sr"
   },
   "outputs": [],
   "source": [
    "marker_genes = ['IL7R', 'CD79A', 'MS4A1', 'CD8A', 'CD8B', 'LYZ', 'CD14',\n",
    "                'LGALS3', 'S100A8', 'GNLY', 'NKG7', 'KLRB1',\n",
    "                'FCGR3A', 'MS4A7', 'FCER1A', 'CST3', 'PPBP']"
   ]
  },
  {
   "cell_type": "markdown",
   "metadata": {
    "colab_type": "text",
    "id": "yGAlNCcZo_Ss"
   },
   "source": [
    "**Tasks:** Annotate the clusters. \n",
    "Check briefly, if all marker genes are present in the dataset and visualise the marker genes in a UMAP (or another visualisation of your choice).\n",
    "You can use auxiliary plots like `matrixplot`, `dotplot`, `heatmap` or `violin` plots or coloring an embedding (e.g. UMAP, t-SNE, FA) by the marker genes."
   ]
  },
  {
   "cell_type": "markdown",
   "metadata": {
    "colab_type": "text",
    "id": "A9Gn_x2co_Ss"
   },
   "source": [
    "Let us check if the marker genes are expressed in our dataset."
   ]
  },
  {
   "cell_type": "code",
   "execution_count": null,
   "metadata": {
    "colab": {},
    "colab_type": "code",
    "id": "RrVOSAA5o_Ss"
   },
   "outputs": [],
   "source": [
    "np.in1d(marker_genes, adata.var_names)"
   ]
  },
  {
   "cell_type": "code",
   "execution_count": null,
   "metadata": {
    "colab": {},
    "colab_type": "code",
    "id": "Y-GRjbWCo_St"
   },
   "outputs": [],
   "source": [
    "#plots"
   ]
  },
  {
   "cell_type": "code",
   "execution_count": null,
   "metadata": {
    "colab": {},
    "colab_type": "code",
    "id": "jGhFgnd5o_Sv"
   },
   "outputs": [],
   "source": [
    "sc.pl.dotplot(adata=, \n",
    "              var_names =,\n",
    "              groupby=, \n",
    "              use_raw=False)"
   ]
  },
  {
   "cell_type": "code",
   "execution_count": null,
   "metadata": {
    "colab": {},
    "colab_type": "code",
    "id": "GaPgrbVjo_Sw"
   },
   "outputs": [],
   "source": [
    "sc.pl.heatmap(adata=, var_names=, \n",
    "              figsize=(5,10),\n",
    "              groupby=, \n",
    "              use_raw=False, vmin=0)"
   ]
  },
  {
   "cell_type": "code",
   "execution_count": null,
   "metadata": {
    "colab": {},
    "colab_type": "code",
    "id": "6beKzAl3o_Sy"
   },
   "outputs": [],
   "source": [
    "sc.pl.matrixplot(adata=, var_names=,\n",
    "                 groupby=, \n",
    "                 use_raw=False, vmin=0)"
   ]
  },
  {
   "cell_type": "code",
   "execution_count": null,
   "metadata": {
    "colab": {},
    "colab_type": "code",
    "id": "ql4q8CQUo_Sz"
   },
   "outputs": [],
   "source": [
    "sc.pl.stacked_violin(adata = ,var_names = , groupby=, \n",
    "                     use_raw=False)"
   ]
  },
  {
   "cell_type": "markdown",
   "metadata": {
    "colab_type": "text",
    "id": "7UyXnm-Eo_S4"
   },
   "source": [
    "Annotate clusters and create a new covariate.\n",
    "\n",
    "\n",
    "|Cluster ID|Marker Gene|Cell Type|\n",
    "|---------|-------|-------|\n",
    "||IL7R|CD4 T cells|\n",
    "||CD14, LYZ|CD14+ Monocytes|\n",
    "||MS4A1|B cells|\n",
    "||CD8A|CD8 T cells|\n",
    "||FCGR3A, MS4A7|FCGR3A+ Monocytes|\n",
    "||GNLY, NKG7|NK cells|\n",
    "||FCER1A, CST3|Dendritic Cells|\n",
    "||PPBP|Megakaryocytes|"
   ]
  },
  {
   "cell_type": "markdown",
   "metadata": {
    "colab_type": "text",
    "id": "1VlcFhZTo_S4"
   },
   "source": [
    "Use the `pandas` data frame functionality to rename your clusters and visualize your annotation."
   ]
  },
  {
   "cell_type": "code",
   "execution_count": null,
   "metadata": {
    "colab": {},
    "colab_type": "code",
    "id": "p_S_EJ9Zo_S4"
   },
   "outputs": [],
   "source": [
    "adata.obs['annotated'] = adata.obs['louvain_r1.5'].cat.add_categories(['CD4 T cells', \n",
    "                        'CD14+ Monocytes', 'B cells', 'CD8 T cells', \n",
    "                        'FCGR3A+ Monocytes', 'NK cells', 'Dendritic cells', 'Megakaryocytes'])\n",
    "\n",
    "adata.obs['annotated'][np.in1d(adata.obs['annotated'], [ #add cluster name here (as string)    \n",
    "                                                            ])] = 'CD4 T cells'\n",
    "adata.obs['annotated'][np.in1d(adata.obs['annotated'], [])] = 'CD14+ Monocytes'\n",
    "adata.obs['annotated'][np.in1d(adata.obs['annotated'], [])] = 'B cells'\n",
    "adata.obs['annotated'][np.in1d(adata.obs['annotated'], [])] = 'CD8 T cells'\n",
    "adata.obs['annotated'][np.in1d(adata.obs['annotated'], [])] = 'FCGR3A+ Monocytes'\n",
    "adata.obs['annotated'][np.in1d(adata.obs['annotated'], [])] = 'NK cells'\n",
    "adata.obs['annotated'][np.in1d(adata.obs['annotated'], [])] = 'Dendritic cells'\n",
    "adata.obs['annotated'][np.in1d(adata.obs['annotated'], [])] = 'Megakaryocytes'\n",
    "\n",
    "#remove unused categories from annotation\n",
    "adata.obs['annotated'] = adata.obs['annotated'].cat.remove_unused_categories()"
   ]
  },
  {
   "cell_type": "code",
   "execution_count": null,
   "metadata": {
    "colab": {},
    "colab_type": "code",
    "id": "TTVBzN2Uo_S7"
   },
   "outputs": [],
   "source": [
    "adata.obs['annotated'].value_counts()"
   ]
  },
  {
   "cell_type": "markdown",
   "metadata": {
    "colab_type": "text",
    "id": "Rtsrx4wMo_S8"
   },
   "source": [
    "**Task:** Visualise your annotation on a UMAP as well as in a `matrixplot`, `dotplot`, `heatmap` or `violin` plots."
   ]
  },
  {
   "cell_type": "code",
   "execution_count": null,
   "metadata": {
    "colab": {},
    "colab_type": "code",
    "id": "xX1GDV86o_S8"
   },
   "outputs": [],
   "source": [
    "sc.pl.umap(adata, color='annotated', legend_loc='on data', title='', frameon=False)\n",
    "sc.pl.umap(adata, color='annotated',  title='', frameon=True)"
   ]
  },
  {
   "cell_type": "code",
   "execution_count": null,
   "metadata": {
    "colab": {},
    "colab_type": "code",
    "id": "rmInx2sQo_S9"
   },
   "outputs": [],
   "source": [
    "sc.pl.dotplot(adata=, \n",
    "              var_names =,\n",
    "              groupby=, \n",
    "              use_raw=False)"
   ]
  },
  {
   "cell_type": "code",
   "execution_count": null,
   "metadata": {
    "colab": {},
    "colab_type": "code",
    "id": "lFQl5c6Co_S-"
   },
   "outputs": [],
   "source": [
    "sc.pl.heatmap(adata=, var_names=, \n",
    "              figsize=(5,10),\n",
    "              groupby=, \n",
    "              use_raw=False, vmin=0)"
   ]
  },
  {
   "cell_type": "code",
   "execution_count": null,
   "metadata": {
    "colab": {},
    "colab_type": "code",
    "id": "2fa6m3qLo_S_"
   },
   "outputs": [],
   "source": [
    "sc.pl.matrixplot(adata = , \n",
    "                 var_names = , \n",
    "                 groupby= , \n",
    "                 use_raw=False, vmin=0)"
   ]
  },
  {
   "cell_type": "code",
   "execution_count": null,
   "metadata": {
    "colab": {},
    "colab_type": "code",
    "id": "O9DL50-0o_TA"
   },
   "outputs": [],
   "source": [
    "sc.pl.stacked_violin(adata=   , \n",
    "                     var_names=   , \n",
    "                     groupby=    , \n",
    "                     use_raw=False)"
   ]
  },
  {
   "cell_type": "markdown",
   "metadata": {
    "colab_type": "text",
    "id": "Y1xjuyCFo_TB"
   },
   "source": [
    "### Inspect subpopulations of B cells"
   ]
  },
  {
   "cell_type": "markdown",
   "metadata": {
    "colab_type": "text",
    "id": "7Bh8fBg6o_TB"
   },
   "source": [
    "Let us determine the differences in the B cell clusters by differential expression. Subcluster the B cells first."
   ]
  },
  {
   "cell_type": "code",
   "execution_count": null,
   "metadata": {
    "colab": {},
    "colab_type": "code",
    "id": "a350cIRco_TB"
   },
   "outputs": [],
   "source": [
    "sc.tl.louvain(adata, resolution=0.2, restrict_to = ['annotated',['B cells']], key_added='louvain_R')"
   ]
  },
  {
   "cell_type": "code",
   "execution_count": null,
   "metadata": {
    "colab": {},
    "colab_type": "code",
    "id": "g_6c2jVFo_TC"
   },
   "outputs": [],
   "source": [
    "rcParams['figure.figsize']= (5,5)\n",
    "sc.pl.umap(adata, color='louvain_R')"
   ]
  },
  {
   "cell_type": "code",
   "execution_count": null,
   "metadata": {
    "colab": {},
    "colab_type": "code",
    "id": "B-aJxBYbo_TD"
   },
   "outputs": [],
   "source": [
    "sc.tl.rank_genes_groups(adata = adata, groupby='louvain_R', groups= ['B cells,1'], reference='B cells,0', rankby_abs=True)"
   ]
  },
  {
   "cell_type": "code",
   "execution_count": null,
   "metadata": {
    "colab": {},
    "colab_type": "code",
    "id": "D5cQ2mFWo_TF"
   },
   "outputs": [],
   "source": [
    "rcParams['figure.figsize']=(10,5)\n",
    "sc.pl.rank_genes_groups(adata, size=10, n_genes=40)"
   ]
  },
  {
   "cell_type": "code",
   "execution_count": null,
   "metadata": {
    "colab": {},
    "colab_type": "code",
    "id": "0Fd7Mt0mo_TG"
   },
   "outputs": [],
   "source": [
    "sc.pl.rank_genes_groups_violin(adata, groups='B cells,1', n_genes=10, use_raw=False)"
   ]
  },
  {
   "cell_type": "markdown",
   "metadata": {
    "colab_type": "text",
    "id": "PVfGFYSqo_TH"
   },
   "source": [
    "Here, the B cell populations differ in B cell activation markers such as TCL1A and IL4R. Interestingly, the `B cells,1` population is almost exclusively positive for the *IGKC* gene. The *IGKC* gene was found to be predictive for cancer prognosis.\n",
    "Potentially, `B cells,1` are activated B cells and `B cells,0` are resting, but we have to look at more markers to make the distinction. "
   ]
  },
  {
   "cell_type": "markdown",
   "metadata": {
    "colab_type": "text",
    "id": "9AOh5fXBo_TH"
   },
   "source": [
    "### Compute a PAGA for PBMCs"
   ]
  },
  {
   "cell_type": "markdown",
   "metadata": {
    "colab_type": "text",
    "id": "Knl5rY-fo_TH"
   },
   "source": [
    "We aim to find relations between the respective cell types based on the knn graph with partition-based graph abstraction (PAGA). "
   ]
  },
  {
   "cell_type": "markdown",
   "metadata": {
    "colab_type": "text",
    "id": "-KtUmopSo_TI"
   },
   "source": [
    "Compute PAGA on the cluster annotation and plot the graph (note: use the plot function `paga_compare`)."
   ]
  },
  {
   "cell_type": "code",
   "execution_count": null,
   "metadata": {
    "colab": {},
    "colab_type": "code",
    "id": "vhMsIkm1o_TI"
   },
   "outputs": [],
   "source": [
    "sc.tl.paga(adata = adata, groups='annotated')"
   ]
  },
  {
   "cell_type": "code",
   "execution_count": null,
   "metadata": {
    "colab": {},
    "colab_type": "code",
    "id": "llzFlvC-o_TJ"
   },
   "outputs": [],
   "source": [
    "rcParams['figure.figsize']=(7,7)\n",
    "sc.pl.paga_compare(adata = adata, basis='umap', frameon=True)"
   ]
  },
  {
   "cell_type": "markdown",
   "metadata": {
    "colab_type": "text",
    "id": "7uG3sEGJo_TP"
   },
   "source": [
    "## Save annotated data to file"
   ]
  },
  {
   "cell_type": "markdown",
   "metadata": {
    "colab_type": "text",
    "id": "-i_l9Ivqo_TP"
   },
   "source": [
    "At this point, we have finished the data annotation. This represents another milestone in the data analysis of single cell data. Once the annotation is finished, we won't have to touch this part of the analysis again.   "
   ]
  },
  {
   "cell_type": "code",
   "execution_count": null,
   "metadata": {
    "colab": {},
    "colab_type": "code",
    "id": "D6P8qkl1o_TP"
   },
   "outputs": [],
   "source": [
    "adata.write(data_dir + 'data_processed.h5ad')"
   ]
  },
  {
   "cell_type": "markdown",
   "metadata": {
    "colab_type": "text",
    "id": "NiH6ZGWno_TR"
   },
   "source": [
    "## Pseudotime on Monocytes"
   ]
  },
  {
   "cell_type": "markdown",
   "metadata": {
    "colab_type": "text",
    "id": "0Vy0spPUo_TR"
   },
   "source": [
    "In this section, we want to explore a potential transition of CD14+ and FCGR3A+ Monocytes."
   ]
  },
  {
   "cell_type": "code",
   "execution_count": null,
   "metadata": {
    "colab": {},
    "colab_type": "code",
    "id": "wcC4ZuExo_TR"
   },
   "outputs": [],
   "source": [
    "adata = sc.read(data_dir + 'data_processed.h5ad')"
   ]
  },
  {
   "cell_type": "markdown",
   "metadata": {
    "colab_type": "text",
    "id": "ET80KrD9o_TS"
   },
   "source": [
    "Select the monocytes."
   ]
  },
  {
   "cell_type": "code",
   "execution_count": null,
   "metadata": {
    "colab": {},
    "colab_type": "code",
    "id": "WYquIPOto_TS"
   },
   "outputs": [],
   "source": [
    "adata_mono = adata[np.in1d(adata.obs['annotated'], \n",
    "                           ['CD14+ Monocytes', 'FCGR3A+ Monocytes'])].copy()"
   ]
  },
  {
   "cell_type": "code",
   "execution_count": null,
   "metadata": {
    "colab": {},
    "colab_type": "code",
    "id": "kpZ9Bpsko_TT"
   },
   "outputs": [],
   "source": [
    "adata_mono"
   ]
  },
  {
   "cell_type": "markdown",
   "metadata": {
    "colab_type": "text",
    "id": "xXVKnMjzo_TT"
   },
   "source": [
    "Compute a diffusion pseudotime (DPT). Note: Fix a root cell as `adata.uns['iroot']` first. Visualize the pseudotime on the embedding. Compute the differentially expressed genes between the two subgroups and visualize the expression of 20 top differentially expressed genes along pseudotime."
   ]
  },
  {
   "cell_type": "code",
   "execution_count": null,
   "metadata": {
    "colab": {},
    "colab_type": "code",
    "id": "2lqg40oWo_TT"
   },
   "outputs": [],
   "source": [
    "sc.tl.pca(adata_mono, svd_solver='arpack')\n",
    "sc.pp.neighbors(adata_mono)"
   ]
  },
  {
   "cell_type": "markdown",
   "metadata": {
    "colab_type": "text",
    "id": "lCAesBKco_TU"
   },
   "source": [
    "Convert UMAP indices to arrays."
   ]
  },
  {
   "cell_type": "code",
   "execution_count": null,
   "metadata": {
    "colab": {},
    "colab_type": "code",
    "id": "3S42-53Vo_TU"
   },
   "outputs": [],
   "source": [
    "umap_0 = [term[0] for term in adata_mono.obsm['X_umap']]\n",
    "umap_1 = [term[1] for term in adata_mono.obsm['X_umap']]"
   ]
  },
  {
   "cell_type": "markdown",
   "metadata": {
    "colab_type": "text",
    "id": "XuuH7OR0Dy0M"
   },
   "source": [
    "**Task:** Plot UMAP for `adata_mono` and color by cell type."
   ]
  },
  {
   "cell_type": "code",
   "execution_count": null,
   "metadata": {
    "colab": {},
    "colab_type": "code",
    "id": "V6N4LohmD7dC"
   },
   "outputs": [],
   "source": [
    "#plot UMAP"
   ]
  },
  {
   "cell_type": "markdown",
   "metadata": {
    "colab_type": "text",
    "id": "R4M1aIx5o_TV"
   },
   "source": [
    "Set root cell to the cell with the largest value in the second UMAP component and compute DPT. We chose the root cell as one cell of the *FCGR3A+ monocytes*."
   ]
  },
  {
   "cell_type": "code",
   "execution_count": null,
   "metadata": {
    "colab": {},
    "colab_type": "code",
    "id": "Jlr0HH4vo_TV"
   },
   "outputs": [],
   "source": [
    "adata_mono.uns['iroot'] = np.flatnonzero(umap_1== max(umap_1))[0]\n",
    "sc.tl.dpt(adata = adata_mono)"
   ]
  },
  {
   "cell_type": "markdown",
   "metadata": {
    "colab_type": "text",
    "id": "p6hRR6jDo_TW"
   },
   "source": [
    "Visualise DPT on a UMAP and on a diffusion map."
   ]
  },
  {
   "cell_type": "code",
   "execution_count": null,
   "metadata": {
    "colab": {},
    "colab_type": "code",
    "id": "AH5Akthyo_TW"
   },
   "outputs": [],
   "source": [
    "rcParams['figure.figsize']=(7,7)\n",
    "sc.pl.umap(adata_mono, color=['dpt_pseudotime', 'annotated'])"
   ]
  },
  {
   "cell_type": "code",
   "execution_count": null,
   "metadata": {
    "colab": {},
    "colab_type": "code",
    "id": "VZS0MOato_TX"
   },
   "outputs": [],
   "source": [
    "rcParams['figure.figsize']=(7,7)\n",
    "sc.pl.diffmap(adata_mono, color=['dpt_pseudotime', 'annotated'], components=['1,2'])\n",
    "sc.pl.diffmap(adata_mono, color=['dpt_pseudotime', 'annotated'], components=['1,3'])"
   ]
  },
  {
   "cell_type": "markdown",
   "metadata": {
    "colab_type": "text",
    "id": "WYiSfZxNo_TX"
   },
   "source": [
    "Run a differential test on the two groups of monocytes in order to determine characteristic genes.  "
   ]
  },
  {
   "cell_type": "code",
   "execution_count": null,
   "metadata": {
    "colab": {},
    "colab_type": "code",
    "id": "vJ_eFSYwo_TX"
   },
   "outputs": [],
   "source": [
    "sc.tl.rank_genes_groups(adata_mono, groupby='annotated', \n",
    "                        groups= ['FCGR3A+ Monocytes'], reference='CD14+ Monocytes', rankby_abs=True)"
   ]
  },
  {
   "cell_type": "code",
   "execution_count": null,
   "metadata": {
    "colab": {},
    "colab_type": "code",
    "id": "f4Fu3uWXo_TY"
   },
   "outputs": [],
   "source": [
    "rcParams['figure.figsize']=(10,5)\n",
    "sc.pl.rank_genes_groups(adata_mono, size=10, n_genes=30)"
   ]
  },
  {
   "cell_type": "code",
   "execution_count": null,
   "metadata": {
    "colab": {},
    "colab_type": "code",
    "id": "ikBKPHcGo_TZ"
   },
   "outputs": [],
   "source": [
    "rcParams['figure.figsize']= (15,5)\n",
    "sc.pl.rank_genes_groups_violin(adata_mono, use_raw=False)"
   ]
  },
  {
   "cell_type": "code",
   "execution_count": null,
   "metadata": {
    "colab": {},
    "colab_type": "code",
    "id": "X6BNa7oKo_Ta"
   },
   "outputs": [],
   "source": [
    "mono_genes = [idx[1][0] for idx in enumerate(adata_mono.uns['rank_genes_groups']['names'])]\n"
   ]
  },
  {
   "cell_type": "markdown",
   "metadata": {
    "colab_type": "text",
    "id": "dPRr0NgKo_Tb"
   },
   "source": [
    "In order to visualise the gene expression along pseudotime, we have to compute PAGA for the two groups of monocytes."
   ]
  },
  {
   "cell_type": "code",
   "execution_count": null,
   "metadata": {
    "colab": {},
    "colab_type": "code",
    "id": "6W87XF5So_Tb"
   },
   "outputs": [],
   "source": [
    "sc.tl.paga(adata_mono, groups='annotated')"
   ]
  },
  {
   "cell_type": "markdown",
   "metadata": {
    "colab_type": "text",
    "id": "l1iy4gijo_Tc"
   },
   "source": [
    "Modify the format of the data matrix, because `paga_path` takes only dense matrices (in this `scanpy` version)."
   ]
  },
  {
   "cell_type": "code",
   "execution_count": null,
   "metadata": {
    "colab": {},
    "colab_type": "code",
    "id": "AWTg77Eno_Tc"
   },
   "outputs": [],
   "source": [
    "adata_mono.X = adata_mono.X.todense()"
   ]
  },
  {
   "cell_type": "code",
   "execution_count": null,
   "metadata": {
    "colab": {},
    "colab_type": "code",
    "id": "zGZPnzhzo_Tc"
   },
   "outputs": [],
   "source": [
    "rcParams['figure.figsize']=(20,10)\n",
    "sc.pl.paga_path(adata_mono, nodes=['FCGR3A+ Monocytes','CD14+ Monocytes'], \n",
    "                keys=mono_genes[:25],n_avg=10, use_raw=False, save='_monocyte_transition.pdf')"
   ]
  },
  {
   "cell_type": "markdown",
   "metadata": {
    "colab_type": "text",
    "id": "IIS9zyoeo_Td"
   },
   "source": [
    "**Comment:** End of fourth session."
   ]
  }
 ],
 "metadata": {
  "colab": {
   "name": "10X_PBMC-GColab-day1.ipynb",
   "provenance": []
  },
  "kernelspec": {
   "display_name": "Python 3",
   "language": "python",
   "name": "python3"
  },
  "language_info": {
   "codemirror_mode": {
    "name": "ipython",
    "version": 3
   },
   "file_extension": ".py",
   "mimetype": "text/x-python",
   "name": "python",
   "nbconvert_exporter": "python",
   "pygments_lexer": "ipython3",
   "version": "3.7.7"
  },
  "toc": {
   "toc_cell": false,
   "toc_number_sections": true,
   "toc_threshold": 6,
   "toc_window_display": false
  },
  "toc-autonumbering": true,
  "toc-showcode": false,
  "toc-showmarkdowntxt": false
 },
 "nbformat": 4,
 "nbformat_minor": 4
}
