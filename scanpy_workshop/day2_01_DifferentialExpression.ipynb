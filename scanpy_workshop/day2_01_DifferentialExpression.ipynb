{
 "cells": [
  {
   "cell_type": "code",
   "execution_count": 1,
   "metadata": {},
   "outputs": [
    {
     "name": "stderr",
     "output_type": "stream",
     "text": [
      "/opt/python/lib/python3.7/site-packages/anndata/_core/anndata.py:21: FutureWarning: pandas.core.index is deprecated and will be removed in a future version.  The public classes are available in the top-level namespace.\n",
      "  from pandas.core.index import RangeIndex\n"
     ]
    }
   ],
   "source": [
    "import scanpy as sc\n",
    "import anndata as ann\n",
    "import numpy as np\n",
    "import scipy as sp\n",
    "import pandas as pd\n",
    "import matplotlib.pyplot as plt\n",
    "from matplotlib import rcParams\n",
    "from matplotlib import colors\n",
    "\n",
    "import os \n",
    "#doublet detection\n",
    "import scrublet as scr\n",
    "#batch correction (not installed by default in the docker container, install via command line: pip install scanorama bbknn)\n",
    "import scanorama as scan\n",
    "#external modules\n",
    "import scanpy.external as sce\n",
    "#pretty plotting\n",
    "import seaborn as sb\n",
    "#gene set enrichment analysis\n",
    "from gprofiler import GProfiler\n",
    "#R interface\n",
    "#import rpy2.rinterface_lib.callbacks\n",
    "import logging\n",
    "\n",
    "#from rpy2.robjects import pandas2ri\n",
    "#import anndata2ri\n"
   ]
  },
  {
   "cell_type": "code",
   "execution_count": 2,
   "metadata": {},
   "outputs": [
    {
     "name": "stdout",
     "output_type": "stream",
     "text": [
      "scanpy==1.5.1 anndata==0.7.1 umap==0.4.0 numpy==1.18.2 scipy==1.4.1 pandas==1.0.3 scikit-learn==0.22.2.post1 statsmodels==0.11.1 python-igraph==0.8.2 louvain==0.6.1 leidenalg==0.7.0\n"
     ]
    }
   ],
   "source": [
    "\n",
    "plt.rcParams['figure.figsize']=(8,8) #rescale figures\n",
    "sc.settings.verbosity = 3\n",
    "#sc.set_figure_params(dpi=200, dpi_save=300)\n",
    "sc.logging.print_versions()\n"
   ]
  },
  {
   "cell_type": "markdown",
   "metadata": {},
   "source": [
    "Of note, this notebook was created as part of a workshop, so we use extra large legend texts in all seaborn plots. You can set the context as well to 'talk' or 'paper'."
   ]
  },
  {
   "cell_type": "code",
   "execution_count": 3,
   "metadata": {},
   "outputs": [],
   "source": [
    "sb.set_context(context='poster')\n"
   ]
  },
  {
   "cell_type": "markdown",
   "metadata": {},
   "source": [
    "Load differential expression package 'diffxpy'."
   ]
  },
  {
   "cell_type": "code",
   "execution_count": 5,
   "metadata": {},
   "outputs": [
    {
     "name": "stdout",
     "output_type": "stream",
     "text": [
      "batchglm version v0.7.4\n",
      "diffpy version v0.7.4\n"
     ]
    }
   ],
   "source": [
    "import batchglm.api as glm\n",
    "import diffxpy.api as de\n",
    "\n",
    "print(\"batchglm version \"+glm.__version__)\n",
    "print(\"diffpy version \"+de.__version__)\n",
    "from batchglm.pkg_constants import TF_CONFIG_PROTO"
   ]
  },
  {
   "cell_type": "code",
   "execution_count": 6,
   "metadata": {},
   "outputs": [],
   "source": [
    "#Set number of threads\n",
    "TF_CONFIG_PROTO.inter_op_parallelism_threads = 1\n",
    "TF_CONFIG_PROTO.intra_op_parallelism_threads = 12"
   ]
  },
  {
   "cell_type": "markdown",
   "metadata": {},
   "source": [
    "# Introduction"
   ]
  },
  {
   "cell_type": "markdown",
   "metadata": {},
   "source": [
    "The dataset consists of 12 samples from 3mm2 blocks that were manually dissected from the substantia nigra and cortex of 5 control (4 males & 1 female) de-identified post-mortem human donors,  including 2 substantia nigra (SN) replicates and sequenced using the 10X chromium system (V2) (GEO accession ID: [GSE140231](https://www.ncbi.nlm.nih.gov/geo/query/acc.cgi?acc=GSE140231))."
   ]
  },
  {
   "cell_type": "markdown",
   "metadata": {},
   "source": [
    "In this notebook, we are going to perform differential expression tests using the tool `diffxpy`. Further reading on `diffxpy` and its usage can be found on the (diffxpy github page)[https://github.com/theislab/diffxpy/] and the (tutorial page)[https://github.com/theislab/diffxpy_tutorials/]. This notebook builds upon these tutorials.  \n",
    "\n",
    "Differential expression analysis is a group of statistical tests that are used to establish whether there a exists a significant variation across a set of tested conditions for each gene. In its easiset form, this test can test for the difference between two distinct groups: This scenario can be handled with (Welch's) T-test, rank sum tests or Wald and likelihood ratio tests (LRT). Wald tests and LRT allow for more adaptive assumptions on the noise model and can therefore be more statistically correct. Moreover, they also allow the testing of more complex effect, e.g. for the variation across many groups (a single p-value for: Is there any difference between four conditions?) or across continuous covariates (a single covariate for: Is a gene expression trajectory in time non-constant?). Below, we introduce these and similar scenarios. We dedicated separate tutorials to a selection of scenarios that require a longer introduction.\n",
    "\n",
    "Importantly, we assume that the groups we are comparing do not differ except for a different condition. For example, we are going to test, if oligodendrocytes, oligodendrocyte precursor cells and astrocytes from substantia nigra and cortex are different. We can consider this a borderline case, because these cells come from different brain regions and the assumption of \"no difference between the two groups\" may not hold. \n",
    "\n",
    "Further, we test if we can see differences in the dopaminergic neurons across donors."
   ]
  },
  {
   "cell_type": "markdown",
   "metadata": {},
   "source": [
    "## Set project file paths"
   ]
  },
  {
   "cell_type": "markdown",
   "metadata": {},
   "source": [
    "We set up the file paths to the respective directories."
   ]
  },
  {
   "cell_type": "code",
   "execution_count": 7,
   "metadata": {},
   "outputs": [],
   "source": [
    "file_path = '/root/host_home/Documents/ICB/Teaching/2007_scanpy_HMGU_presenter/' #this is my file path please adapt it to your directory"
   ]
  },
  {
   "cell_type": "markdown",
   "metadata": {},
   "source": [
    "The data directory contains all processed data and `anndata` files. "
   ]
  },
  {
   "cell_type": "code",
   "execution_count": 8,
   "metadata": {},
   "outputs": [],
   "source": [
    "data_dir = file_path + 'day2/data/' "
   ]
  },
  {
   "cell_type": "markdown",
   "metadata": {},
   "source": [
    "The tables directory contains all tabular data output, e.g. in `.csv` or `.xls` file format. That applies to differential expression test results or overview tables such as the number of cells per cell type."
   ]
  },
  {
   "cell_type": "code",
   "execution_count": 9,
   "metadata": {},
   "outputs": [],
   "source": [
    "table_dir = file_path + 'day2/tables/'"
   ]
  },
  {
   "cell_type": "markdown",
   "metadata": {},
   "source": [
    "The default figure path is a POSIX path calles 'figures'. If you don't change the default figure directory, scanpy creates a subdirectory where this notebook is located.  "
   ]
  },
  {
   "cell_type": "code",
   "execution_count": 10,
   "metadata": {},
   "outputs": [],
   "source": [
    "sc.settings.figdir = file_path + 'day2/figures/'"
   ]
  },
  {
   "cell_type": "markdown",
   "metadata": {},
   "source": [
    "**Comment:** When you repeat certain analyses, it might be helpful to set a `date` variable and add it to every figure and table (see `datetime` Python package)."
   ]
  },
  {
   "cell_type": "markdown",
   "metadata": {},
   "source": [
    "# Read data"
   ]
  },
  {
   "cell_type": "markdown",
   "metadata": {},
   "source": [
    "We read in the annotated dataset. As a reminder, the `anndata` object contains (amongst others):\n",
    "1. The raw counts as 'counts' layer. \n",
    "2. Normalised gene expression values (log-scran normalised) as `X` matrix\n",
    "3. Cell type annotation\n",
    "4. Size factors "
   ]
  },
  {
   "cell_type": "code",
   "execution_count": 11,
   "metadata": {},
   "outputs": [],
   "source": [
    "adata = sc.read(data_dir + 'data_processed.h5ad')"
   ]
  },
  {
   "cell_type": "code",
   "execution_count": 12,
   "metadata": {},
   "outputs": [
    {
     "data": {
      "text/plain": [
       "AnnData object with n_obs × n_vars = 16069 × 23988 \n",
       "    obs: 'batch', 'donor', 'location', 'replicate', 'n_counts', 'log_counts', 'n_genes', 'mt_frac', 'doublet_score', 'doublet', 'size_factors', 'S_score', 'G2M_score', 'phase', 'louvain_r1.5', 'louvain_r0.5', 'annotated', 'DAN_r'\n",
       "    var: 'gene_ids', 'n_cells', 'highly_variable', 'means', 'dispersions', 'dispersions_norm', 'highly_variable_nbatches', 'highly_variable_intersection'\n",
       "    uns: 'DAN_r_colors', 'annotated_colors', 'astro', 'batch_colors', 'diffmap_evals', 'donor_colors', 'draw_graph', 'location_colors', 'louvain', 'louvain_r0.5_colors', 'louvain_r1.5_colors', 'neighbors', 'pca', 'phase_colors', 'rank_genes_r0.5', 'rank_genes_r1.5', 'replicate_colors', 'umap'\n",
       "    obsm: 'X_diffmap', 'X_draw_graph_fa', 'X_emb', 'X_pca', 'X_tsne', 'X_umap'\n",
       "    varm: 'PCs'\n",
       "    layers: 'counts'"
      ]
     },
     "execution_count": 12,
     "metadata": {},
     "output_type": "execute_result"
    }
   ],
   "source": [
    "adata"
   ]
  },
  {
   "cell_type": "code",
   "execution_count": 13,
   "metadata": {},
   "outputs": [
    {
     "data": {
      "text/html": [
       "<div>\n",
       "<style scoped>\n",
       "    .dataframe tbody tr th:only-of-type {\n",
       "        vertical-align: middle;\n",
       "    }\n",
       "\n",
       "    .dataframe tbody tr th {\n",
       "        vertical-align: top;\n",
       "    }\n",
       "\n",
       "    .dataframe thead th {\n",
       "        text-align: right;\n",
       "    }\n",
       "</style>\n",
       "<table border=\"1\" class=\"dataframe\">\n",
       "  <thead>\n",
       "    <tr style=\"text-align: right;\">\n",
       "      <th>location</th>\n",
       "      <th>SN</th>\n",
       "      <th>C</th>\n",
       "    </tr>\n",
       "    <tr>\n",
       "      <th>annotated</th>\n",
       "      <th></th>\n",
       "      <th></th>\n",
       "    </tr>\n",
       "  </thead>\n",
       "  <tbody>\n",
       "    <tr>\n",
       "      <th>Astrocyte</th>\n",
       "      <td>197</td>\n",
       "      <td>264</td>\n",
       "    </tr>\n",
       "    <tr>\n",
       "      <th>Endothelial cell</th>\n",
       "      <td>37</td>\n",
       "      <td>7</td>\n",
       "    </tr>\n",
       "    <tr>\n",
       "      <th>Excitatory neuron</th>\n",
       "      <td>1</td>\n",
       "      <td>6809</td>\n",
       "    </tr>\n",
       "    <tr>\n",
       "      <th>Inhibitory neuron</th>\n",
       "      <td>29</td>\n",
       "      <td>2647</td>\n",
       "    </tr>\n",
       "    <tr>\n",
       "      <th>Microglia</th>\n",
       "      <td>176</td>\n",
       "      <td>7</td>\n",
       "    </tr>\n",
       "    <tr>\n",
       "      <th>Oligodendrocyte</th>\n",
       "      <td>4483</td>\n",
       "      <td>682</td>\n",
       "    </tr>\n",
       "    <tr>\n",
       "      <th>Oligodendrocyte-precursor cell</th>\n",
       "      <td>293</td>\n",
       "      <td>113</td>\n",
       "    </tr>\n",
       "    <tr>\n",
       "      <th>Purkinje neuron</th>\n",
       "      <td>0</td>\n",
       "      <td>138</td>\n",
       "    </tr>\n",
       "    <tr>\n",
       "      <th>GABAergic neuron</th>\n",
       "      <td>112</td>\n",
       "      <td>1</td>\n",
       "    </tr>\n",
       "    <tr>\n",
       "      <th>Dopaminergic neuron</th>\n",
       "      <td>73</td>\n",
       "      <td>0</td>\n",
       "    </tr>\n",
       "  </tbody>\n",
       "</table>\n",
       "</div>"
      ],
      "text/plain": [
       "location                          SN     C\n",
       "annotated                                 \n",
       "Astrocyte                        197   264\n",
       "Endothelial cell                  37     7\n",
       "Excitatory neuron                  1  6809\n",
       "Inhibitory neuron                 29  2647\n",
       "Microglia                        176     7\n",
       "Oligodendrocyte                 4483   682\n",
       "Oligodendrocyte-precursor cell   293   113\n",
       "Purkinje neuron                    0   138\n",
       "GABAergic neuron                 112     1\n",
       "Dopaminergic neuron               73     0"
      ]
     },
     "execution_count": 13,
     "metadata": {},
     "output_type": "execute_result"
    }
   ],
   "source": [
    "pd.crosstab(adata.obs['annotated'], adata.obs['location'])"
   ]
  },
  {
   "cell_type": "code",
   "execution_count": 14,
   "metadata": {},
   "outputs": [],
   "source": [
    "adata_new = ann.AnnData(X=adata.layers['counts'], obs=adata.obs, var=adata.var, obsm=adata.obsm, varm=adata.varm, uns= adata.uns)"
   ]
  },
  {
   "cell_type": "code",
   "execution_count": 32,
   "metadata": {},
   "outputs": [],
   "source": [
    "adata_new.raw = adata"
   ]
  },
  {
   "cell_type": "code",
   "execution_count": 36,
   "metadata": {},
   "outputs": [
    {
     "data": {
      "text/plain": [
       "Index(['RP11-34P13.3', 'RP11-34P13.7', 'FO538757.2', 'AP006222.2',\n",
       "       'RP4-669L17.10', 'RP5-857K21.4', 'RP5-857K21.2', 'RP11-206L10.9',\n",
       "       'FAM41C', 'RP11-54O7.3',\n",
       "       ...\n",
       "       'MT-ND5', 'MT-ND6', 'MT-CYB', 'AC011043.1', 'AL592183.1', 'AC007325.4',\n",
       "       'AC007325.2', 'AL354822.1', 'AC004556.1', 'AC240274.1'],\n",
       "      dtype='object', length=23988)"
      ]
     },
     "execution_count": 36,
     "metadata": {},
     "output_type": "execute_result"
    }
   ],
   "source": [
    "adata_new.raw"
   ]
  },
  {
   "cell_type": "code",
   "execution_count": 15,
   "metadata": {},
   "outputs": [],
   "source": [
    "adata_new.write(data_dir + 'counts_only.h5ad')"
   ]
  },
  {
   "cell_type": "markdown",
   "metadata": {},
   "source": [
    "# Test a single coefficient"
   ]
  },
  {
   "cell_type": "markdown",
   "metadata": {},
   "source": [
    "The test of a single coefficient is the easiest differential expression test one can imagine, the comparison of two groups is a sub-scenario of this case.\n",
    "\n",
    "In our case, testing differences of astrocytes from **cortex** and **substantia nigra** falls into this category.\n",
    "\n",
    "## Run differential expression test for two groups\n",
    "\n",
    "We first tackle this scenario with a Wald test. The Wald test checks if a certain coefficient introduces a significant difference in the expression of a gene.\n",
    "\n",
    "It needs a formula which describes the setup of the model and the factor of the formula `factor_loc_totest` which should be tested.\n",
    "\n",
    "Usually, this factor divides the samples into two groups, e.g. `condition 0` and `condition 1`. In this case, `diffxpy` chooses automatically the coefficient to test. If there are more than two groups specified by the factor, the coefficient which should be tested has to be set manually by specifying `coef_totest`. This coefficient should refer to one of the groups specified by `factor_loc_totest`, e.g. `condition 1`."
   ]
  },
  {
   "cell_type": "code",
   "execution_count": null,
   "metadata": {},
   "outputs": [],
   "source": [
    "sc.pl.umap(adata, color=['annotated', 'location'])"
   ]
  },
  {
   "cell_type": "markdown",
   "metadata": {},
   "source": [
    "Prepare test data."
   ]
  },
  {
   "cell_type": "code",
   "execution_count": 22,
   "metadata": {},
   "outputs": [],
   "source": [
    "#select astrocytes\n",
    "adata_astro = adata[adata.obs['annotated'] == 'Astrocyte'].copy() "
   ]
  },
  {
   "cell_type": "code",
   "execution_count": null,
   "metadata": {},
   "outputs": [],
   "source": [
    "adata_astro.obs['location'].value_counts()"
   ]
  },
  {
   "cell_type": "code",
   "execution_count": null,
   "metadata": {},
   "outputs": [],
   "source": [
    "adata_astro"
   ]
  },
  {
   "cell_type": "markdown",
   "metadata": {},
   "source": [
    "Run the test on the count data. It must be noted that the `counts` layer does not contain the sample description nor gene names."
   ]
  },
  {
   "cell_type": "code",
   "execution_count": null,
   "metadata": {},
   "outputs": [],
   "source": [
    "test = de.test.wald(\n",
    "    data=adata_astro.layers['counts'],\n",
    "    formula_loc=\"~ 1 + location\",\n",
    "    factor_loc_totest=\"location\",\n",
    "    gene_names=adata_astro.var_names,\n",
    "    sample_description=adata_astro.obs\n",
    ")"
   ]
  },
  {
   "cell_type": "markdown",
   "metadata": {},
   "source": [
    "Obtain results."
   ]
  },
  {
   "cell_type": "markdown",
   "metadata": {},
   "source": [
    "\n",
    "`test.summary()` returns a `pandas` `DataFrame` with a quick overview of the test results."
   ]
  },
  {
   "cell_type": "code",
   "execution_count": null,
   "metadata": {},
   "outputs": [],
   "source": [
    "#view first 10 results\n",
    "test.summary().iloc[:10,:]"
   ]
  },
  {
   "cell_type": "markdown",
   "metadata": {},
   "source": [
    "Table column description:\n",
    "* gene: gene name / identifier\n",
    "* pval: p-value of the gene\n",
    "* qval: multiple testing - corrected p-value of the gene\n",
    "* log2fc: log_2 fold change between no coefficient and coefficient\n",
    "* grad: the gradient of the gene's log-likelihood\n",
    "* coef_mle the maximum-likelihood estimate of the coefficient in liker-space\n",
    "* coef_sd the standard deviation of the coefficient in liker-space\n",
    "* ll: the log-likelihood of the estimation"
   ]
  },
  {
   "cell_type": "markdown",
   "metadata": {},
   "source": [
    "Order test results by q-value:"
   ]
  },
  {
   "cell_type": "code",
   "execution_count": null,
   "metadata": {},
   "outputs": [],
   "source": [
    "test.summary().sort_values('qval').iloc[:10,:]"
   ]
  },
  {
   "cell_type": "markdown",
   "metadata": {},
   "source": [
    "`test.plot_volcano()` creates a volcano plot of p-values vs. fold-change:"
   ]
  },
  {
   "cell_type": "code",
   "execution_count": null,
   "metadata": {},
   "outputs": [],
   "source": [
    "test.plot_volcano(corrected_pval=True, min_fc=1.05, alpha=10e-5, size=20)"
   ]
  },
  {
   "cell_type": "markdown",
   "metadata": {},
   "source": [
    "Save results to file."
   ]
  },
  {
   "cell_type": "code",
   "execution_count": null,
   "metadata": {},
   "outputs": [],
   "source": [
    "test.summary().to_csv(table_dir + 'test_astrocytes.csv')"
   ]
  },
  {
   "cell_type": "markdown",
   "metadata": {},
   "source": [
    "**Comment:** Apart from Wald tests, `diffxpy` provides the following hypothesis tests: \n",
    "* Welch's t-test (see `de.test.t_test()`) \n",
    "* Rank sum test (see `de.test.rank_test()`)\n",
    "* Likelihood-ratio test (LRT) (see `de.test.lrt()`)"
   ]
  },
  {
   "cell_type": "markdown",
   "metadata": {},
   "source": [
    "**Tasks:** \n",
    "* Extract the significant differentially expressed genes from the `test.summary()` table and split the list into higher expressed in cortex and higher expressed in substantia nigra. \n",
    "* Filter for a minimum mean expression of `0.05` (or choose your own threshold). \n",
    "* Visualise your top 10 DE genes in a heatmap/matrixplot/dotplot. "
   ]
  },
  {
   "cell_type": "code",
   "execution_count": 16,
   "metadata": {},
   "outputs": [],
   "source": [
    "test_summary = pd.read_csv(table_dir + 'test_MB_astrocytes.csv', index_col=0)"
   ]
  },
  {
   "cell_type": "code",
   "execution_count": 17,
   "metadata": {},
   "outputs": [
    {
     "data": {
      "text/html": [
       "<div>\n",
       "<style scoped>\n",
       "    .dataframe tbody tr th:only-of-type {\n",
       "        vertical-align: middle;\n",
       "    }\n",
       "\n",
       "    .dataframe tbody tr th {\n",
       "        vertical-align: top;\n",
       "    }\n",
       "\n",
       "    .dataframe thead th {\n",
       "        text-align: right;\n",
       "    }\n",
       "</style>\n",
       "<table border=\"1\" class=\"dataframe\">\n",
       "  <thead>\n",
       "    <tr style=\"text-align: right;\">\n",
       "      <th></th>\n",
       "      <th>gene</th>\n",
       "      <th>pval</th>\n",
       "      <th>qval</th>\n",
       "      <th>log2fc</th>\n",
       "      <th>mean</th>\n",
       "      <th>zero_mean</th>\n",
       "      <th>grad</th>\n",
       "      <th>coef_mle</th>\n",
       "      <th>coef_sd</th>\n",
       "      <th>ll</th>\n",
       "    </tr>\n",
       "  </thead>\n",
       "  <tbody>\n",
       "    <tr>\n",
       "      <th>0</th>\n",
       "      <td>RP11-34P13.3</td>\n",
       "      <td>1.000000</td>\n",
       "      <td>1.000000</td>\n",
       "      <td>0.000000</td>\n",
       "      <td>0.000000</td>\n",
       "      <td>True</td>\n",
       "      <td>4.661331e-130</td>\n",
       "      <td>0.000000</td>\n",
       "      <td>6.103423e+63</td>\n",
       "      <td>-1.520688e-127</td>\n",
       "    </tr>\n",
       "    <tr>\n",
       "      <th>1</th>\n",
       "      <td>RP11-34P13.7</td>\n",
       "      <td>0.000000</td>\n",
       "      <td>0.000000</td>\n",
       "      <td>-297.776029</td>\n",
       "      <td>0.006508</td>\n",
       "      <td>False</td>\n",
       "      <td>1.906350e-10</td>\n",
       "      <td>-297.776029</td>\n",
       "      <td>2.222759e-162</td>\n",
       "      <td>-1.320247e+01</td>\n",
       "    </tr>\n",
       "    <tr>\n",
       "      <th>2</th>\n",
       "      <td>FO538757.2</td>\n",
       "      <td>0.047386</td>\n",
       "      <td>0.155946</td>\n",
       "      <td>0.446211</td>\n",
       "      <td>0.214751</td>\n",
       "      <td>False</td>\n",
       "      <td>6.683640e-10</td>\n",
       "      <td>0.446211</td>\n",
       "      <td>2.250368e-01</td>\n",
       "      <td>-2.588135e+02</td>\n",
       "    </tr>\n",
       "    <tr>\n",
       "      <th>3</th>\n",
       "      <td>AP006222.2</td>\n",
       "      <td>0.727419</td>\n",
       "      <td>1.000000</td>\n",
       "      <td>-0.138595</td>\n",
       "      <td>0.056399</td>\n",
       "      <td>False</td>\n",
       "      <td>4.578814e-11</td>\n",
       "      <td>-0.138595</td>\n",
       "      <td>3.976202e-01</td>\n",
       "      <td>-1.013451e+02</td>\n",
       "    </tr>\n",
       "    <tr>\n",
       "      <th>4</th>\n",
       "      <td>RP4-669L17.10</td>\n",
       "      <td>0.817416</td>\n",
       "      <td>1.000000</td>\n",
       "      <td>0.400402</td>\n",
       "      <td>0.006508</td>\n",
       "      <td>False</td>\n",
       "      <td>9.817744e-11</td>\n",
       "      <td>0.400402</td>\n",
       "      <td>1.734314e+00</td>\n",
       "      <td>-1.488392e+01</td>\n",
       "    </tr>\n",
       "    <tr>\n",
       "      <th>...</th>\n",
       "      <td>...</td>\n",
       "      <td>...</td>\n",
       "      <td>...</td>\n",
       "      <td>...</td>\n",
       "      <td>...</td>\n",
       "      <td>...</td>\n",
       "      <td>...</td>\n",
       "      <td>...</td>\n",
       "      <td>...</td>\n",
       "      <td>...</td>\n",
       "    </tr>\n",
       "    <tr>\n",
       "      <th>23983</th>\n",
       "      <td>AC007325.4</td>\n",
       "      <td>0.762739</td>\n",
       "      <td>1.000000</td>\n",
       "      <td>-0.174962</td>\n",
       "      <td>0.036876</td>\n",
       "      <td>False</td>\n",
       "      <td>2.296799e-09</td>\n",
       "      <td>-0.174962</td>\n",
       "      <td>5.795644e-01</td>\n",
       "      <td>-7.049450e+01</td>\n",
       "    </tr>\n",
       "    <tr>\n",
       "      <th>23984</th>\n",
       "      <td>AC007325.2</td>\n",
       "      <td>0.028752</td>\n",
       "      <td>0.101891</td>\n",
       "      <td>0.939398</td>\n",
       "      <td>0.067245</td>\n",
       "      <td>False</td>\n",
       "      <td>3.576053e-03</td>\n",
       "      <td>0.939398</td>\n",
       "      <td>4.295623e-01</td>\n",
       "      <td>-1.109582e+02</td>\n",
       "    </tr>\n",
       "    <tr>\n",
       "      <th>23985</th>\n",
       "      <td>AL354822.1</td>\n",
       "      <td>0.836008</td>\n",
       "      <td>1.000000</td>\n",
       "      <td>-0.292745</td>\n",
       "      <td>0.004338</td>\n",
       "      <td>False</td>\n",
       "      <td>2.408608e-01</td>\n",
       "      <td>-0.292745</td>\n",
       "      <td>1.414214e+00</td>\n",
       "      <td>-1.058014e+01</td>\n",
       "    </tr>\n",
       "    <tr>\n",
       "      <th>23986</th>\n",
       "      <td>AC004556.1</td>\n",
       "      <td>0.000000</td>\n",
       "      <td>0.000000</td>\n",
       "      <td>283.913085</td>\n",
       "      <td>0.004338</td>\n",
       "      <td>False</td>\n",
       "      <td>9.890485e-03</td>\n",
       "      <td>283.913085</td>\n",
       "      <td>2.222759e-162</td>\n",
       "      <td>-2.537550e+01</td>\n",
       "    </tr>\n",
       "    <tr>\n",
       "      <th>23987</th>\n",
       "      <td>AC240274.1</td>\n",
       "      <td>0.447280</td>\n",
       "      <td>0.756100</td>\n",
       "      <td>-0.580427</td>\n",
       "      <td>0.015184</td>\n",
       "      <td>False</td>\n",
       "      <td>1.606656e-02</td>\n",
       "      <td>-0.580427</td>\n",
       "      <td>7.637626e-01</td>\n",
       "      <td>0.000000e+00</td>\n",
       "    </tr>\n",
       "  </tbody>\n",
       "</table>\n",
       "<p>23988 rows × 10 columns</p>\n",
       "</div>"
      ],
      "text/plain": [
       "                gene      pval      qval      log2fc      mean  zero_mean  \\\n",
       "0       RP11-34P13.3  1.000000  1.000000    0.000000  0.000000       True   \n",
       "1       RP11-34P13.7  0.000000  0.000000 -297.776029  0.006508      False   \n",
       "2         FO538757.2  0.047386  0.155946    0.446211  0.214751      False   \n",
       "3         AP006222.2  0.727419  1.000000   -0.138595  0.056399      False   \n",
       "4      RP4-669L17.10  0.817416  1.000000    0.400402  0.006508      False   \n",
       "...              ...       ...       ...         ...       ...        ...   \n",
       "23983     AC007325.4  0.762739  1.000000   -0.174962  0.036876      False   \n",
       "23984     AC007325.2  0.028752  0.101891    0.939398  0.067245      False   \n",
       "23985     AL354822.1  0.836008  1.000000   -0.292745  0.004338      False   \n",
       "23986     AC004556.1  0.000000  0.000000  283.913085  0.004338      False   \n",
       "23987     AC240274.1  0.447280  0.756100   -0.580427  0.015184      False   \n",
       "\n",
       "                grad    coef_mle        coef_sd             ll  \n",
       "0      4.661331e-130    0.000000   6.103423e+63 -1.520688e-127  \n",
       "1       1.906350e-10 -297.776029  2.222759e-162  -1.320247e+01  \n",
       "2       6.683640e-10    0.446211   2.250368e-01  -2.588135e+02  \n",
       "3       4.578814e-11   -0.138595   3.976202e-01  -1.013451e+02  \n",
       "4       9.817744e-11    0.400402   1.734314e+00  -1.488392e+01  \n",
       "...              ...         ...            ...            ...  \n",
       "23983   2.296799e-09   -0.174962   5.795644e-01  -7.049450e+01  \n",
       "23984   3.576053e-03    0.939398   4.295623e-01  -1.109582e+02  \n",
       "23985   2.408608e-01   -0.292745   1.414214e+00  -1.058014e+01  \n",
       "23986   9.890485e-03  283.913085  2.222759e-162  -2.537550e+01  \n",
       "23987   1.606656e-02   -0.580427   7.637626e-01   0.000000e+00  \n",
       "\n",
       "[23988 rows x 10 columns]"
      ]
     },
     "execution_count": 17,
     "metadata": {},
     "output_type": "execute_result"
    }
   ],
   "source": [
    "test_summary"
   ]
  },
  {
   "cell_type": "code",
   "execution_count": 18,
   "metadata": {},
   "outputs": [],
   "source": [
    "test_signif = test_summary.loc[test_summary['qval']<0.05]"
   ]
  },
  {
   "cell_type": "code",
   "execution_count": 19,
   "metadata": {},
   "outputs": [],
   "source": [
    "test_pos = test_signif.loc[test_signif['log2fc']>0]\n",
    "test_neg = test_signif.loc[test_signif['log2fc']<0]"
   ]
  },
  {
   "cell_type": "code",
   "execution_count": 29,
   "metadata": {},
   "outputs": [
    {
     "data": {
      "text/html": [
       "<div>\n",
       "<style scoped>\n",
       "    .dataframe tbody tr th:only-of-type {\n",
       "        vertical-align: middle;\n",
       "    }\n",
       "\n",
       "    .dataframe tbody tr th {\n",
       "        vertical-align: top;\n",
       "    }\n",
       "\n",
       "    .dataframe thead th {\n",
       "        text-align: right;\n",
       "    }\n",
       "</style>\n",
       "<table border=\"1\" class=\"dataframe\">\n",
       "  <thead>\n",
       "    <tr style=\"text-align: right;\">\n",
       "      <th></th>\n",
       "      <th>gene</th>\n",
       "      <th>pval</th>\n",
       "      <th>qval</th>\n",
       "      <th>log2fc</th>\n",
       "      <th>mean</th>\n",
       "      <th>zero_mean</th>\n",
       "      <th>grad</th>\n",
       "      <th>coef_mle</th>\n",
       "      <th>coef_sd</th>\n",
       "      <th>ll</th>\n",
       "    </tr>\n",
       "  </thead>\n",
       "  <tbody>\n",
       "    <tr>\n",
       "      <th>13058</th>\n",
       "      <td>MALAT1</td>\n",
       "      <td>0.000503</td>\n",
       "      <td>0.002471</td>\n",
       "      <td>0.228878</td>\n",
       "      <td>221.542299</td>\n",
       "      <td>False</td>\n",
       "      <td>5.365453e-08</td>\n",
       "      <td>0.228878</td>\n",
       "      <td>0.065784</td>\n",
       "      <td>-2892.031738</td>\n",
       "    </tr>\n",
       "    <tr>\n",
       "      <th>4688</th>\n",
       "      <td>LSAMP</td>\n",
       "      <td>0.000000</td>\n",
       "      <td>0.000000</td>\n",
       "      <td>0.912906</td>\n",
       "      <td>12.885033</td>\n",
       "      <td>False</td>\n",
       "      <td>3.616529e-08</td>\n",
       "      <td>0.912906</td>\n",
       "      <td>0.062723</td>\n",
       "      <td>-1538.054933</td>\n",
       "    </tr>\n",
       "    <tr>\n",
       "      <th>12757</th>\n",
       "      <td>SLC1A2</td>\n",
       "      <td>0.000000</td>\n",
       "      <td>0.000000</td>\n",
       "      <td>2.203052</td>\n",
       "      <td>12.789588</td>\n",
       "      <td>False</td>\n",
       "      <td>2.698498e-08</td>\n",
       "      <td>2.203052</td>\n",
       "      <td>0.083009</td>\n",
       "      <td>-1443.344822</td>\n",
       "    </tr>\n",
       "    <tr>\n",
       "      <th>2908</th>\n",
       "      <td>CTNNA2</td>\n",
       "      <td>0.000000</td>\n",
       "      <td>0.000000</td>\n",
       "      <td>1.422662</td>\n",
       "      <td>10.741866</td>\n",
       "      <td>False</td>\n",
       "      <td>2.815208e-10</td>\n",
       "      <td>1.422662</td>\n",
       "      <td>0.068785</td>\n",
       "      <td>-1422.336058</td>\n",
       "    </tr>\n",
       "    <tr>\n",
       "      <th>16228</th>\n",
       "      <td>PCDH9</td>\n",
       "      <td>0.000000</td>\n",
       "      <td>0.000000</td>\n",
       "      <td>0.725401</td>\n",
       "      <td>10.184382</td>\n",
       "      <td>False</td>\n",
       "      <td>3.234452e-08</td>\n",
       "      <td>0.725401</td>\n",
       "      <td>0.061344</td>\n",
       "      <td>-1437.505491</td>\n",
       "    </tr>\n",
       "    <tr>\n",
       "      <th>6226</th>\n",
       "      <td>GPM6A</td>\n",
       "      <td>0.000000</td>\n",
       "      <td>0.000000</td>\n",
       "      <td>1.392302</td>\n",
       "      <td>9.887202</td>\n",
       "      <td>False</td>\n",
       "      <td>3.329948e-08</td>\n",
       "      <td>1.392302</td>\n",
       "      <td>0.066546</td>\n",
       "      <td>-1380.405775</td>\n",
       "    </tr>\n",
       "    <tr>\n",
       "      <th>16576</th>\n",
       "      <td>NPAS3</td>\n",
       "      <td>0.000000</td>\n",
       "      <td>0.000000</td>\n",
       "      <td>0.631609</td>\n",
       "      <td>8.865510</td>\n",
       "      <td>False</td>\n",
       "      <td>1.400052e-08</td>\n",
       "      <td>0.631609</td>\n",
       "      <td>0.057632</td>\n",
       "      <td>-1362.569414</td>\n",
       "    </tr>\n",
       "    <tr>\n",
       "      <th>16288</th>\n",
       "      <td>GPC5</td>\n",
       "      <td>0.000000</td>\n",
       "      <td>0.000000</td>\n",
       "      <td>1.067615</td>\n",
       "      <td>8.403471</td>\n",
       "      <td>False</td>\n",
       "      <td>6.611931e-09</td>\n",
       "      <td>1.067615</td>\n",
       "      <td>0.075537</td>\n",
       "      <td>-1381.994325</td>\n",
       "    </tr>\n",
       "    <tr>\n",
       "      <th>2702</th>\n",
       "      <td>NRXN1</td>\n",
       "      <td>0.000000</td>\n",
       "      <td>0.000000</td>\n",
       "      <td>1.311811</td>\n",
       "      <td>7.984816</td>\n",
       "      <td>False</td>\n",
       "      <td>2.879493e-09</td>\n",
       "      <td>1.311811</td>\n",
       "      <td>0.072227</td>\n",
       "      <td>-1323.768776</td>\n",
       "    </tr>\n",
       "    <tr>\n",
       "      <th>17576</th>\n",
       "      <td>RORA</td>\n",
       "      <td>0.000000</td>\n",
       "      <td>0.000000</td>\n",
       "      <td>0.722579</td>\n",
       "      <td>7.553145</td>\n",
       "      <td>False</td>\n",
       "      <td>5.116238e-08</td>\n",
       "      <td>0.722579</td>\n",
       "      <td>0.067860</td>\n",
       "      <td>-1332.982006</td>\n",
       "    </tr>\n",
       "  </tbody>\n",
       "</table>\n",
       "</div>"
      ],
      "text/plain": [
       "         gene      pval      qval    log2fc        mean  zero_mean  \\\n",
       "13058  MALAT1  0.000503  0.002471  0.228878  221.542299      False   \n",
       "4688    LSAMP  0.000000  0.000000  0.912906   12.885033      False   \n",
       "12757  SLC1A2  0.000000  0.000000  2.203052   12.789588      False   \n",
       "2908   CTNNA2  0.000000  0.000000  1.422662   10.741866      False   \n",
       "16228   PCDH9  0.000000  0.000000  0.725401   10.184382      False   \n",
       "6226    GPM6A  0.000000  0.000000  1.392302    9.887202      False   \n",
       "16576   NPAS3  0.000000  0.000000  0.631609    8.865510      False   \n",
       "16288    GPC5  0.000000  0.000000  1.067615    8.403471      False   \n",
       "2702    NRXN1  0.000000  0.000000  1.311811    7.984816      False   \n",
       "17576    RORA  0.000000  0.000000  0.722579    7.553145      False   \n",
       "\n",
       "               grad  coef_mle   coef_sd           ll  \n",
       "13058  5.365453e-08  0.228878  0.065784 -2892.031738  \n",
       "4688   3.616529e-08  0.912906  0.062723 -1538.054933  \n",
       "12757  2.698498e-08  2.203052  0.083009 -1443.344822  \n",
       "2908   2.815208e-10  1.422662  0.068785 -1422.336058  \n",
       "16228  3.234452e-08  0.725401  0.061344 -1437.505491  \n",
       "6226   3.329948e-08  1.392302  0.066546 -1380.405775  \n",
       "16576  1.400052e-08  0.631609  0.057632 -1362.569414  \n",
       "16288  6.611931e-09  1.067615  0.075537 -1381.994325  \n",
       "2702   2.879493e-09  1.311811  0.072227 -1323.768776  \n",
       "17576  5.116238e-08  0.722579  0.067860 -1332.982006  "
      ]
     },
     "execution_count": 29,
     "metadata": {},
     "output_type": "execute_result"
    }
   ],
   "source": [
    "test_pos.sort_values('mean', ascending=False).iloc[:10,:]"
   ]
  },
  {
   "cell_type": "code",
   "execution_count": 24,
   "metadata": {},
   "outputs": [
    {
     "data": {
      "image/png": "[encoded data removed]",
      "text/plain": [
       "<Figure size 744.048x576 with 1 Axes>"
      ]
     },
     "metadata": {
      "needs_background": "light"
     },
     "output_type": "display_data"
    }
   ],
   "source": [
    "sc.pl.violin(adata_astro, groupby='location', keys='SLC1A2')"
   ]
  },
  {
   "cell_type": "markdown",
   "metadata": {},
   "source": [
    "**Task:** Save your filtered tables to file."
   ]
  },
  {
   "cell_type": "code",
   "execution_count": null,
   "metadata": {},
   "outputs": [],
   "source": []
  },
  {
   "cell_type": "markdown",
   "metadata": {},
   "source": [
    "## Include continuous covariates"
   ]
  },
  {
   "cell_type": "markdown",
   "metadata": {},
   "source": [
    "In the previous test, we did not consider cell-specific effects in the test. \n",
    "However, the count data is not normalised and size factors indicate cell-specific differences in e.g. cell size and sequencing depth. Therefore, we use it as additional, numeric covariate to regress out the effect described by the size factors.  \n",
    "\n",
    "Firstly, you have to indicate that you are supplying a continuous effect if you want to do so. We will otherwise turn it into a categorical effect and this will not produce the desired results. We do this so that we can make sure that there are no errors arising from numeric and categorical columns in `pandas` `DataFrames`. \n",
    "\n",
    "**Please note** that the following differential expression tests **takes considerably longer than the simple test above** because it optimizes more parameters."
   ]
  },
  {
   "cell_type": "code",
   "execution_count": null,
   "metadata": {},
   "outputs": [],
   "source": [
    "test_sf = de.test.wald(\n",
    "    data=adata_astro.layers['counts'],\n",
    "    formula_loc=\"~ 1 + location + size_factors\",\n",
    "    factor_loc_totest=\"location\",\n",
    "    as_numeric=['size_factors'],\n",
    "    gene_names=adata_astro.var_names,\n",
    "    sample_description=adata_astro.obs\n",
    ")\n"
   ]
  },
  {
   "cell_type": "markdown",
   "metadata": {},
   "source": [
    "The results can be retrieved as before. Please note that the results differ now as we imposed size factors without changing the data:"
   ]
  },
  {
   "cell_type": "code",
   "execution_count": null,
   "metadata": {},
   "outputs": [],
   "source": [
    "sb.scatterplot(\n",
    "    x=test.log10_pval_clean(),\n",
    "    y=test_sf.log10_pval_clean()\n",
    ")\n",
    "plt.show()"
   ]
  },
  {
   "cell_type": "markdown",
   "metadata": {},
   "source": [
    "Order test results by q-value:"
   ]
  },
  {
   "cell_type": "code",
   "execution_count": null,
   "metadata": {},
   "outputs": [],
   "source": [
    "test_sf.summary().sort_values('qval', ascending=True).iloc[:10,:]"
   ]
  },
  {
   "cell_type": "code",
   "execution_count": null,
   "metadata": {},
   "outputs": [],
   "source": [
    "test_sf.plot_volcano(corrected_pval=True, min_fc=1.05, alpha=10e-5, size=20)"
   ]
  },
  {
   "cell_type": "markdown",
   "metadata": {},
   "source": [
    "Save results to file."
   ]
  },
  {
   "cell_type": "code",
   "execution_count": null,
   "metadata": {},
   "outputs": [],
   "source": [
    "test_sf.summary().to_csv(table_dir + 'test_sf.csv')"
   ]
  },
  {
   "cell_type": "markdown",
   "metadata": {},
   "source": [
    "# Test multiple coefficients with a Wald test"
   ]
  },
  {
   "cell_type": "markdown",
   "metadata": {},
   "source": [
    "We now turn to tests that cannot be performed with t-tests or rank sum tests because they involve more than two groups (or more general: multiple coefficients). \n",
    "Here, we cover two different test scenarios, where we first test in general for donor-specific differences and we second test a specific donor.\n",
    "In our test case, we use look at donor-specific differences in dopaminergic neurons in the substantia nigra."
   ]
  },
  {
   "cell_type": "code",
   "execution_count": null,
   "metadata": {},
   "outputs": [],
   "source": [
    "adata_DN = adata[np.logical_and(adata.obs['annotated']=='Dopaminergic neuron',\n",
    "                                adata.obs['location']=='SN')].copy()"
   ]
  },
  {
   "cell_type": "code",
   "execution_count": null,
   "metadata": {},
   "outputs": [],
   "source": [
    "adata_DN.obs['donor'].value_counts()"
   ]
  },
  {
   "cell_type": "markdown",
   "metadata": {},
   "source": [
    "## Test a whole factor"
   ]
  },
  {
   "cell_type": "code",
   "execution_count": null,
   "metadata": {},
   "outputs": [],
   "source": [
    "test_fac = de.test.wald(\n",
    "    data=adata_DN.layers['counts'],\n",
    "    formula_loc=\"~ 1 + donor\",\n",
    "    factor_loc_totest=\"donor\",\n",
    "    gene_names=adata_DN.var_names,\n",
    "    sample_description=adata_DN.obs\n",
    ")"
   ]
  },
  {
   "cell_type": "markdown",
   "metadata": {},
   "source": [
    "Look at the top 10 results."
   ]
  },
  {
   "cell_type": "code",
   "execution_count": null,
   "metadata": {},
   "outputs": [],
   "source": [
    "test_fac.summary().sort_values('qval').iloc[:10, :]"
   ]
  },
  {
   "cell_type": "markdown",
   "metadata": {},
   "source": [
    "## Test selected coefficients"
   ]
  },
  {
   "cell_type": "markdown",
   "metadata": {},
   "source": [
    "First, we preview the coefficient names and then yield the desired list to `diffxpy`."
   ]
  },
  {
   "cell_type": "code",
   "execution_count": null,
   "metadata": {},
   "outputs": [],
   "source": [
    "de.utils.preview_coef_names(\n",
    "    sample_description=adata_DN.obs,\n",
    "    formula=\"~ 1 + donor\"\n",
    ")"
   ]
  },
  {
   "cell_type": "markdown",
   "metadata": {},
   "source": [
    "Second, set up the Wald test with the coefficient(s) of interest."
   ]
  },
  {
   "cell_type": "code",
   "execution_count": null,
   "metadata": {},
   "outputs": [],
   "source": [
    "test_coef = de.test.wald(\n",
    "    data=adata_DN.layers['counts'],\n",
    "    formula_loc=\"~ 1 + donor\",\n",
    "    coef_to_test=['donor[T.5]'],\n",
    "    gene_names=adata_DN.var_names,\n",
    "    sample_description=adata_DN.obs\n",
    ")"
   ]
  },
  {
   "cell_type": "markdown",
   "metadata": {},
   "source": [
    "Look at the top 10 results."
   ]
  },
  {
   "cell_type": "code",
   "execution_count": null,
   "metadata": {},
   "outputs": [],
   "source": [
    "test_coef.summary().sort_values('qval').iloc[:10, :]"
   ]
  },
  {
   "cell_type": "markdown",
   "metadata": {},
   "source": [
    "Save results to file."
   ]
  },
  {
   "cell_type": "code",
   "execution_count": null,
   "metadata": {},
   "outputs": [],
   "source": [
    "test_coef.summary().to_csv(table_dir + 'test_coef.csv')"
   ]
  },
  {
   "cell_type": "markdown",
   "metadata": {},
   "source": [
    "# Further scenarios"
   ]
  },
  {
   "cell_type": "markdown",
   "metadata": {},
   "source": [
    "Was your scenario not captured by any of these classes of tests? diffxpy wraps a number of further advanced tests to which we dedicated separate tutorials of the `diffxpy` package. These are:\n",
    "\n",
    "* pairwise tests between groups (\"multiple_tests_per_gene\")\n",
    "* groupwise tests versus all other groups (\"multiple_tests_per_gene\")\n",
    "* modelling continuous covariates such as as total counts, time, pseudotime, space, concentration (\"modelling_continuous_covariates\")\n",
    "* modelling equality constraints, relevant for scenarios with perfect confounding (\"modelling_constraints\")"
   ]
  }
 ],
 "metadata": {
  "kernelspec": {
   "display_name": "Python 3.7",
   "language": "python",
   "name": "python3"
  },
  "language_info": {
   "codemirror_mode": {
    "name": "ipython",
    "version": 3
   },
   "file_extension": ".py",
   "mimetype": "text/x-python",
   "name": "python",
   "nbconvert_exporter": "python",
   "pygments_lexer": "ipython3",
   "version": "3.7.1"
  }
 },
 "nbformat": 4,
 "nbformat_minor": 4
}
