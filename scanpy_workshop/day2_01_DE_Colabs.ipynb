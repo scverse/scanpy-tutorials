{
 "cells": [
  {
   "cell_type": "code",
   "execution_count": null,
   "metadata": {},
   "outputs": [],
   "source": [
    "!pip install scanpy==1.4.6 umap-learn==0.4.0 anndata==0.7.1 numpy==1.18.2 scipy==1.4.1 pandas matplotlib scrublet seaborn python-igraph==0.8.0 louvain==0.6.1 !pip install scanpy==1.4.6 umap-learn==0.4.0 anndata==0.7.1 numpy==1.18.2 scipy==1.4.1 pandas matplotlib scrublet seaborn python-igraph==0.8.0 louvain==0.6.1 gprofiler"
   ]
  },
  {
   "cell_type": "markdown",
   "metadata": {},
   "source": [
    "Install `tensorflow` and the `diffxpy` package."
   ]
  },
  {
   "cell_type": "code",
   "execution_count": null,
   "metadata": {},
   "outputs": [],
   "source": [
    "!pip install tf-nightly\n",
    "!pip install tfp-nightly"
   ]
  },
  {
   "cell_type": "code",
   "execution_count": null,
   "metadata": {},
   "outputs": [],
   "source": [
    "!pip install -U diffxpy"
   ]
  },
  {
   "cell_type": "markdown",
   "metadata": {},
   "source": [
    "Load all required packages."
   ]
  },
  {
   "cell_type": "code",
   "execution_count": null,
   "metadata": {},
   "outputs": [],
   "source": [
    "import scanpy as sc\n",
    "import anndata as ann\n",
    "import numpy as np\n",
    "import scipy as sp\n",
    "import pandas as pd\n",
    "import matplotlib.pyplot as plt\n",
    "from matplotlib import rcParams\n",
    "from matplotlib import colors\n",
    "\n",
    "import os \n",
    "\n",
    "#pretty plotting\n",
    "import seaborn as sb\n",
    "\n",
    "import logging"
   ]
  },
  {
   "cell_type": "code",
   "execution_count": null,
   "metadata": {},
   "outputs": [],
   "source": [
    "\n",
    "plt.rcParams['figure.figsize']=(8,8) #rescale figures\n",
    "sc.settings.verbosity = 3\n",
    "#sc.set_figure_params(dpi=200, dpi_save=300)\n",
    "sc.logging.print_versions()\n"
   ]
  },
  {
   "cell_type": "markdown",
   "metadata": {},
   "source": [
    "Of note, this notebook was created as part of a workshop, so we use extra large legend texts in all seaborn plots. You can set the context as well to 'talk' or 'paper'."
   ]
  },
  {
   "cell_type": "code",
   "execution_count": null,
   "metadata": {},
   "outputs": [],
   "source": [
    "sb.set_context(context='poster')\n"
   ]
  },
  {
   "cell_type": "markdown",
   "metadata": {},
   "source": [
    "Load differential expression package 'diffxpy'."
   ]
  },
  {
   "cell_type": "code",
   "execution_count": 1,
   "metadata": {},
   "outputs": [
    {
     "name": "stderr",
     "output_type": "stream",
     "text": [
      "/opt/python/lib/python3.7/site-packages/anndata/_core/anndata.py:21: FutureWarning: pandas.core.index is deprecated and will be removed in a future version.  The public classes are available in the top-level namespace.\n",
      "  from pandas.core.index import RangeIndex\n"
     ]
    },
    {
     "name": "stdout",
     "output_type": "stream",
     "text": [
      "batchglm version v0.7.4\n",
      "diffpy version v0.7.4\n"
     ]
    }
   ],
   "source": [
    "import batchglm.api as glm\n",
    "import diffxpy.api as de\n",
    "\n",
    "print(\"batchglm version \"+glm.__version__)\n",
    "print(\"diffpy version \"+de.__version__)\n",
    "from batchglm.pkg_constants import TF_CONFIG_PROTO"
   ]
  },
  {
   "cell_type": "code",
   "execution_count": null,
   "metadata": {},
   "outputs": [],
   "source": [
    "#Set number of threads\n",
    "TF_CONFIG_PROTO.inter_op_parallelism_threads = 1\n",
    "TF_CONFIG_PROTO.intra_op_parallelism_threads = 12"
   ]
  },
  {
   "cell_type": "markdown",
   "metadata": {},
   "source": [
    "# Introduction"
   ]
  },
  {
   "cell_type": "markdown",
   "metadata": {},
   "source": [
    "The dataset consists of 12 samples from 3mm2 blocks that were manually dissected from the substantia nigra and cortex of 5 control (4 males & 1 female) de-identified post-mortem human donors,  including 2 substantia nigra (SN) replicates and sequenced using the 10X chromium system (V2) (GEO accession ID: [GSE140231](https://www.ncbi.nlm.nih.gov/geo/query/acc.cgi?acc=GSE140231))."
   ]
  },
  {
   "cell_type": "markdown",
   "metadata": {},
   "source": [
    "In this notebook, we are going to perform differential expression tests using the tool `diffxpy`. Further reading on `diffxpy` and its usage can be found on the (diffxpy github page)[https://github.com/theislab/diffxpy/] and the (tutorial page)[https://github.com/theislab/diffxpy_tutorials/]. This notebook builds upon these tutorials.  \n",
    "\n",
    "Differential expression analysis is a group of statistical tests that are used to establish whether there a exists a significant variation across a set of tested conditions for each gene. In its easiset form, this test can test for the difference between two distinct groups: This scenario can be handled with (Welch's) T-test, rank sum tests or Wald and likelihood ratio tests (LRT). Wald tests and LRT allow for more adaptive assumptions on the noise model and can therefore be more statistically correct. Moreover, they also allow the testing of more complex effect, e.g. for the variation across many groups (a single p-value for: Is there any difference between four conditions?) or across continuous covariates (a single covariate for: Is a gene expression trajectory in time non-constant?). Below, we introduce these and similar scenarios. We dedicated separate tutorials to a selection of scenarios that require a longer introduction.\n",
    "\n",
    "Importantly, we assume that the groups we are comparing do not differ except for a different condition. For example, we are going to test, if oligodendrocytes, oligodendrocyte precursor cells and astrocytes from substantia nigra and cortex are different. We can consider this a borderline case, because these cells come from different brain regions and the assumption of \"no difference between the two groups\" may not hold. \n",
    "\n",
    "Further, we test if we can see differences in the dopaminergic neurons across donors."
   ]
  },
  {
   "cell_type": "markdown",
   "metadata": {},
   "source": [
    "## Set project file paths"
   ]
  },
  {
   "cell_type": "markdown",
   "metadata": {
    "colab_type": "text",
    "id": "HGWb3YZMqUuJ"
   },
   "source": [
    "Let us set up the connection with Google Drive."
   ]
  },
  {
   "cell_type": "code",
   "execution_count": null,
   "metadata": {
    "colab": {
     "base_uri": "https://localhost:8080/",
     "height": 54
    },
    "colab_type": "code",
    "id": "CGM46GrhqcG3",
    "outputId": "e67c147c-deb3-4718-825e-74a39044895b"
   },
   "outputs": [],
   "source": [
    "from google.colab import drive\n",
    "drive.mount('/content/drive')"
   ]
  },
  {
   "cell_type": "markdown",
   "metadata": {
    "colab_type": "text",
    "id": "QEmLfywfo_QS"
   },
   "source": [
    "We set up the file paths to the respective directories."
   ]
  },
  {
   "cell_type": "code",
   "execution_count": null,
   "metadata": {
    "colab": {},
    "colab_type": "code",
    "id": "7XbTYdAyo_QT"
   },
   "outputs": [],
   "source": [
    "file_path = '/content/drive/My Drive/' #this is the file path to your google drive (main directory)"
   ]
  },
  {
   "cell_type": "code",
   "execution_count": null,
   "metadata": {
    "colab": {
     "base_uri": "https://localhost:8080/",
     "height": 1000
    },
    "colab_type": "code",
    "id": "dlfgZIW-rRxD",
    "outputId": "a4270d35-0f78-460c-fb38-1d85f6d775c3"
   },
   "outputs": [],
   "source": [
    "os.listdir(file_path) #shows all files in file_path"
   ]
  },
  {
   "cell_type": "markdown",
   "metadata": {},
   "source": [
    "The data directory contains all processed data and `anndata` files. "
   ]
  },
  {
   "cell_type": "code",
   "execution_count": null,
   "metadata": {},
   "outputs": [],
   "source": [
    "data_dir = file_path + 'day2/data/' "
   ]
  },
  {
   "cell_type": "markdown",
   "metadata": {},
   "source": [
    "The tables directory contains all tabular data output, e.g. in `.csv` or `.xls` file format. That applies to differential expression test results or overview tables such as the number of cells per cell type."
   ]
  },
  {
   "cell_type": "code",
   "execution_count": null,
   "metadata": {},
   "outputs": [],
   "source": [
    "table_dir = file_path + 'day2/tables/'"
   ]
  },
  {
   "cell_type": "markdown",
   "metadata": {},
   "source": [
    "The default figure path is a POSIX path calles 'figures'. If you don't change the default figure directory, scanpy creates a subdirectory where this notebook is located.  "
   ]
  },
  {
   "cell_type": "code",
   "execution_count": null,
   "metadata": {},
   "outputs": [],
   "source": [
    "sc.settings.figdir = file_path + 'day2/figures/'"
   ]
  },
  {
   "cell_type": "markdown",
   "metadata": {},
   "source": [
    "**Comment:** When you repeat certain analyses, it might be helpful to set a `date` variable and add it to every figure and table (see `datetime` Python package)."
   ]
  },
  {
   "cell_type": "markdown",
   "metadata": {},
   "source": [
    "# Read data"
   ]
  },
  {
   "cell_type": "markdown",
   "metadata": {},
   "source": [
    "We read in the annotated dataset. As a reminder, the `anndata` object contains (amongst others):\n",
    "1. The raw counts as 'counts' layer. \n",
    "2. Normalised gene expression values (log-scran normalised) as `X` matrix\n",
    "3. Cell type annotation\n",
    "4. Size factors "
   ]
  },
  {
   "cell_type": "code",
   "execution_count": null,
   "metadata": {},
   "outputs": [],
   "source": [
    "adata = sc.read(data_dir + 'data_processed.h5ad')"
   ]
  },
  {
   "cell_type": "code",
   "execution_count": null,
   "metadata": {},
   "outputs": [],
   "source": [
    "adata"
   ]
  },
  {
   "cell_type": "code",
   "execution_count": null,
   "metadata": {},
   "outputs": [],
   "source": [
    "pd.crosstab(adata.obs['annotated'], adata.obs['location'])"
   ]
  },
  {
   "cell_type": "markdown",
   "metadata": {},
   "source": [
    "# Test a single coefficient"
   ]
  },
  {
   "cell_type": "markdown",
   "metadata": {},
   "source": [
    "The test of a single coefficient is the easiest differential expression test one can imagine, the comparison of two groups is a sub-scenario of this case.\n",
    "\n",
    "In our case, testing differences of astrocytes from **cortex** and **substantia nigra** falls into this category.\n",
    "\n",
    "## Run differential expression test for two groups\n",
    "\n",
    "We first tackle this scenario with a Wald test. The Wald test checks if a certain coefficient introduces a significant difference in the expression of a gene.\n",
    "\n",
    "It needs a formula which describes the setup of the model and the factor of the formula `factor_loc_totest` which should be tested.\n",
    "\n",
    "Usually, this factor divides the samples into two groups, e.g. `condition 0` and `condition 1`. In this case, `diffxpy` chooses automatically the coefficient to test. If there are more than two groups specified by the factor, the coefficient which should be tested has to be set manually by specifying `coef_totest`. This coefficient should refer to one of the groups specified by `factor_loc_totest`, e.g. `condition 1`."
   ]
  },
  {
   "cell_type": "code",
   "execution_count": null,
   "metadata": {},
   "outputs": [],
   "source": [
    "sc.pl.umap(adata, color=['annotated', 'location'])"
   ]
  },
  {
   "cell_type": "markdown",
   "metadata": {},
   "source": [
    "Prepare test data."
   ]
  },
  {
   "cell_type": "code",
   "execution_count": null,
   "metadata": {},
   "outputs": [],
   "source": [
    "#select astrocytes\n",
    "adata_astro = adata[adata.obs['annotated'] == 'Astrocyte'].copy() "
   ]
  },
  {
   "cell_type": "code",
   "execution_count": null,
   "metadata": {},
   "outputs": [],
   "source": [
    "adata_astro.obs['location'].value_counts()"
   ]
  },
  {
   "cell_type": "code",
   "execution_count": null,
   "metadata": {},
   "outputs": [],
   "source": [
    "adata_astro"
   ]
  },
  {
   "cell_type": "markdown",
   "metadata": {},
   "source": [
    "Run the test on the count data. It must be noted that the `counts` layer does not contain the sample description nor gene names."
   ]
  },
  {
   "cell_type": "code",
   "execution_count": null,
   "metadata": {},
   "outputs": [],
   "source": [
    "test = de.test.wald(\n",
    "    data=adata_astro.layers['counts'],\n",
    "    formula_loc=\"~ 1 + location\",\n",
    "    factor_loc_totest=\"location\",\n",
    "    gene_names=adata_astro.var_names,\n",
    "    sample_description=adata_astro.obs\n",
    ")"
   ]
  },
  {
   "cell_type": "markdown",
   "metadata": {},
   "source": [
    "Obtain results."
   ]
  },
  {
   "cell_type": "markdown",
   "metadata": {},
   "source": [
    "\n",
    "`test.summary()` returns a `pandas` `DataFrame` with a quick overview of the test results."
   ]
  },
  {
   "cell_type": "code",
   "execution_count": null,
   "metadata": {},
   "outputs": [],
   "source": [
    "#view first 10 results\n",
    "test.summary().iloc[:10,:]"
   ]
  },
  {
   "cell_type": "markdown",
   "metadata": {},
   "source": [
    "Table column description:\n",
    "* gene: gene name / identifier\n",
    "* pval: p-value of the gene\n",
    "* qval: multiple testing - corrected p-value of the gene\n",
    "* log2fc: log_2 fold change between no coefficient and coefficient\n",
    "* grad: the gradient of the gene's log-likelihood\n",
    "* coef_mle the maximum-likelihood estimate of the coefficient in liker-space\n",
    "* coef_sd the standard deviation of the coefficient in liker-space\n",
    "* ll: the log-likelihood of the estimation"
   ]
  },
  {
   "cell_type": "markdown",
   "metadata": {},
   "source": [
    "Order test results by q-value:"
   ]
  },
  {
   "cell_type": "code",
   "execution_count": null,
   "metadata": {},
   "outputs": [],
   "source": [
    "test.summary().sort_values('qval').iloc[:10,:]"
   ]
  },
  {
   "cell_type": "markdown",
   "metadata": {},
   "source": [
    "`test.plot_volcano()` creates a volcano plot of p-values vs. fold-change:"
   ]
  },
  {
   "cell_type": "code",
   "execution_count": null,
   "metadata": {},
   "outputs": [],
   "source": [
    "test.plot_volcano(corrected_pval=True, min_fc=1.05, alpha=10e-5, size=20)"
   ]
  },
  {
   "cell_type": "markdown",
   "metadata": {},
   "source": [
    "Save results to file."
   ]
  },
  {
   "cell_type": "code",
   "execution_count": null,
   "metadata": {},
   "outputs": [],
   "source": [
    "test.summary().to_csv(table_dir + 'test_astrocytes.csv')"
   ]
  },
  {
   "cell_type": "markdown",
   "metadata": {},
   "source": [
    "**Comment:** Apart from Wald tests, `diffxpy` provides the following hypothesis tests: \n",
    "* Welch's t-test (see `de.test.t_test()`) \n",
    "* Rank sum test (see `de.test.rank_test()`)\n",
    "* Likelihood-ratio test (LRT) (see `de.test.lrt()`)"
   ]
  },
  {
   "cell_type": "markdown",
   "metadata": {},
   "source": [
    "**Tasks:** \n",
    "* Extract the significant differentially expressed genes from the `test.summary()` table and split the list into higher expressed in cortex and higher expressed in substantia nigra. \n",
    "* Filter for a minimum mean expression of `0.05` (or choose your own threshold). \n",
    "* Visualise your top 10 DE genes in a heatmap/matrixplot/dotplot. "
   ]
  },
  {
   "cell_type": "code",
   "execution_count": null,
   "metadata": {},
   "outputs": [],
   "source": []
  },
  {
   "cell_type": "markdown",
   "metadata": {},
   "source": [
    "**Task:** Save your filtered tables to file."
   ]
  },
  {
   "cell_type": "code",
   "execution_count": null,
   "metadata": {},
   "outputs": [],
   "source": []
  },
  {
   "cell_type": "markdown",
   "metadata": {},
   "source": [
    "## Include continuous covariates"
   ]
  },
  {
   "cell_type": "markdown",
   "metadata": {},
   "source": [
    "In the previous test, we did not consider cell-specific effects in the test. \n",
    "However, the count data is not normalised and size factors indicate cell-specific differences in e.g. cell size and sequencing depth. Therefore, we use it as additional, numeric covariate to regress out the effect described by the size factors.  \n",
    "\n",
    "Firstly, you have to indicate that you are supplying a continuous effect if you want to do so. We will otherwise turn it into a categorical effect and this will not produce the desired results. We do this so that we can make sure that there are no errors arising from numeric and categorical columns in `pandas` `DataFrames`. \n",
    "\n",
    "**Please note** that the following differential expression tests **takes considerably longer than the simple test above** because it optimizes more parameters."
   ]
  },
  {
   "cell_type": "code",
   "execution_count": null,
   "metadata": {},
   "outputs": [],
   "source": [
    "test_sf = de.test.wald(\n",
    "    data=adata_astro.layers['counts'],\n",
    "    formula_loc=\"~ 1 + location + size_factors\",\n",
    "    factor_loc_totest=\"location\",\n",
    "    as_numeric=['size_factors'],\n",
    "    gene_names=adata_astro.var_names,\n",
    "    sample_description=adata_astro.obs\n",
    ")\n"
   ]
  },
  {
   "cell_type": "markdown",
   "metadata": {},
   "source": [
    "The results can be retrieved as before. Please note that the results differ now as we imposed size factors without changing the data:"
   ]
  },
  {
   "cell_type": "code",
   "execution_count": null,
   "metadata": {},
   "outputs": [],
   "source": [
    "sb.scatterplot(\n",
    "    x=test.log10_pval_clean(),\n",
    "    y=test_sf.log10_pval_clean()\n",
    ")\n",
    "plt.show()"
   ]
  },
  {
   "cell_type": "markdown",
   "metadata": {},
   "source": [
    "Order test results by q-value:"
   ]
  },
  {
   "cell_type": "code",
   "execution_count": null,
   "metadata": {},
   "outputs": [],
   "source": [
    "test_sf.summary().sort_values('qval', ascending=True).iloc[:10,:]"
   ]
  },
  {
   "cell_type": "code",
   "execution_count": null,
   "metadata": {},
   "outputs": [],
   "source": [
    "test_sf.plot_volcano(corrected_pval=True, min_fc=1.05, alpha=10e-5, size=20)"
   ]
  },
  {
   "cell_type": "markdown",
   "metadata": {},
   "source": [
    "Save results to file."
   ]
  },
  {
   "cell_type": "code",
   "execution_count": null,
   "metadata": {},
   "outputs": [],
   "source": [
    "test_sf.summary().to_csv(table_dir + 'test_sf.csv')"
   ]
  },
  {
   "cell_type": "markdown",
   "metadata": {},
   "source": [
    "# Test multiple coefficients with a Wald test"
   ]
  },
  {
   "cell_type": "markdown",
   "metadata": {},
   "source": [
    "We now turn to tests that cannot be performed with t-tests or rank sum tests because they involve more than two groups (or more general: multiple coefficients). \n",
    "Here, we cover two different test scenarios, where we first test in general for donor-specific differences and we second test a specific donor.\n",
    "In our test case, we use look at donor-specific differences in dopaminergic neurons in the substantia nigra."
   ]
  },
  {
   "cell_type": "code",
   "execution_count": null,
   "metadata": {},
   "outputs": [],
   "source": [
    "adata_DN = adata[np.logical_and(adata.obs['annotated']=='Dopaminergic neuron',\n",
    "                                adata.obs['location']=='SN')].copy()"
   ]
  },
  {
   "cell_type": "code",
   "execution_count": null,
   "metadata": {},
   "outputs": [],
   "source": [
    "adata_DN.obs['donor'].value_counts()"
   ]
  },
  {
   "cell_type": "markdown",
   "metadata": {},
   "source": [
    "## Test a whole factor"
   ]
  },
  {
   "cell_type": "code",
   "execution_count": null,
   "metadata": {},
   "outputs": [],
   "source": [
    "test_fac = de.test.wald(\n",
    "    data=adata_DN.layers['counts'],\n",
    "    formula_loc=\"~ 1 + donor\",\n",
    "    factor_loc_totest=\"donor\",\n",
    "    gene_names=adata_DN.var_names,\n",
    "    sample_description=adata_DN.obs\n",
    ")"
   ]
  },
  {
   "cell_type": "markdown",
   "metadata": {},
   "source": [
    "Look at the top 10 results."
   ]
  },
  {
   "cell_type": "code",
   "execution_count": null,
   "metadata": {},
   "outputs": [],
   "source": [
    "test_fac.summary().sort_values('qval').iloc[:10, :]"
   ]
  },
  {
   "cell_type": "markdown",
   "metadata": {},
   "source": [
    "## Test selected coefficients"
   ]
  },
  {
   "cell_type": "markdown",
   "metadata": {},
   "source": [
    "First, we preview the coefficient names and then yield the desired list to `diffxpy`."
   ]
  },
  {
   "cell_type": "code",
   "execution_count": null,
   "metadata": {},
   "outputs": [],
   "source": [
    "de.utils.preview_coef_names(\n",
    "    sample_description=adata_DN.obs,\n",
    "    formula=\"~ 1 + donor\"\n",
    ")"
   ]
  },
  {
   "cell_type": "markdown",
   "metadata": {},
   "source": [
    "Second, set up the Wald test with the coefficient(s) of interest."
   ]
  },
  {
   "cell_type": "code",
   "execution_count": null,
   "metadata": {},
   "outputs": [],
   "source": [
    "test_coef = de.test.wald(\n",
    "    data=adata_DN.layers['counts'],\n",
    "    formula_loc=\"~ 1 + donor\",\n",
    "    coef_to_test=['donor[T.5]'],\n",
    "    gene_names=adata_DN.var_names,\n",
    "    sample_description=adata_DN.obs\n",
    ")"
   ]
  },
  {
   "cell_type": "markdown",
   "metadata": {},
   "source": [
    "Look at the top 10 results."
   ]
  },
  {
   "cell_type": "code",
   "execution_count": null,
   "metadata": {},
   "outputs": [],
   "source": [
    "test_coef.summary().sort_values('qval').iloc[:10, :]"
   ]
  },
  {
   "cell_type": "markdown",
   "metadata": {},
   "source": [
    "Save results to file."
   ]
  },
  {
   "cell_type": "code",
   "execution_count": null,
   "metadata": {},
   "outputs": [],
   "source": [
    "test_coef.summary().to_csv(table_dir + 'test_coef.csv')"
   ]
  },
  {
   "cell_type": "markdown",
   "metadata": {},
   "source": [
    "# Further scenarios"
   ]
  },
  {
   "cell_type": "markdown",
   "metadata": {},
   "source": [
    "Was your scenario not captured by any of these classes of tests? diffxpy wraps a number of further advanced tests to which we dedicated separate tutorials of the `diffxpy` package. These are:\n",
    "\n",
    "* pairwise tests between groups (\"multiple_tests_per_gene\")\n",
    "* groupwise tests versus all other groups (\"multiple_tests_per_gene\")\n",
    "* modelling continuous covariates such as as total counts, time, pseudotime, space, concentration (\"modelling_continuous_covariates\")\n",
    "* modelling equality constraints, relevant for scenarios with perfect confounding (\"modelling_constraints\")"
   ]
  }
 ],
 "metadata": {
  "kernelspec": {
   "display_name": "Python 3",
   "language": "python",
   "name": "python3"
  },
  "language_info": {
   "codemirror_mode": {
    "name": "ipython",
    "version": 3
   },
   "file_extension": ".py",
   "mimetype": "text/x-python",
   "name": "python",
   "nbconvert_exporter": "python",
   "pygments_lexer": "ipython3",
   "version": "3.7.7"
  }
 },
 "nbformat": 4,
 "nbformat_minor": 4
}
