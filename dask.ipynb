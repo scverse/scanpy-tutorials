{
 "cells": [
  {
   "cell_type": "markdown",
   "metadata": {},
   "source": [
    "# Using `dask` with Scanpy"
   ]
  },
  {
   "cell_type": "markdown",
   "metadata": {},
   "source": [
    "`dask` is a popular out-of-core, distributed array processing library that scanpy is beginning to support.  Here we walk through a quick tutorial of using `dask` in a simple analysis task."
   ]
  },
  {
   "cell_type": "code",
   "execution_count": 7,
   "metadata": {},
   "outputs": [
    {
     "name": "stdout",
     "output_type": "stream",
     "text": [
      "scanpy==1.10.0rc2.dev93+g31669098 anndata==0.11.0.dev78+g64ab900 umap==0.5.5 numpy==1.26.3 scipy==1.12.0 pandas==2.2.0 scikit-learn==1.3.2 statsmodels==0.14.1 igraph==0.10.8 pynndescent==0.5.11\n"
     ]
    }
   ],
   "source": [
    "import numpy as np\n",
    "import dask.distributed as dd\n",
    "import dask.array as da\n",
    "from dask import delayed\n",
    "import scanpy as sc\n",
    "import anndata as ad\n",
    "import h5py\n",
    "from xarray.backends import CachingFileManager\n",
    "from pathlib import Path\n",
    "sc.logging.print_header()"
   ]
  },
  {
   "cell_type": "code",
   "execution_count": null,
   "metadata": {},
   "outputs": [
    {
     "name": "stdout",
     "output_type": "stream",
     "text": [
      "--2024-03-20 15:31:11--  https://datasets.cellxgene.cziscience.com/82eac9c1-485f-4e21-ab21-8510823d4f6e.h5ad\n",
      "Resolving datasets.cellxgene.cziscience.com (datasets.cellxgene.cziscience.com)... 18.172.112.45, 18.172.112.61, 18.172.112.108, ...\n",
      "Connecting to datasets.cellxgene.cziscience.com (datasets.cellxgene.cziscience.com)|18.172.112.45|:443... connected.\n",
      "HTTP request sent, awaiting response... 200 OK\n",
      "Length: 13979243997 (13G) [binary/octet-stream]\n",
      "Saving to: ‘cell_atlas.h5ad’\n",
      "\n",
      "cell_atlas.h5ad      34%[=====>              ]   4,51G  35,7MB/s    eta 4m 8s  "
     ]
    }
   ],
   "source": [
    "if not Path(\"cell_atlas.h5ad\").exists():\n",
    "    !wget https://datasets.cellxgene.cziscience.com/82eac9c1-485f-4e21-ab21-8510823d4f6e.h5ad -O \"cell_atlas.h5ad\""
   ]
  },
  {
   "cell_type": "markdown",
   "metadata": {},
   "source": [
    "For more information on using distributed computing via `dask`, please see their [documentation](https://docs.dask.org/en/stable/deploying-python.html).  For example, `dask` provides direct support for [slurm](https://jobqueue.dask.org/en/latest/).  In short, one needs to define both a cluster and a client to have some degree of control over the compute resources dask will use."
   ]
  },
  {
   "cell_type": "code",
   "execution_count": null,
   "metadata": {},
   "outputs": [],
   "source": [
    "cluster = dd.LocalCluster()\n",
    "client = dd.Client(cluster)\n",
    "chunksize = 1000"
   ]
  },
  {
   "cell_type": "markdown",
   "metadata": {},
   "source": [
    "We'll convert the `X` representation to `dask`.  For more info on i/o from disk, please see the `anndata` tutorials, e.g. [here](https://anndata.readthedocs.io/en/latest/tutorials/notebooks/anndata_dask_array.html) or [here](https://anndata.readthedocs.io/en/latest/tutorials/notebooks/%7Bread%2Cwrite%7D_dispatched.html).  For now, simply converting `X` will be enough to demonstrate the functionality of scanpy with dask.\n",
    "\n",
    "**_Important Note:_** At the moment, scanpy only works with dense, `np.array` chunks in `dask` arrays.  Sparse support is a work in progress, and this tutorial will be updated accordingly when possible. \n",
    "\n",
    "**_Important Note:_** Pay close attention to our use of `xarray.backends.CachingFileManager` - this is needed as `dask` cannot handle pickling an `h5py.File` object!  When writing your data, it is thus advisale to use `zarr`."
   ]
  },
  {
   "cell_type": "code",
   "execution_count": null,
   "metadata": {},
   "outputs": [],
   "source": [
    "def read_dask(file):\n",
    "    f = h5py.File(file, 'r')\n",
    "    manager = CachingFileManager(h5py.File, file, mode='r')\n",
    "    def callback(func, elem_name: str, elem, iospec):\n",
    "        if iospec.encoding_type in (\n",
    "            \"dataframe\",\n",
    "            \"awkward-array\",\n",
    "        ):\n",
    "            # Preventing recursing inside of these types\n",
    "            return ad.experimental.read_elem(elem)\n",
    "        elif iospec.encoding_type == \"array\":\n",
    "            return da.from_array(elem)\n",
    "        elif iospec.encoding_type in (\"csr_matrix\", \"csc_matrix\"):\n",
    "            shape = elem.attrs[\"shape\"]\n",
    "            def make_dask_chunk(block_id=None):\n",
    "                with manager.acquire_context(needs_lock=False) as f:\n",
    "                    mtx = ad.experimental.sparse_dataset(f[elem_name])\n",
    "                    (row, _) = block_id\n",
    "                    chunk = np.asarray(mtx[slice(row * chunksize, min((row * chunksize) + chunksize, shape[0]))].todense())\n",
    "                return chunk\n",
    "            chunks_0 = (chunksize,) * (shape[0] // chunksize)\n",
    "            chunks_0 += (shape[0] % chunksize , )\n",
    "            chunks_1 = (shape[1],)\n",
    "            da_mtx = da.map_blocks(\n",
    "                make_dask_chunk,\n",
    "                dtype=elem[\"data\"].dtype,\n",
    "                chunks=(chunks_0, chunks_1),\n",
    "                meta=np.array([])\n",
    "            )\n",
    "            return da_mtx\n",
    "        return func(elem)\n",
    "    \n",
    "    adata = ad.experimental.read_dispatched(f, callback=callback)\n",
    "    return adata\n",
    "adata_dask = read_dask('cell_atlas.h5ad')"
   ]
  },
  {
   "cell_type": "code",
   "execution_count": null,
   "metadata": {},
   "outputs": [],
   "source": [
    "adata_dask.X"
   ]
  },
  {
   "cell_type": "code",
   "execution_count": null,
   "metadata": {},
   "outputs": [],
   "source": [
    "sc.pp.filter_cells(adata_dask, min_genes=200)\n",
    "sc.pp.filter_genes(adata_dask, min_cells=3)"
   ]
  },
  {
   "cell_type": "code",
   "execution_count": null,
   "metadata": {},
   "outputs": [],
   "source": [
    "sc.pp.normalize_total(adata_dask, target_sum=1e4)\n",
    "sc.pp.highly_variable_genes(adata_dask, min_mean=0.0125, max_mean=3, min_disp=0.5)"
   ]
  },
  {
   "cell_type": "code",
   "execution_count": null,
   "metadata": {},
   "outputs": [],
   "source": [
    "sc.pl.highly_variable_genes(adata_dask)"
   ]
  },
  {
   "cell_type": "code",
   "execution_count": null,
   "metadata": {},
   "outputs": [],
   "source": []
  }
 ],
 "metadata": {
  "kernelspec": {
   "display_name": "Python 3 (ipykernel)",
   "language": "python",
   "name": "python3"
  },
  "language_info": {
   "codemirror_mode": {
    "name": "ipython",
    "version": 3
   },
   "file_extension": ".py",
   "mimetype": "text/x-python",
   "name": "python",
   "nbconvert_exporter": "python",
   "pygments_lexer": "ipython3",
   "version": "3.11.8"
  }
 },
 "nbformat": 4,
 "nbformat_minor": 4
}
