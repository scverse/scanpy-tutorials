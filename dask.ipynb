{
 "cells": [
  {
   "cell_type": "markdown",
   "metadata": {},
   "source": [
    "# Using `dask` with Scanpy"
   ]
  },
  {
   "cell_type": "markdown",
   "metadata": {},
   "source": [
    ":::{warning}\n",
    "🔪Beware sharp edges!🔪\n",
    "\n",
    "`dask` support in `scanpy` is new and highly experimental!\n",
    "\n",
    "Many functions in `scanpy` *do not* support `dask` and may exhibit unexpected behaviour if dask arrays are passed to them. Stick to what's outlined in this tutorial and you should be fine!\n",
    "\n",
    "Please report any issues you run into over on the issue tracker.\n",
    ":::"
   ]
  },
  {
   "cell_type": "markdown",
   "metadata": {},
   "source": [
    "`dask` is a popular out-of-core, distributed array processing library that scanpy is beginning to support.  Here we walk through a quick tutorial of using `dask` in a simple analysis task."
   ]
  },
  {
   "cell_type": "code",
   "execution_count": 1,
   "metadata": {},
   "outputs": [
    {
     "name": "stderr",
     "output_type": "stream",
     "text": [
      "/Users/ilangold/Projects/Theis/scanpy/venv/lib/python3.12/site-packages/tqdm/auto.py:21: TqdmWarning: IProgress not found. Please update jupyter and ipywidgets. See https://ipywidgets.readthedocs.io/en/stable/user_install.html\n",
      "  from .autonotebook import tqdm as notebook_tqdm\n"
     ]
    },
    {
     "name": "stdout",
     "output_type": "stream",
     "text": [
      "scanpy==1.10.0rc2.dev111+gf49b929f anndata==0.11.0.dev90+g8f4c755 umap==0.5.5 numpy==1.26.4 scipy==1.12.0 pandas==2.2.1 scikit-learn==1.4.1.post1 statsmodels==0.14.1 igraph==0.11.4 pynndescent==0.5.11\n"
     ]
    }
   ],
   "source": [
    "from pathlib import Path\n",
    "\n",
    "import numpy as np\n",
    "import dask.distributed as dd\n",
    "import dask.array as da\n",
    "import scanpy as sc\n",
    "import anndata as ad\n",
    "import h5py\n",
    "from scipy import sparse\n",
    "\n",
    "sc.logging.print_header()"
   ]
  },
  {
   "cell_type": "code",
   "execution_count": 2,
   "metadata": {},
   "outputs": [],
   "source": [
    "if not Path(\"cell_atlas.h5ad\").exists():\n",
    "    !wget https://datasets.cellxgene.cziscience.com/82eac9c1-485f-4e21-ab21-8510823d4f6e.h5ad -O \"cell_atlas.h5ad\""
   ]
  },
  {
   "cell_type": "markdown",
   "metadata": {},
   "source": [
    "For more information on using distributed computing via `dask`, please see their [documentation](https://docs.dask.org/en/stable/deploying-python.html). In short, one needs to define both a cluster and a client to have some degree of control over the compute resources dask will use. It's very likely you will have to tune the number of workers and amount of memory per worker along with your chunk sizes."
   ]
  },
  {
   "cell_type": "code",
   "execution_count": 3,
   "metadata": {},
   "outputs": [
    {
     "name": "stderr",
     "output_type": "stream",
     "text": [
      "2024-03-25 13:17:54,390 - distributed.nanny.memory - WARNING - Worker tcp://127.0.0.1:50619 (pid=35269) exceeded 95% memory budget. Restarting...\n",
      "2024-03-25 13:17:54,863 - distributed.scheduler - WARNING - Removing worker 'tcp://127.0.0.1:50619' caused the cluster to lose already computed task(s), which will be recomputed elsewhere: {('block-id-make_dask_chunk-0ec1365e42373f8b351a385220f4f255', 1, 0), ('aggregate_sum-aggregate-getitem-sum_drop_keepdims-truediv-expm1-7a0bfc7bfa9b700e83942bbf0b45a265', 6, 0), ('aggregate_sum-aggregate-getitem-sum_drop_keepdims-truediv-expm1-7a0bfc7bfa9b700e83942bbf0b45a265', 11, 0), ('make_dask_chunk-0ec1365e42373f8b351a385220f4f255', 13, 0)} (stimulus_id='handle-worker-cleanup-1711369074.862286')\n",
      "2024-03-25 13:17:54,878 - distributed.nanny - WARNING - Restarting worker\n",
      "2024-03-25 13:17:57,979 - distributed.nanny.memory - WARNING - Worker tcp://127.0.0.1:50621 (pid=35271) exceeded 95% memory budget. Restarting...\n",
      "2024-03-25 13:17:58,079 - distributed.nanny.memory - WARNING - Worker tcp://127.0.0.1:50621 (pid=35271) is slow to accept SIGTERM; sending SIGKILL\n",
      "2024-03-25 13:17:58,195 - distributed.scheduler - WARNING - Removing worker 'tcp://127.0.0.1:50621' caused the cluster to lose already computed task(s), which will be recomputed elsewhere: {('make_dask_chunk-0ec1365e42373f8b351a385220f4f255', 4, 0), ('make_dask_chunk-0ec1365e42373f8b351a385220f4f255', 10, 0), ('block-id-make_dask_chunk-0ec1365e42373f8b351a385220f4f255', 3, 0)} (stimulus_id='handle-worker-cleanup-1711369078.195888')\n",
      "2024-03-25 13:17:58,216 - distributed.nanny - WARNING - Restarting worker\n",
      "2024-03-25 13:18:00,470 - distributed.nanny.memory - WARNING - Worker tcp://127.0.0.1:50618 (pid=35270) exceeded 95% memory budget. Restarting...\n",
      "2024-03-25 13:18:00,550 - distributed.scheduler - WARNING - Removing worker 'tcp://127.0.0.1:50618' caused the cluster to lose already computed task(s), which will be recomputed elsewhere: {('make_dask_chunk-0ec1365e42373f8b351a385220f4f255', 7, 0), ('block-id-make_dask_chunk-0ec1365e42373f8b351a385220f4f255', 2, 0), ('make_dask_chunk-0ec1365e42373f8b351a385220f4f255', 9, 0), ('block-id-make_dask_chunk-0ec1365e42373f8b351a385220f4f255', 14, 0)} (stimulus_id='handle-worker-cleanup-1711369080.550823')\n",
      "2024-03-25 13:18:00,554 - distributed.nanny - WARNING - Restarting worker\n",
      "2024-03-25 13:18:06,180 - distributed.nanny.memory - WARNING - Worker tcp://127.0.0.1:50620 (pid=35272) exceeded 95% memory budget. Restarting...\n",
      "2024-03-25 13:18:06,281 - distributed.scheduler - WARNING - Removing worker 'tcp://127.0.0.1:50620' caused the cluster to lose already computed task(s), which will be recomputed elsewhere: {('block-id-make_dask_chunk-0ec1365e42373f8b351a385220f4f255', 5, 0), ('block-id-make_dask_chunk-0ec1365e42373f8b351a385220f4f255', 12, 0), ('block-id-make_dask_chunk-0ec1365e42373f8b351a385220f4f255', 8, 0)} (stimulus_id='handle-worker-cleanup-1711369086.281878')\n",
      "2024-03-25 13:18:06,285 - distributed.nanny - WARNING - Restarting worker\n",
      "2024-03-25 13:21:25,281 - distributed.nanny.memory - WARNING - Worker tcp://127.0.0.1:50663 (pid=39680) exceeded 95% memory budget. Restarting...\n",
      "2024-03-25 13:21:25,491 - distributed.scheduler - WARNING - Removing worker 'tcp://127.0.0.1:50663' caused the cluster to lose already computed task(s), which will be recomputed elsewhere: {('make_dask_chunk-0ec1365e42373f8b351a385220f4f255', 5, 0), ('make_dask_chunk-0ec1365e42373f8b351a385220f4f255', 8, 0), ('block-id-make_dask_chunk-0ec1365e42373f8b351a385220f4f255', 13, 0)} (stimulus_id='handle-worker-cleanup-1711369285.489872')\n",
      "2024-03-25 13:21:25,770 - distributed.nanny - WARNING - Restarting worker\n",
      "2024-03-25 13:24:10,476 - distributed.nanny.memory - WARNING - Worker tcp://127.0.0.1:50646 (pid=39057) exceeded 95% memory budget. Restarting...\n",
      "2024-03-25 13:24:11,000 - distributed.scheduler - WARNING - Removing worker 'tcp://127.0.0.1:50646' caused the cluster to lose already computed task(s), which will be recomputed elsewhere: {('make_dask_chunk-0ec1365e42373f8b351a385220f4f255', 4, 0), ('make_dask_chunk-0ec1365e42373f8b351a385220f4f255', 13, 0), ('aggregate_sum-aggregate-getitem-sum_drop_keepdims-truediv-log1p-8cd4f2e566afe2fad2ba9b45d827cbe5', 6, 0), ('aggregate_sum-aggregate-getitem-sum_drop_keepdims-truediv-log1p-8cd4f2e566afe2fad2ba9b45d827cbe5', 9, 0)} (stimulus_id='handle-worker-cleanup-1711369450.999925')\n",
      "2024-03-25 13:24:11,009 - distributed.nanny - WARNING - Restarting worker\n",
      "2024-03-25 13:27:13,682 - distributed.nanny.memory - WARNING - Worker tcp://127.0.0.1:50651 (pid=39305) exceeded 95% memory budget. Restarting...\n",
      "2024-03-25 13:27:14,101 - distributed.scheduler - WARNING - Removing worker 'tcp://127.0.0.1:50651' caused the cluster to lose already computed task(s), which will be recomputed elsewhere: {('make_dask_chunk-0ec1365e42373f8b351a385220f4f255', 7, 0), ('block-id-make_dask_chunk-0ec1365e42373f8b351a385220f4f255', 4, 0), ('make_dask_chunk-0ec1365e42373f8b351a385220f4f255', 8, 0), ('make_dask_chunk-0ec1365e42373f8b351a385220f4f255', 3, 0)} (stimulus_id='handle-worker-cleanup-1711369634.100351')\n",
      "2024-03-25 13:27:14,165 - distributed.nanny - WARNING - Restarting worker\n",
      "2024-03-25 13:28:05,872 - distributed.nanny.memory - WARNING - Worker tcp://127.0.0.1:50656 (pid=39434) exceeded 95% memory budget. Restarting...\n",
      "2024-03-25 13:28:06,975 - distributed.scheduler - WARNING - Removing worker 'tcp://127.0.0.1:50656' caused the cluster to lose already computed task(s), which will be recomputed elsewhere: {('getitem-1edb819e6efb5173784c952f7be277cd', 114, 0), ('getitem-1edb819e6efb5173784c952f7be277cd', 136, 0), ('getitem-1edb819e6efb5173784c952f7be277cd', 127, 0), ('getitem-1edb819e6efb5173784c952f7be277cd', 28, 0), ('getitem-1edb819e6efb5173784c952f7be277cd', 118, 0), ('getitem-1edb819e6efb5173784c952f7be277cd', 120, 0), ('mean_chunk-f06881d111db883152a811939f62bcc3', 29, 0), ('make_dask_chunk-0ec1365e42373f8b351a385220f4f255', 8, 0), ('getitem-1edb819e6efb5173784c952f7be277cd', 111, 0), ('getitem-1edb819e6efb5173784c952f7be277cd', 122, 0), ('getitem-1edb819e6efb5173784c952f7be277cd', 25, 0), ('getitem-1edb819e6efb5173784c952f7be277cd', 133, 0), ('getitem-1edb819e6efb5173784c952f7be277cd', 23, 0), ('getitem-1edb819e6efb5173784c952f7be277cd', 113, 0), ('block-id-make_dask_chunk-0ec1365e42373f8b351a385220f4f255', 4, 0), ('getitem-1edb819e6efb5173784c952f7be277cd', 137, 0), ('getitem-1edb819e6efb5173784c952f7be277cd', 124, 0), ('getitem-1edb819e6efb5173784c952f7be277cd', 115, 0), ('getitem-1edb819e6efb5173784c952f7be277cd', 126, 0), ('getitem-1edb819e6efb5173784c952f7be277cd', 27, 0), ('getitem-1edb819e6efb5173784c952f7be277cd', 117, 0), ('getitem-1edb819e6efb5173784c952f7be277cd', 128, 0), ('getitem-1edb819e6efb5173784c952f7be277cd', 20, 0), ('getitem-1edb819e6efb5173784c952f7be277cd', 29, 0), ('mean_chunk-f06881d111db883152a811939f62bcc3', 28, 0), ('getitem-1edb819e6efb5173784c952f7be277cd', 9, 0), ('getitem-1edb819e6efb5173784c952f7be277cd', 121, 0), ('mean_combine-partial-207067805ca8e2dd0dd4d1a8843575be', 0, 0), ('getitem-1edb819e6efb5173784c952f7be277cd', 119, 0), ('getitem-1edb819e6efb5173784c952f7be277cd', 110, 0), ('getitem-1edb819e6efb5173784c952f7be277cd', 22, 0), ('getitem-1edb819e6efb5173784c952f7be277cd', 112, 0), ('getitem-1edb819e6efb5173784c952f7be277cd', 123, 0), ('getitem-1edb819e6efb5173784c952f7be277cd', 24, 0), ('getitem-1edb819e6efb5173784c952f7be277cd', 125, 0), ('getitem-1edb819e6efb5173784c952f7be277cd', 116, 0)} (stimulus_id='handle-worker-cleanup-1711369686.969433')\n",
      "2024-03-25 13:28:07,156 - distributed.nanny - WARNING - Restarting worker\n",
      "2024-03-25 13:28:08,769 - distributed.nanny.memory - WARNING - Worker tcp://127.0.0.1:50808 (pid=58526) exceeded 95% memory budget. Restarting...\n",
      "2024-03-25 13:28:08,919 - distributed.scheduler - WARNING - Removing worker 'tcp://127.0.0.1:50808' caused the cluster to lose already computed task(s), which will be recomputed elsewhere: {('mean_combine-partial-170c9fedac057d1c0ea34fa6914614ea', 16, 0), ('getitem-1edb819e6efb5173784c952f7be277cd', 145, 0), ('getitem-1edb819e6efb5173784c952f7be277cd', 61, 0), ('getitem-1edb819e6efb5173784c952f7be277cd', 94, 0), ('getitem-1edb819e6efb5173784c952f7be277cd', 138, 0), ('getitem-1edb819e6efb5173784c952f7be277cd', 72, 0), ('mean_chunk-f06881d111db883152a811939f62bcc3', 69, 0), ('getitem-1edb819e6efb5173784c952f7be277cd', 63, 0), ('getitem-1edb819e6efb5173784c952f7be277cd', 96, 0), ('mean_chunk-f06881d111db883152a811939f62bcc3', 91, 0), ('getitem-1edb819e6efb5173784c952f7be277cd', 142, 0), ('log1p-8cd4f2e566afe2fad2ba9b45d827cbe5', 3, 0), ('getitem-1edb819e6efb5173784c952f7be277cd', 140, 0), ('getitem-1edb819e6efb5173784c952f7be277cd', 98, 0), ('getitem-1edb819e6efb5173784c952f7be277cd', 131, 0), ('getitem-1edb819e6efb5173784c952f7be277cd', 74, 0), ('mean_chunk-f06881d111db883152a811939f62bcc3', 73, 0), ('getitem-1edb819e6efb5173784c952f7be277cd', 67, 0), ('getitem-1edb819e6efb5173784c952f7be277cd', 65, 0), ('mean_combine-partial-170c9fedac057d1c0ea34fa6914614ea', 15, 0), ('getitem-1edb819e6efb5173784c952f7be277cd', 144, 0), ('getitem-1edb819e6efb5173784c952f7be277cd', 91, 0), ('getitem-1edb819e6efb5173784c952f7be277cd', 146, 0), ('getitem-1edb819e6efb5173784c952f7be277cd', 135, 0), ('mean_combine-partial-207067805ca8e2dd0dd4d1a8843575be', 7, 0), ('getitem-1edb819e6efb5173784c952f7be277cd', 93, 0), ('getitem-1edb819e6efb5173784c952f7be277cd', 69, 0), ('mean_chunk-f06881d111db883152a811939f62bcc3', 68, 0), ('getitem-1edb819e6efb5173784c952f7be277cd', 62, 0), ('getitem-1edb819e6efb5173784c952f7be277cd', 95, 0), ('getitem-1edb819e6efb5173784c952f7be277cd', 60, 0), ('mean_chunk-f06881d111db883152a811939f62bcc3', 90, 0), ('getitem-1edb819e6efb5173784c952f7be277cd', 139, 0), ('getitem-1edb819e6efb5173784c952f7be277cd', 73, 0), ('getitem-1edb819e6efb5173784c952f7be277cd', 64, 0), ('getitem-1edb819e6efb5173784c952f7be277cd', 97, 0), ('getitem-1edb819e6efb5173784c952f7be277cd', 141, 0), ('getitem-1edb819e6efb5173784c952f7be277cd', 130, 0), ('mean_chunk-f06881d111db883152a811939f62bcc3', 70, 0), ('getitem-1edb819e6efb5173784c952f7be277cd', 66, 0), ('mean_combine-partial-170c9fedac057d1c0ea34fa6914614ea', 23, 0), ('mean_chunk-f06881d111db883152a811939f62bcc3', 72, 0), ('getitem-1edb819e6efb5173784c952f7be277cd', 99, 0), ('getitem-1edb819e6efb5173784c952f7be277cd', 143, 0), ('getitem-1edb819e6efb5173784c952f7be277cd', 132, 0), ('mean_chunk-f06881d111db883152a811939f62bcc3', 74, 0), ('getitem-1edb819e6efb5173784c952f7be277cd', 68, 0), ('getitem-1edb819e6efb5173784c952f7be277cd', 90, 0), ('getitem-1edb819e6efb5173784c952f7be277cd', 70, 0), ('getitem-1edb819e6efb5173784c952f7be277cd', 92, 0)} (stimulus_id='handle-worker-cleanup-1711369688.918821')\n",
      "2024-03-25 13:28:08,931 - distributed.nanny - WARNING - Restarting worker\n",
      "2024-03-25 13:29:12,096 - distributed.nanny.memory - WARNING - Worker tcp://127.0.0.1:50888 (pid=70002) exceeded 95% memory budget. Restarting...\n",
      "2024-03-25 13:29:12,343 - distributed.scheduler - WARNING - Removing worker 'tcp://127.0.0.1:50888' caused the cluster to lose already computed task(s), which will be recomputed elsewhere: {('make_dask_chunk-0ec1365e42373f8b351a385220f4f255', 2, 0), ('aggregate_sum-aggregate-getitem-sum_drop_keepdims-truediv-log1p-8cd4f2e566afe2fad2ba9b45d827cbe5', 3, 0), ('make_dask_chunk-0ec1365e42373f8b351a385220f4f255', 14, 0)} (stimulus_id='handle-worker-cleanup-1711369752.340501')\n",
      "2024-03-25 13:29:12,523 - distributed.nanny - WARNING - Restarting worker\n",
      "2024-03-25 13:30:53,179 - distributed.nanny.memory - WARNING - Worker tcp://127.0.0.1:50903 (pid=73452) exceeded 95% memory budget. Restarting...\n",
      "2024-03-25 13:30:53,368 - distributed.scheduler - WARNING - Removing worker 'tcp://127.0.0.1:50903' caused the cluster to lose already computed task(s), which will be recomputed elsewhere: {('log1p-8cd4f2e566afe2fad2ba9b45d827cbe5', 3, 0), ('mean_chunk-f06881d111db883152a811939f62bcc3', 34, 0), ('getitem-1edb819e6efb5173784c952f7be277cd', 36, 0), ('mean_chunk-f06881d111db883152a811939f62bcc3', 32, 0), ('getitem-1edb819e6efb5173784c952f7be277cd', 32, 0), ('getitem-1edb819e6efb5173784c952f7be277cd', 22, 0), ('getitem-1edb819e6efb5173784c952f7be277cd', 25, 0), ('getitem-1edb819e6efb5173784c952f7be277cd', 20, 0), ('getitem-1edb819e6efb5173784c952f7be277cd', 23, 0), ('getitem-1edb819e6efb5173784c952f7be277cd', 34, 0), ('mean_chunk-f06881d111db883152a811939f62bcc3', 33, 0), ('getitem-1edb819e6efb5173784c952f7be277cd', 35, 0), ('getitem-1edb819e6efb5173784c952f7be277cd', 37, 0), ('getitem-1edb819e6efb5173784c952f7be277cd', 33, 0), ('lambda-rechunk-merge-rechunk-split-getitem-1edb819e6efb5173784c952f7be277cd', 28, 0), ('log1p-8cd4f2e566afe2fad2ba9b45d827cbe5', 2, 0), ('lambda-rechunk-merge-rechunk-split-getitem-1edb819e6efb5173784c952f7be277cd', 24, 0)} (stimulus_id='handle-worker-cleanup-1711369853.368208')\n",
      "2024-03-25 13:30:53,387 - distributed.nanny - WARNING - Restarting worker\n",
      "2024-03-25 13:30:57,008 - distributed.nanny.memory - WARNING - Worker tcp://127.0.0.1:50736 (pid=50175) exceeded 95% memory budget. Restarting...\n",
      "2024-03-25 13:30:57,586 - distributed.scheduler - WARNING - Removing worker 'tcp://127.0.0.1:50736' caused the cluster to lose already computed task(s), which will be recomputed elsewhere: {('mean_combine-partial-170c9fedac057d1c0ea34fa6914614ea', 5, 0), ('getitem-1edb819e6efb5173784c952f7be277cd', 103, 0), ('getitem-1edb819e6efb5173784c952f7be277cd', 15, 0), ('getitem-1edb819e6efb5173784c952f7be277cd', 105, 0), ('getitem-1edb819e6efb5173784c952f7be277cd', 52, 0), ('getitem-1edb819e6efb5173784c952f7be277cd', 50, 0), ('getitem-1edb819e6efb5173784c952f7be277cd', 17, 0), ('getitem-1edb819e6efb5173784c952f7be277cd', 6, 0), ('getitem-1edb819e6efb5173784c952f7be277cd', 21, 0), ('getitem-1edb819e6efb5173784c952f7be277cd', 54, 0), ('getitem-1edb819e6efb5173784c952f7be277cd', 19, 0), ('getitem-1edb819e6efb5173784c952f7be277cd', 109, 0), ('getitem-1edb819e6efb5173784c952f7be277cd', 8, 0), ('getitem-1edb819e6efb5173784c952f7be277cd', 12, 0), ('getitem-1edb819e6efb5173784c952f7be277cd', 129, 0), ('getitem-1edb819e6efb5173784c952f7be277cd', 76, 0), ('getitem-1edb819e6efb5173784c952f7be277cd', 107, 0), ('mean_combine-partial-170c9fedac057d1c0ea34fa6914614ea', 0, 0), ('mean_chunk-f06881d111db883152a811939f62bcc3', 51, 0), ('getitem-1edb819e6efb5173784c952f7be277cd', 56, 0), ('getitem-1edb819e6efb5173784c952f7be277cd', 100, 0), ('getitem-1edb819e6efb5173784c952f7be277cd', 10, 0), ('make_dask_chunk-0ec1365e42373f8b351a385220f4f255', 8, 0), ('getitem-1edb819e6efb5173784c952f7be277cd', 1, 0), ('getitem-1edb819e6efb5173784c952f7be277cd', 58, 0), ('getitem-1edb819e6efb5173784c952f7be277cd', 102, 0), ('getitem-1edb819e6efb5173784c952f7be277cd', 16, 0), ('getitem-1edb819e6efb5173784c952f7be277cd', 14, 0), ('getitem-1edb819e6efb5173784c952f7be277cd', 104, 0), ('mean_combine-partial-170c9fedac057d1c0ea34fa6914614ea', 13, 0), ('mean_combine-partial-170c9fedac057d1c0ea34fa6914614ea', 4, 0), ('getitem-1edb819e6efb5173784c952f7be277cd', 3, 0), ('mean_combine-partial-fec620bf926bd3a13a1c529da7048ca8', 2, 0), ('getitem-1edb819e6efb5173784c952f7be277cd', 51, 0), ('getitem-1edb819e6efb5173784c952f7be277cd', 5, 0), ('getitem-1edb819e6efb5173784c952f7be277cd', 106, 0), ('mean_chunk-f06881d111db883152a811939f62bcc3', 11, 0), ('getitem-1edb819e6efb5173784c952f7be277cd', 18, 0), ('getitem-1edb819e6efb5173784c952f7be277cd', 108, 0), ('getitem-1edb819e6efb5173784c952f7be277cd', 7, 0), ('mean_chunk-f06881d111db883152a811939f62bcc3', 50, 0), ('getitem-1edb819e6efb5173784c952f7be277cd', 0, 0), ('standard_normal-5b025da2d70549b37ca1763dea11ac71', 0, 0), ('block-id-make_dask_chunk-0ec1365e42373f8b351a385220f4f255', 12, 0), ('getitem-1edb819e6efb5173784c952f7be277cd', 53, 0), ('mean_combine-partial-170c9fedac057d1c0ea34fa6914614ea', 3, 0), ('getitem-1edb819e6efb5173784c952f7be277cd', 57, 0), ('getitem-1edb819e6efb5173784c952f7be277cd', 101, 0), ('getitem-1edb819e6efb5173784c952f7be277cd', 55, 0), ('getitem-1edb819e6efb5173784c952f7be277cd', 11, 0), ('getitem-1edb819e6efb5173784c952f7be277cd', 134, 0), ('getitem-1edb819e6efb5173784c952f7be277cd', 59, 0), ('getitem-1edb819e6efb5173784c952f7be277cd', 13, 0), ('getitem-1edb819e6efb5173784c952f7be277cd', 2, 0), ('getitem-1edb819e6efb5173784c952f7be277cd', 79, 0), ('mean_chunk-f06881d111db883152a811939f62bcc3', 8, 0), ('getitem-1edb819e6efb5173784c952f7be277cd', 4, 0), ('mean_chunk-f06881d111db883152a811939f62bcc3', 10, 0), ('make_dask_chunk-0ec1365e42373f8b351a385220f4f255', 11, 0), ('mean_combine-partial-170c9fedac057d1c0ea34fa6914614ea', 14, 0), ('mean_combine-partial-170c9fedac057d1c0ea34fa6914614ea', 1, 0), ('mean_combine-partial-207067805ca8e2dd0dd4d1a8843575be', 6, 0)} (stimulus_id='handle-worker-cleanup-1711369857.581362')\n",
      "2024-03-25 13:30:57,693 - distributed.nanny - WARNING - Restarting worker\n",
      "2024-03-25 13:31:00,269 - distributed.nanny.memory - WARNING - Worker tcp://127.0.0.1:50887 (pid=69880) exceeded 95% memory budget. Restarting...\n",
      "2024-03-25 13:31:00,397 - distributed.scheduler - WARNING - Removing worker 'tcp://127.0.0.1:50887' caused the cluster to lose already computed task(s), which will be recomputed elsewhere: {('make_dask_chunk-0ec1365e42373f8b351a385220f4f255', 7, 0), ('aggregate_sum-aggregate-getitem-sum_drop_keepdims-truediv-log1p-8cd4f2e566afe2fad2ba9b45d827cbe5', 9, 0), ('make_dask_chunk-0ec1365e42373f8b351a385220f4f255', 6, 0)} (stimulus_id='handle-worker-cleanup-1711369860.3974369')\n",
      "2024-03-25 13:31:00,514 - distributed.nanny - WARNING - Restarting worker\n",
      "2024-03-25 13:31:03,679 - distributed.nanny.memory - WARNING - Worker tcp://127.0.0.1:50865 (pid=67164) exceeded 95% memory budget. Restarting...\n",
      "2024-03-25 13:31:03,779 - distributed.nanny.memory - WARNING - Worker tcp://127.0.0.1:50865 (pid=67164) is slow to accept SIGTERM; sending SIGKILL\n",
      "2024-03-25 13:31:03,867 - distributed.scheduler - WARNING - Removing worker 'tcp://127.0.0.1:50865' caused the cluster to lose already computed task(s), which will be recomputed elsewhere: {('lambda-rechunk-merge-rechunk-split-getitem-1edb819e6efb5173784c952f7be277cd', 9, 0), ('mean_combine-partial-170c9fedac057d1c0ea34fa6914614ea', 6, 0), ('log1p-8cd4f2e566afe2fad2ba9b45d827cbe5', 4, 0), ('getitem-1edb819e6efb5173784c952f7be277cd', 77, 0), ('mean_combine-partial-170c9fedac057d1c0ea34fa6914614ea', 19, 0), ('getitem-1edb819e6efb5173784c952f7be277cd', 78, 0), ('mean_chunk-f06881d111db883152a811939f62bcc3', 75, 0), ('aggregate_sum-aggregate-getitem-sum_drop_keepdims-truediv-log1p-8cd4f2e566afe2fad2ba9b45d827cbe5', 13, 0), ('getitem-1edb819e6efb5173784c952f7be277cd', 26, 0), ('mean_chunk-f06881d111db883152a811939f62bcc3', 71, 0), ('getitem-1edb819e6efb5173784c952f7be277cd', 75, 0), ('aggregate_sum-aggregate-getitem-sum_drop_keepdims-truediv-log1p-8cd4f2e566afe2fad2ba9b45d827cbe5', 14, 0), ('getitem-1edb819e6efb5173784c952f7be277cd', 71, 0), ('log1p-8cd4f2e566afe2fad2ba9b45d827cbe5', 0, 0)} (stimulus_id='handle-worker-cleanup-1711369863.867348')\n",
      "2024-03-25 13:31:03,872 - distributed.nanny - WARNING - Restarting worker\n",
      "2024-03-25 13:33:59,470 - distributed.nanny.memory - WARNING - Worker tcp://127.0.0.1:50953 (pid=78660) exceeded 95% memory budget. Restarting...\n",
      "2024-03-25 13:34:00,515 - distributed.scheduler - WARNING - Removing worker 'tcp://127.0.0.1:50953' caused the cluster to lose already computed task(s), which will be recomputed elsewhere: {('block-id-make_dask_chunk-0ec1365e42373f8b351a385220f4f255', 6, 0), ('make_dask_chunk-0ec1365e42373f8b351a385220f4f255', 7, 0), ('make_dask_chunk-0ec1365e42373f8b351a385220f4f255', 9, 0)} (stimulus_id='handle-worker-cleanup-1711370040.510808')\n",
      "2024-03-25 13:34:00,553 - distributed.nanny - WARNING - Restarting worker\n",
      "2024-03-25 13:35:23,978 - distributed.nanny.memory - WARNING - Worker tcp://127.0.0.1:51017 (pid=87430) exceeded 95% memory budget. Restarting...\n",
      "2024-03-25 13:35:24,215 - distributed.scheduler - ERROR - Task ('aggregate_sum-aggregate-getitem-sum_drop_keepdims-truediv-log1p-8cd4f2e566afe2fad2ba9b45d827cbe5', 7, 0) marked as failed because 4 workers died while trying to run it\n",
      "2024-03-25 13:35:24,216 - distributed.scheduler - WARNING - Removing worker 'tcp://127.0.0.1:51017' caused the cluster to lose already computed task(s), which will be recomputed elsewhere: {('make_dask_chunk-0ec1365e42373f8b351a385220f4f255', 7, 0), ('make_dask_chunk-0ec1365e42373f8b351a385220f4f255', 9, 0)} (stimulus_id='handle-worker-cleanup-1711370124.200035')\n",
      "2024-03-25 13:35:24,272 - distributed.nanny - WARNING - Restarting worker\n"
     ]
    }
   ],
   "source": [
    "cluster = dd.LocalCluster(n_workers=4)\n",
    "client = dd.Client(cluster)"
   ]
  },
  {
   "cell_type": "markdown",
   "metadata": {},
   "source": [
    ":::{note}\n",
    "In this notebook we will be demonstrating some computations in scanpy that use `scipy.sparse` classes within each dask chunk. Be aware that this is currently poorly supported by `dask`, and that if you want to interact with the `dask` arrays in any way other than though the `anndata` and `scanpy` libraries you will likely need to densify each chunk.\n",
    "\n",
    "All operations in `scanpy` and `anndata` that work with sparse chunks also work with `dense` chunks.\n",
    "\n",
    "The advantage of using sparse chunks are:\n",
    "\n",
    "* The ability to work with fewer, larger chunks\n",
    "* Accelerated computations per chunk (e.g. don't need to `sum` all those extra zeros)\n",
    "\n",
    "You can convert from `sparse` to `dense` chunks via:\n",
    "\n",
    "```python\n",
    "X = X.map_blocks(lambda x: x.toarray(), dtype=X.dtype, meta=np.array([]))\n",
    "```\n",
    "\n",
    "And in reverse:\n",
    "\n",
    "```python\n",
    "X = X.map_blocks(sparse.csr_matrix)\n",
    "```\n",
    "\n",
    "Note that you will likely have to work with smaller chunks when doing this, via a rechunking operation. We suggest using a factor of the larger chunk size to achieve the most efficient rechunking.\n",
    "\n",
    ":::"
   ]
  },
  {
   "cell_type": "code",
   "execution_count": 4,
   "metadata": {},
   "outputs": [],
   "source": [
    "SPARSE_CHUNK_SIZE = 100_000\n",
    "DENSE_CHUNK_SIZE = 10_000"
   ]
  },
  {
   "cell_type": "markdown",
   "metadata": {},
   "source": [
    "Dask provides extensive tooling for monitoring your computation. You can access that via the dashboard started when using any of their distributed clusters.\n",
    "\n",
    ":::{note} `dask` will ask you to install `bokeh` via (at the time of writing this notebook): `pip install bokeh!=3.0.*,>=2.4.2`.  However, this may change in the future, and so if you wish to monitor computation, please click the URL below for the dashboard and follow the instructions before restarting the kernel and then proceeding."
   ]
  },
  {
   "cell_type": "code",
   "execution_count": 5,
   "metadata": {},
   "outputs": [
    {
     "data": {
      "text/html": [
       "<div>\n",
       "    <div style=\"width: 24px; height: 24px; background-color: #e1e1e1; border: 3px solid #9D9D9D; border-radius: 5px; position: absolute;\"> </div>\n",
       "    <div style=\"margin-left: 48px;\">\n",
       "        <h3 style=\"margin-bottom: 0px;\">Client</h3>\n",
       "        <p style=\"color: #9D9D9D; margin-bottom: 0px;\">Client-8a49e5ce-eaa1-11ee-87cf-6672ee185ae2</p>\n",
       "        <table style=\"width: 100%; text-align: left;\">\n",
       "\n",
       "        <tr>\n",
       "        \n",
       "            <td style=\"text-align: left;\"><strong>Connection method:</strong> Cluster object</td>\n",
       "            <td style=\"text-align: left;\"><strong>Cluster type:</strong> distributed.LocalCluster</td>\n",
       "        \n",
       "        </tr>\n",
       "\n",
       "        \n",
       "            <tr>\n",
       "                <td style=\"text-align: left;\">\n",
       "                    <strong>Dashboard: </strong> <a href=\"http://127.0.0.1:8787/status\" target=\"_blank\">http://127.0.0.1:8787/status</a>\n",
       "                </td>\n",
       "                <td style=\"text-align: left;\"></td>\n",
       "            </tr>\n",
       "        \n",
       "\n",
       "        </table>\n",
       "\n",
       "        \n",
       "\n",
       "        \n",
       "            <details>\n",
       "            <summary style=\"margin-bottom: 20px;\"><h3 style=\"display: inline;\">Cluster Info</h3></summary>\n",
       "            <div class=\"jp-RenderedHTMLCommon jp-RenderedHTML jp-mod-trusted jp-OutputArea-output\">\n",
       "    <div style=\"width: 24px; height: 24px; background-color: #e1e1e1; border: 3px solid #9D9D9D; border-radius: 5px; position: absolute;\">\n",
       "    </div>\n",
       "    <div style=\"margin-left: 48px;\">\n",
       "        <h3 style=\"margin-bottom: 0px; margin-top: 0px;\">LocalCluster</h3>\n",
       "        <p style=\"color: #9D9D9D; margin-bottom: 0px;\">bf31ab04</p>\n",
       "        <table style=\"width: 100%; text-align: left;\">\n",
       "            <tr>\n",
       "                <td style=\"text-align: left;\">\n",
       "                    <strong>Dashboard:</strong> <a href=\"http://127.0.0.1:8787/status\" target=\"_blank\">http://127.0.0.1:8787/status</a>\n",
       "                </td>\n",
       "                <td style=\"text-align: left;\">\n",
       "                    <strong>Workers:</strong> 4\n",
       "                </td>\n",
       "            </tr>\n",
       "            <tr>\n",
       "                <td style=\"text-align: left;\">\n",
       "                    <strong>Total threads:</strong> 8\n",
       "                </td>\n",
       "                <td style=\"text-align: left;\">\n",
       "                    <strong>Total memory:</strong> 16.00 GiB\n",
       "                </td>\n",
       "            </tr>\n",
       "            \n",
       "            <tr>\n",
       "    <td style=\"text-align: left;\"><strong>Status:</strong> running</td>\n",
       "    <td style=\"text-align: left;\"><strong>Using processes:</strong> True</td>\n",
       "</tr>\n",
       "\n",
       "            \n",
       "        </table>\n",
       "\n",
       "        <details>\n",
       "            <summary style=\"margin-bottom: 20px;\">\n",
       "                <h3 style=\"display: inline;\">Scheduler Info</h3>\n",
       "            </summary>\n",
       "\n",
       "            <div style=\"\">\n",
       "    <div>\n",
       "        <div style=\"width: 24px; height: 24px; background-color: #FFF7E5; border: 3px solid #FF6132; border-radius: 5px; position: absolute;\"> </div>\n",
       "        <div style=\"margin-left: 48px;\">\n",
       "            <h3 style=\"margin-bottom: 0px;\">Scheduler</h3>\n",
       "            <p style=\"color: #9D9D9D; margin-bottom: 0px;\">Scheduler-9c92cb50-b6bf-401a-aee6-a1a7f5c00b93</p>\n",
       "            <table style=\"width: 100%; text-align: left;\">\n",
       "                <tr>\n",
       "                    <td style=\"text-align: left;\">\n",
       "                        <strong>Comm:</strong> tcp://127.0.0.1:50607\n",
       "                    </td>\n",
       "                    <td style=\"text-align: left;\">\n",
       "                        <strong>Workers:</strong> 4\n",
       "                    </td>\n",
       "                </tr>\n",
       "                <tr>\n",
       "                    <td style=\"text-align: left;\">\n",
       "                        <strong>Dashboard:</strong> <a href=\"http://127.0.0.1:8787/status\" target=\"_blank\">http://127.0.0.1:8787/status</a>\n",
       "                    </td>\n",
       "                    <td style=\"text-align: left;\">\n",
       "                        <strong>Total threads:</strong> 8\n",
       "                    </td>\n",
       "                </tr>\n",
       "                <tr>\n",
       "                    <td style=\"text-align: left;\">\n",
       "                        <strong>Started:</strong> Just now\n",
       "                    </td>\n",
       "                    <td style=\"text-align: left;\">\n",
       "                        <strong>Total memory:</strong> 16.00 GiB\n",
       "                    </td>\n",
       "                </tr>\n",
       "            </table>\n",
       "        </div>\n",
       "    </div>\n",
       "\n",
       "    <details style=\"margin-left: 48px;\">\n",
       "        <summary style=\"margin-bottom: 20px;\">\n",
       "            <h3 style=\"display: inline;\">Workers</h3>\n",
       "        </summary>\n",
       "\n",
       "        \n",
       "        <div style=\"margin-bottom: 20px;\">\n",
       "            <div style=\"width: 24px; height: 24px; background-color: #DBF5FF; border: 3px solid #4CC9FF; border-radius: 5px; position: absolute;\"> </div>\n",
       "            <div style=\"margin-left: 48px;\">\n",
       "            <details>\n",
       "                <summary>\n",
       "                    <h4 style=\"margin-bottom: 0px; display: inline;\">Worker: 0</h4>\n",
       "                </summary>\n",
       "                <table style=\"width: 100%; text-align: left;\">\n",
       "                    <tr>\n",
       "                        <td style=\"text-align: left;\">\n",
       "                            <strong>Comm: </strong> tcp://127.0.0.1:50619\n",
       "                        </td>\n",
       "                        <td style=\"text-align: left;\">\n",
       "                            <strong>Total threads: </strong> 2\n",
       "                        </td>\n",
       "                    </tr>\n",
       "                    <tr>\n",
       "                        <td style=\"text-align: left;\">\n",
       "                            <strong>Dashboard: </strong> <a href=\"http://127.0.0.1:50625/status\" target=\"_blank\">http://127.0.0.1:50625/status</a>\n",
       "                        </td>\n",
       "                        <td style=\"text-align: left;\">\n",
       "                            <strong>Memory: </strong> 4.00 GiB\n",
       "                        </td>\n",
       "                    </tr>\n",
       "                    <tr>\n",
       "                        <td style=\"text-align: left;\">\n",
       "                            <strong>Nanny: </strong> tcp://127.0.0.1:50610\n",
       "                        </td>\n",
       "                        <td style=\"text-align: left;\"></td>\n",
       "                    </tr>\n",
       "                    <tr>\n",
       "                        <td colspan=\"2\" style=\"text-align: left;\">\n",
       "                            <strong>Local directory: </strong> /var/folders/k9/9wc7lvwj2g34_r74kn6cr0nr0000gn/T/dask-scratch-space/worker-i0quaz87\n",
       "                        </td>\n",
       "                    </tr>\n",
       "\n",
       "                    \n",
       "\n",
       "                    \n",
       "\n",
       "                </table>\n",
       "            </details>\n",
       "            </div>\n",
       "        </div>\n",
       "        \n",
       "        <div style=\"margin-bottom: 20px;\">\n",
       "            <div style=\"width: 24px; height: 24px; background-color: #DBF5FF; border: 3px solid #4CC9FF; border-radius: 5px; position: absolute;\"> </div>\n",
       "            <div style=\"margin-left: 48px;\">\n",
       "            <details>\n",
       "                <summary>\n",
       "                    <h4 style=\"margin-bottom: 0px; display: inline;\">Worker: 1</h4>\n",
       "                </summary>\n",
       "                <table style=\"width: 100%; text-align: left;\">\n",
       "                    <tr>\n",
       "                        <td style=\"text-align: left;\">\n",
       "                            <strong>Comm: </strong> tcp://127.0.0.1:50618\n",
       "                        </td>\n",
       "                        <td style=\"text-align: left;\">\n",
       "                            <strong>Total threads: </strong> 2\n",
       "                        </td>\n",
       "                    </tr>\n",
       "                    <tr>\n",
       "                        <td style=\"text-align: left;\">\n",
       "                            <strong>Dashboard: </strong> <a href=\"http://127.0.0.1:50624/status\" target=\"_blank\">http://127.0.0.1:50624/status</a>\n",
       "                        </td>\n",
       "                        <td style=\"text-align: left;\">\n",
       "                            <strong>Memory: </strong> 4.00 GiB\n",
       "                        </td>\n",
       "                    </tr>\n",
       "                    <tr>\n",
       "                        <td style=\"text-align: left;\">\n",
       "                            <strong>Nanny: </strong> tcp://127.0.0.1:50612\n",
       "                        </td>\n",
       "                        <td style=\"text-align: left;\"></td>\n",
       "                    </tr>\n",
       "                    <tr>\n",
       "                        <td colspan=\"2\" style=\"text-align: left;\">\n",
       "                            <strong>Local directory: </strong> /var/folders/k9/9wc7lvwj2g34_r74kn6cr0nr0000gn/T/dask-scratch-space/worker-_9kdlq2s\n",
       "                        </td>\n",
       "                    </tr>\n",
       "\n",
       "                    \n",
       "\n",
       "                    \n",
       "\n",
       "                </table>\n",
       "            </details>\n",
       "            </div>\n",
       "        </div>\n",
       "        \n",
       "        <div style=\"margin-bottom: 20px;\">\n",
       "            <div style=\"width: 24px; height: 24px; background-color: #DBF5FF; border: 3px solid #4CC9FF; border-radius: 5px; position: absolute;\"> </div>\n",
       "            <div style=\"margin-left: 48px;\">\n",
       "            <details>\n",
       "                <summary>\n",
       "                    <h4 style=\"margin-bottom: 0px; display: inline;\">Worker: 2</h4>\n",
       "                </summary>\n",
       "                <table style=\"width: 100%; text-align: left;\">\n",
       "                    <tr>\n",
       "                        <td style=\"text-align: left;\">\n",
       "                            <strong>Comm: </strong> tcp://127.0.0.1:50621\n",
       "                        </td>\n",
       "                        <td style=\"text-align: left;\">\n",
       "                            <strong>Total threads: </strong> 2\n",
       "                        </td>\n",
       "                    </tr>\n",
       "                    <tr>\n",
       "                        <td style=\"text-align: left;\">\n",
       "                            <strong>Dashboard: </strong> <a href=\"http://127.0.0.1:50623/status\" target=\"_blank\">http://127.0.0.1:50623/status</a>\n",
       "                        </td>\n",
       "                        <td style=\"text-align: left;\">\n",
       "                            <strong>Memory: </strong> 4.00 GiB\n",
       "                        </td>\n",
       "                    </tr>\n",
       "                    <tr>\n",
       "                        <td style=\"text-align: left;\">\n",
       "                            <strong>Nanny: </strong> tcp://127.0.0.1:50614\n",
       "                        </td>\n",
       "                        <td style=\"text-align: left;\"></td>\n",
       "                    </tr>\n",
       "                    <tr>\n",
       "                        <td colspan=\"2\" style=\"text-align: left;\">\n",
       "                            <strong>Local directory: </strong> /var/folders/k9/9wc7lvwj2g34_r74kn6cr0nr0000gn/T/dask-scratch-space/worker-3myt70ww\n",
       "                        </td>\n",
       "                    </tr>\n",
       "\n",
       "                    \n",
       "\n",
       "                    \n",
       "\n",
       "                </table>\n",
       "            </details>\n",
       "            </div>\n",
       "        </div>\n",
       "        \n",
       "        <div style=\"margin-bottom: 20px;\">\n",
       "            <div style=\"width: 24px; height: 24px; background-color: #DBF5FF; border: 3px solid #4CC9FF; border-radius: 5px; position: absolute;\"> </div>\n",
       "            <div style=\"margin-left: 48px;\">\n",
       "            <details>\n",
       "                <summary>\n",
       "                    <h4 style=\"margin-bottom: 0px; display: inline;\">Worker: 3</h4>\n",
       "                </summary>\n",
       "                <table style=\"width: 100%; text-align: left;\">\n",
       "                    <tr>\n",
       "                        <td style=\"text-align: left;\">\n",
       "                            <strong>Comm: </strong> tcp://127.0.0.1:50620\n",
       "                        </td>\n",
       "                        <td style=\"text-align: left;\">\n",
       "                            <strong>Total threads: </strong> 2\n",
       "                        </td>\n",
       "                    </tr>\n",
       "                    <tr>\n",
       "                        <td style=\"text-align: left;\">\n",
       "                            <strong>Dashboard: </strong> <a href=\"http://127.0.0.1:50622/status\" target=\"_blank\">http://127.0.0.1:50622/status</a>\n",
       "                        </td>\n",
       "                        <td style=\"text-align: left;\">\n",
       "                            <strong>Memory: </strong> 4.00 GiB\n",
       "                        </td>\n",
       "                    </tr>\n",
       "                    <tr>\n",
       "                        <td style=\"text-align: left;\">\n",
       "                            <strong>Nanny: </strong> tcp://127.0.0.1:50616\n",
       "                        </td>\n",
       "                        <td style=\"text-align: left;\"></td>\n",
       "                    </tr>\n",
       "                    <tr>\n",
       "                        <td colspan=\"2\" style=\"text-align: left;\">\n",
       "                            <strong>Local directory: </strong> /var/folders/k9/9wc7lvwj2g34_r74kn6cr0nr0000gn/T/dask-scratch-space/worker-cjxefjad\n",
       "                        </td>\n",
       "                    </tr>\n",
       "\n",
       "                    \n",
       "\n",
       "                    \n",
       "\n",
       "                </table>\n",
       "            </details>\n",
       "            </div>\n",
       "        </div>\n",
       "        \n",
       "\n",
       "    </details>\n",
       "</div>\n",
       "\n",
       "        </details>\n",
       "    </div>\n",
       "</div>\n",
       "            </details>\n",
       "        \n",
       "\n",
       "    </div>\n",
       "</div>"
      ],
      "text/plain": [
       "<Client: 'tcp://127.0.0.1:50607' processes=4 threads=8, memory=16.00 GiB>"
      ]
     },
     "execution_count": 5,
     "metadata": {},
     "output_type": "execute_result"
    }
   ],
   "source": [
    "client"
   ]
  },
  {
   "cell_type": "markdown",
   "metadata": {},
   "source": [
    "We'll convert the `X` representation to `dask`.  For more info on i/o from disk, please see the `anndata` tutorials, e.g. [here](https://anndata.readthedocs.io/en/latest/tutorials/notebooks/anndata_dask_array.html) or [here](https://anndata.readthedocs.io/en/latest/tutorials/notebooks/%7Bread%2Cwrite%7D_dispatched.html).  For now, simply converting `X` will be enough to demonstrate the functionality of scanpy with dask.\n",
    "\n",
    ":::{note}\n",
    "`h5py` can be a little difficult to handle with dask as dask cannot serialize them. `zarr` objects do not have this issue.\n",
    ":::"
   ]
  },
  {
   "cell_type": "code",
   "execution_count": 6,
   "metadata": {},
   "outputs": [],
   "source": [
    "def read_sparse_as_dask(file_pth: str, elem_name: str, stride: int):\n",
    "    with h5py.File(file_pth, \"r\") as f:\n",
    "        elem = f[elem_name]\n",
    "        shape = elem.attrs[\"shape\"]\n",
    "        if (encoding_type := elem.attrs[\"encoding-type\"]) != \"csr_matrix\":\n",
    "            raise ValueError(\n",
    "                f\"This method was only written for csr_matrix encoding, but a {encoding_type} encoding was found.\"\n",
    "            )\n",
    "        dtype = elem[\"data\"].dtype\n",
    "\n",
    "    def make_dask_chunk(block_id=None):\n",
    "        # We need to open the file in each task since `dask` cannot share h5py objects when using `dask.distributed`\n",
    "        # https://github.com/scverse/anndata/issues/1105\n",
    "        with h5py.File(file_pth, \"r\") as f:\n",
    "            mtx = ad.experimental.sparse_dataset(f[elem_name])\n",
    "            (row, _) = block_id\n",
    "            chunk = mtx[\n",
    "                slice(\n",
    "                    row * stride,\n",
    "                    min((row * stride) + stride, shape[0]),\n",
    "                )\n",
    "            ]\n",
    "        return chunk\n",
    "\n",
    "    chunks_0 = (stride,) * (shape[0] // stride)\n",
    "    chunks_0 += (shape[0] % stride,)\n",
    "    chunks_1 = (shape[1],)\n",
    "    da_mtx = da.map_blocks(\n",
    "        make_dask_chunk,\n",
    "        dtype=dtype,\n",
    "        chunks=(chunks_0, chunks_1),\n",
    "        meta=sparse.csr_matrix((0, 0), dtype=np.float32),\n",
    "    )\n",
    "    return da_mtx"
   ]
  },
  {
   "cell_type": "markdown",
   "metadata": {},
   "source": [
    "The file we've retrieved from cellxgene has already been processed. Since this tutorial is demonstrating processing from counts, we're just going to access the counts matrix and annotations."
   ]
  },
  {
   "cell_type": "code",
   "execution_count": 7,
   "metadata": {},
   "outputs": [
    {
     "name": "stdout",
     "output_type": "stream",
     "text": [
      "CPU times: user 1.69 s, sys: 224 ms, total: 1.91 s\n",
      "Wall time: 2.16 s\n"
     ]
    },
    {
     "data": {
      "text/plain": [
       "AnnData object with n_obs × n_vars = 1462702 × 27714\n",
       "    obs: 'celltype', 'majorType', 'City', 'sampleID', 'donor_id', 'Sample type', 'CoVID-19 severity', 'Sample time', 'Sampling day (Days after symptom onset)', 'BCR single cell sequencing', 'TCR single cell sequencing', 'Outcome', 'Comorbidities', 'COVID-19-related medication and anti-microbials', 'Leukocytes [G over L]', 'Neutrophils [G over L]', 'Lymphocytes [G over L]', 'Unpublished', 'disease_ontology_term_id', 'cell_type_ontology_term_id', 'tissue_ontology_term_id', 'development_stage_ontology_term_id', 'self_reported_ethnicity_ontology_term_id', 'assay_ontology_term_id', 'sex_ontology_term_id', 'is_primary_data', 'organism_ontology_term_id', 'suspension_type', 'tissue_type', 'cell_type', 'assay', 'disease', 'organism', 'sex', 'tissue', 'self_reported_ethnicity', 'development_stage', 'observation_joinid'\n",
       "    var: 'feature_is_filtered', 'feature_name', 'feature_reference', 'feature_biotype', 'feature_length'"
      ]
     },
     "execution_count": 7,
     "metadata": {},
     "output_type": "execute_result"
    }
   ],
   "source": [
    "%%time\n",
    "with h5py.File(\"cell_atlas.h5ad\", \"r\") as f:\n",
    "    adata = ad.AnnData(\n",
    "        obs=ad.experimental.read_elem(f[\"obs\"]),\n",
    "        var=ad.experimental.read_elem(f[\"var\"]),\n",
    "    )\n",
    "\n",
    "adata.X = read_sparse_as_dask(\"cell_atlas.h5ad\", \"raw/X\", SPARSE_CHUNK_SIZE)\n",
    "adata"
   ]
  },
  {
   "cell_type": "markdown",
   "metadata": {},
   "source": [
    "We've optimized a number of scanpy functions to be completely lazy. That means it will look like nothing is computed when you call an operation on a dask array, but only later when you hit compute.\n",
    "\n",
    "In some cases it's currently unavoidable to skip all computation, and these cases will kick off compute for all the delayed operations immediately."
   ]
  },
  {
   "cell_type": "code",
   "execution_count": 8,
   "metadata": {},
   "outputs": [
    {
     "name": "stdout",
     "output_type": "stream",
     "text": [
      "CPU times: user 4.26 ms, sys: 996 µs, total: 5.25 ms\n",
      "Wall time: 5.17 ms\n"
     ]
    }
   ],
   "source": [
    "%%time\n",
    "adata.layers[\"counts\"] = adata.X.copy()  # Making sure we keep access to the raw counts\n",
    "sc.pp.normalize_total(adata, target_sum=1e4)"
   ]
  },
  {
   "cell_type": "code",
   "execution_count": 9,
   "metadata": {},
   "outputs": [
    {
     "name": "stdout",
     "output_type": "stream",
     "text": [
      "CPU times: user 1.04 ms, sys: 295 µs, total: 1.33 ms\n",
      "Wall time: 1.26 ms\n"
     ]
    }
   ],
   "source": [
    "%%time\n",
    "sc.pp.log1p(adata)"
   ]
  },
  {
   "cell_type": "markdown",
   "metadata": {},
   "source": [
    "Highly variable genes needs to add entries into `obs`, which currently does not support lazy column. So computation will occur immediately on call."
   ]
  },
  {
   "cell_type": "code",
   "execution_count": 10,
   "metadata": {},
   "outputs": [
    {
     "name": "stderr",
     "output_type": "stream",
     "text": [
      "2024-03-25 13:19:13,958 - distributed.worker.memory - WARNING - Worker is at 80% memory usage. Pausing worker.  Process memory: 3.21 GiB -- Worker memory limit: 4.00 GiB\n",
      "2024-03-25 13:19:20,534 - distributed.worker.memory - WARNING - Worker is at 26% memory usage. Resuming worker. Process memory: 1.05 GiB -- Worker memory limit: 4.00 GiB\n",
      "2024-03-25 13:21:25,511 - distributed.worker - ERROR - Worker stream died during communication: tcp://127.0.0.1:50663\n",
      "Traceback (most recent call last):\n",
      "  File \"/Users/ilangold/Projects/Theis/scanpy/venv/lib/python3.12/site-packages/tornado/iostream.py\", line 861, in _read_to_buffer\n",
      "    bytes_read = self.read_from_fd(buf)\n",
      "                 ^^^^^^^^^^^^^^^^^^^^^^\n",
      "  File \"/Users/ilangold/Projects/Theis/scanpy/venv/lib/python3.12/site-packages/tornado/iostream.py\", line 1116, in read_from_fd\n",
      "    return self.socket.recv_into(buf, len(buf))\n",
      "           ^^^^^^^^^^^^^^^^^^^^^^^^^^^^^^^^^^^^\n",
      "ConnectionResetError: [Errno 54] Connection reset by peer\n",
      "\n",
      "The above exception was the direct cause of the following exception:\n",
      "\n",
      "Traceback (most recent call last):\n",
      "  File \"/Users/ilangold/Projects/Theis/scanpy/venv/lib/python3.12/site-packages/distributed/worker.py\", line 2059, in gather_dep\n",
      "    response = await get_data_from_worker(\n",
      "               ^^^^^^^^^^^^^^^^^^^^^^^^^^^\n",
      "  File \"/Users/ilangold/Projects/Theis/scanpy/venv/lib/python3.12/site-packages/distributed/worker.py\", line 2860, in get_data_from_worker\n",
      "    comm = await rpc.connect(worker)\n",
      "           ^^^^^^^^^^^^^^^^^^^^^^^^^\n",
      "  File \"/Users/ilangold/Projects/Theis/scanpy/venv/lib/python3.12/site-packages/distributed/core.py\", line 1620, in connect\n",
      "    return await self._connect(addr=addr, timeout=timeout)\n",
      "           ^^^^^^^^^^^^^^^^^^^^^^^^^^^^^^^^^^^^^^^^^^^^^^^\n",
      "  File \"/Users/ilangold/Projects/Theis/scanpy/venv/lib/python3.12/site-packages/distributed/core.py\", line 1564, in _connect\n",
      "    comm = await connect(\n",
      "           ^^^^^^^^^^^^^^\n",
      "  File \"/Users/ilangold/Projects/Theis/scanpy/venv/lib/python3.12/site-packages/distributed/comm/core.py\", line 377, in connect\n",
      "    handshake = await comm.read()\n",
      "                ^^^^^^^^^^^^^^^^^\n",
      "  File \"/Users/ilangold/Projects/Theis/scanpy/venv/lib/python3.12/site-packages/distributed/comm/tcp.py\", line 236, in read\n",
      "    convert_stream_closed_error(self, e)\n",
      "  File \"/Users/ilangold/Projects/Theis/scanpy/venv/lib/python3.12/site-packages/distributed/comm/tcp.py\", line 140, in convert_stream_closed_error\n",
      "    raise CommClosedError(f\"in {obj}: {exc.__class__.__name__}: {exc}\") from exc\n",
      "distributed.comm.core.CommClosedError: in <TCP (closed)  local=tcp://127.0.0.1:50735 remote=tcp://127.0.0.1:50663>: ConnectionResetError: [Errno 54] Connection reset by peer\n",
      "2024-03-25 13:21:41,351 - distributed.worker.memory - WARNING - Worker is at 81% memory usage. Pausing worker.  Process memory: 3.27 GiB -- Worker memory limit: 4.00 GiB\n",
      "2024-03-25 13:21:41,352 - distributed.worker.memory - WARNING - Unmanaged memory use is high. This may indicate a memory leak or the memory may not be released to the OS; see https://distributed.dask.org/en/latest/worker-memory.html#memory-not-released-back-to-the-os for more information. -- Unmanaged memory: 3.27 GiB -- Worker memory limit: 4.00 GiB\n",
      "2024-03-25 13:21:41,574 - distributed.worker.memory - WARNING - Worker is at 66% memory usage. Resuming worker. Process memory: 2.65 GiB -- Worker memory limit: 4.00 GiB\n",
      "2024-03-25 13:21:42,569 - distributed.worker.memory - WARNING - Worker is at 80% memory usage. Pausing worker.  Process memory: 3.23 GiB -- Worker memory limit: 4.00 GiB\n",
      "2024-03-25 13:21:42,884 - distributed.worker.memory - WARNING - Worker is at 35% memory usage. Resuming worker. Process memory: 1.42 GiB -- Worker memory limit: 4.00 GiB\n",
      "2024-03-25 13:21:48,731 - distributed.worker.memory - WARNING - Unmanaged memory use is high. This may indicate a memory leak or the memory may not be released to the OS; see https://distributed.dask.org/en/latest/worker-memory.html#memory-not-released-back-to-the-os for more information. -- Unmanaged memory: 2.67 GiB -- Worker memory limit: 4.00 GiB\n"
     ]
    },
    {
     "name": "stdout",
     "output_type": "stream",
     "text": [
      "CPU times: user 7.75 s, sys: 4.55 s, total: 12.3 s\n",
      "Wall time: 5min 11s\n"
     ]
    }
   ],
   "source": [
    "%%time\n",
    "sc.pp.highly_variable_genes(adata)"
   ]
  },
  {
   "cell_type": "markdown",
   "metadata": {},
   "source": [
    "PCA currently does not support sparse data. So we will need to densify the expression matrix before passing it in. However, as we are working with only a subset of the data at a time, we are able to perform this operation with a lower memory overhead.\n",
    "\n",
    "As this is a still a significant increase in memory usage per chunk, we will need to reduce the number of observations present in each chunk."
   ]
  },
  {
   "cell_type": "code",
   "execution_count": 11,
   "metadata": {},
   "outputs": [],
   "source": [
    "adata.layers[\"dense\"] = adata.X.rechunk((DENSE_CHUNK_SIZE, -1)).map_blocks(\n",
    "    lambda x: x.toarray(), dtype=adata.X.dtype, meta=np.array([])\n",
    ")"
   ]
  },
  {
   "cell_type": "code",
   "execution_count": 12,
   "metadata": {},
   "outputs": [
    {
     "name": "stderr",
     "output_type": "stream",
     "text": [
      "2024-03-25 13:24:07,090 - distributed.worker.memory - WARNING - Worker is at 84% memory usage. Pausing worker.  Process memory: 3.38 GiB -- Worker memory limit: 4.00 GiB\n",
      "2024-03-25 13:24:07,172 - distributed.worker.memory - WARNING - Worker is at 12% memory usage. Resuming worker. Process memory: 522.72 MiB -- Worker memory limit: 4.00 GiB\n",
      "2024-03-25 13:24:12,477 - distributed.worker - ERROR - failed during get data with tcp://127.0.0.1:50736 -> tcp://127.0.0.1:50646\n",
      "Traceback (most recent call last):\n",
      "  File \"/Users/ilangold/Projects/Theis/scanpy/venv/lib/python3.12/site-packages/distributed/comm/tcp.py\", line 297, in write\n",
      "    raise StreamClosedError()\n",
      "tornado.iostream.StreamClosedError: Stream is closed\n",
      "\n",
      "The above exception was the direct cause of the following exception:\n",
      "\n",
      "Traceback (most recent call last):\n",
      "  File \"/Users/ilangold/Projects/Theis/scanpy/venv/lib/python3.12/site-packages/distributed/worker.py\", line 1782, in get_data\n",
      "    compressed = await comm.write(msg, serializers=serializers)\n",
      "                 ^^^^^^^^^^^^^^^^^^^^^^^^^^^^^^^^^^^^^^^^^^^^^^\n",
      "  File \"/Users/ilangold/Projects/Theis/scanpy/venv/lib/python3.12/site-packages/distributed/comm/tcp.py\", line 307, in write\n",
      "    convert_stream_closed_error(self, e)\n",
      "  File \"/Users/ilangold/Projects/Theis/scanpy/venv/lib/python3.12/site-packages/distributed/comm/tcp.py\", line 142, in convert_stream_closed_error\n",
      "    raise CommClosedError(f\"in {obj}: {exc}\") from exc\n",
      "distributed.comm.core.CommClosedError: in <TCP (closed)  local=tcp://127.0.0.1:50736 remote=tcp://127.0.0.1:50752>: Stream is closed\n",
      "2024-03-25 13:24:12,672 - distributed.worker.memory - WARNING - Worker is at 86% memory usage. Pausing worker.  Process memory: 3.45 GiB -- Worker memory limit: 4.00 GiB\n",
      "2024-03-25 13:24:13,024 - distributed.worker.memory - WARNING - Worker is at 64% memory usage. Resuming worker. Process memory: 2.57 GiB -- Worker memory limit: 4.00 GiB\n",
      "2024-03-25 13:27:14,055 - distributed.worker - ERROR - Worker stream died during communication: tcp://127.0.0.1:50651\n",
      "Traceback (most recent call last):\n",
      "  File \"/Users/ilangold/Projects/Theis/scanpy/venv/lib/python3.12/site-packages/distributed/comm/tcp.py\", line 227, in read\n",
      "    frames_nosplit = await read_bytes_rw(stream, frames_nosplit_nbytes)\n",
      "                     ^^^^^^^^^^^^^^^^^^^^^^^^^^^^^^^^^^^^^^^^^^^^^^^^^^\n",
      "  File \"/Users/ilangold/Projects/Theis/scanpy/venv/lib/python3.12/site-packages/distributed/comm/tcp.py\", line 366, in read_bytes_rw\n",
      "    actual = await stream.read_into(chunk)  # type: ignore[arg-type]\n",
      "             ^^^^^^^^^^^^^^^^^^^^^^^^^^^^^\n",
      "tornado.iostream.StreamClosedError: Stream is closed\n",
      "\n",
      "The above exception was the direct cause of the following exception:\n",
      "\n",
      "Traceback (most recent call last):\n",
      "  File \"/Users/ilangold/Projects/Theis/scanpy/venv/lib/python3.12/site-packages/distributed/worker.py\", line 2059, in gather_dep\n",
      "    response = await get_data_from_worker(\n",
      "               ^^^^^^^^^^^^^^^^^^^^^^^^^^^\n",
      "  File \"/Users/ilangold/Projects/Theis/scanpy/venv/lib/python3.12/site-packages/distributed/worker.py\", line 2863, in get_data_from_worker\n",
      "    response = await send_recv(\n",
      "               ^^^^^^^^^^^^^^^^\n",
      "  File \"/Users/ilangold/Projects/Theis/scanpy/venv/lib/python3.12/site-packages/distributed/core.py\", line 1154, in send_recv\n",
      "    response = await comm.read(deserializers=deserializers)\n",
      "               ^^^^^^^^^^^^^^^^^^^^^^^^^^^^^^^^^^^^^^^^^^^^\n",
      "  File \"/Users/ilangold/Projects/Theis/scanpy/venv/lib/python3.12/site-packages/distributed/comm/tcp.py\", line 236, in read\n",
      "    convert_stream_closed_error(self, e)\n",
      "  File \"/Users/ilangold/Projects/Theis/scanpy/venv/lib/python3.12/site-packages/distributed/comm/tcp.py\", line 142, in convert_stream_closed_error\n",
      "    raise CommClosedError(f\"in {obj}: {exc}\") from exc\n",
      "distributed.comm.core.CommClosedError: in <TCP (closed) Ephemeral Worker->Worker for gather local=tcp://127.0.0.1:50750 remote=tcp://127.0.0.1:50651>: Stream is closed\n",
      "2024-03-25 13:27:14,075 - distributed.worker - ERROR - failed during get data with tcp://127.0.0.1:50736 -> tcp://127.0.0.1:50651\n",
      "Traceback (most recent call last):\n",
      "  File \"/Users/ilangold/Projects/Theis/scanpy/venv/lib/python3.12/site-packages/tornado/iostream.py\", line 962, in _handle_write\n",
      "    num_bytes = self.write_to_fd(self._write_buffer.peek(size))\n",
      "                ^^^^^^^^^^^^^^^^^^^^^^^^^^^^^^^^^^^^^^^^^^^^^^^\n",
      "  File \"/Users/ilangold/Projects/Theis/scanpy/venv/lib/python3.12/site-packages/tornado/iostream.py\", line 1124, in write_to_fd\n",
      "    return self.socket.send(data)  # type: ignore\n",
      "           ^^^^^^^^^^^^^^^^^^^^^^\n",
      "BrokenPipeError: [Errno 32] Broken pipe\n",
      "\n",
      "The above exception was the direct cause of the following exception:\n",
      "\n",
      "Traceback (most recent call last):\n",
      "  File \"/Users/ilangold/Projects/Theis/scanpy/venv/lib/python3.12/site-packages/distributed/worker.py\", line 1783, in get_data\n",
      "    response = await comm.read(deserializers=serializers)\n",
      "               ^^^^^^^^^^^^^^^^^^^^^^^^^^^^^^^^^^^^^^^^^^\n",
      "  File \"/Users/ilangold/Projects/Theis/scanpy/venv/lib/python3.12/site-packages/distributed/comm/tcp.py\", line 236, in read\n",
      "    convert_stream_closed_error(self, e)\n",
      "  File \"/Users/ilangold/Projects/Theis/scanpy/venv/lib/python3.12/site-packages/distributed/comm/tcp.py\", line 140, in convert_stream_closed_error\n",
      "    raise CommClosedError(f\"in {obj}: {exc.__class__.__name__}: {exc}\") from exc\n",
      "distributed.comm.core.CommClosedError: in <TCP (closed)  local=tcp://127.0.0.1:50736 remote=tcp://127.0.0.1:50818>: BrokenPipeError: [Errno 32] Broken pipe\n",
      "2024-03-25 13:27:14,053 - distributed.worker - ERROR - failed during get data with tcp://127.0.0.1:50656 -> tcp://127.0.0.1:50651\n",
      "Traceback (most recent call last):\n",
      "  File \"/Users/ilangold/Projects/Theis/scanpy/venv/lib/python3.12/site-packages/tornado/iostream.py\", line 861, in _read_to_buffer\n",
      "    bytes_read = self.read_from_fd(buf)\n",
      "                 ^^^^^^^^^^^^^^^^^^^^^^\n",
      "  File \"/Users/ilangold/Projects/Theis/scanpy/venv/lib/python3.12/site-packages/tornado/iostream.py\", line 1116, in read_from_fd\n",
      "    return self.socket.recv_into(buf, len(buf))\n",
      "           ^^^^^^^^^^^^^^^^^^^^^^^^^^^^^^^^^^^^\n",
      "ConnectionResetError: [Errno 54] Connection reset by peer\n",
      "\n",
      "The above exception was the direct cause of the following exception:\n",
      "\n",
      "Traceback (most recent call last):\n",
      "  File \"/Users/ilangold/Projects/Theis/scanpy/venv/lib/python3.12/site-packages/distributed/worker.py\", line 1783, in get_data\n",
      "    response = await comm.read(deserializers=serializers)\n",
      "               ^^^^^^^^^^^^^^^^^^^^^^^^^^^^^^^^^^^^^^^^^^\n",
      "  File \"/Users/ilangold/Projects/Theis/scanpy/venv/lib/python3.12/site-packages/distributed/comm/tcp.py\", line 236, in read\n",
      "    convert_stream_closed_error(self, e)\n",
      "  File \"/Users/ilangold/Projects/Theis/scanpy/venv/lib/python3.12/site-packages/distributed/comm/tcp.py\", line 140, in convert_stream_closed_error\n",
      "    raise CommClosedError(f\"in {obj}: {exc.__class__.__name__}: {exc}\") from exc\n",
      "distributed.comm.core.CommClosedError: in <TCP (closed)  local=tcp://127.0.0.1:50656 remote=tcp://127.0.0.1:50859>: ConnectionResetError: [Errno 54] Connection reset by peer\n",
      "2024-03-25 13:27:17,995 - distributed.worker.memory - WARNING - Worker is at 80% memory usage. Pausing worker.  Process memory: 3.22 GiB -- Worker memory limit: 4.00 GiB\n",
      "2024-03-25 13:27:18,602 - distributed.worker.memory - WARNING - Worker is at 59% memory usage. Resuming worker. Process memory: 2.40 GiB -- Worker memory limit: 4.00 GiB\n",
      "2024-03-25 13:31:01,694 - distributed.worker - ERROR - failed during get data with tcp://127.0.0.1:50865 -> tcp://127.0.0.1:50887\n",
      "Traceback (most recent call last):\n",
      "  File \"/Users/ilangold/Projects/Theis/scanpy/venv/lib/python3.12/site-packages/distributed/comm/tcp.py\", line 297, in write\n",
      "    raise StreamClosedError()\n",
      "tornado.iostream.StreamClosedError: Stream is closed\n",
      "\n",
      "The above exception was the direct cause of the following exception:\n",
      "\n",
      "Traceback (most recent call last):\n",
      "  File \"/Users/ilangold/Projects/Theis/scanpy/venv/lib/python3.12/site-packages/distributed/worker.py\", line 1782, in get_data\n",
      "    compressed = await comm.write(msg, serializers=serializers)\n",
      "                 ^^^^^^^^^^^^^^^^^^^^^^^^^^^^^^^^^^^^^^^^^^^^^^\n",
      "  File \"/Users/ilangold/Projects/Theis/scanpy/venv/lib/python3.12/site-packages/distributed/comm/tcp.py\", line 307, in write\n",
      "    convert_stream_closed_error(self, e)\n",
      "  File \"/Users/ilangold/Projects/Theis/scanpy/venv/lib/python3.12/site-packages/distributed/comm/tcp.py\", line 142, in convert_stream_closed_error\n",
      "    raise CommClosedError(f\"in {obj}: {exc}\") from exc\n",
      "distributed.comm.core.CommClosedError: in <TCP (closed)  local=tcp://127.0.0.1:50865 remote=tcp://127.0.0.1:50930>: Stream is closed\n",
      "2024-03-25 13:31:03,078 - distributed.worker.memory - WARNING - Worker is at 81% memory usage. Pausing worker.  Process memory: 3.26 GiB -- Worker memory limit: 4.00 GiB\n",
      "2024-03-25 13:31:03,257 - distributed.worker.memory - WARNING - Unmanaged memory use is high. This may indicate a memory leak or the memory may not be released to the OS; see https://distributed.dask.org/en/latest/worker-memory.html#memory-not-released-back-to-the-os for more information. -- Unmanaged memory: 3.26 GiB -- Worker memory limit: 4.00 GiB\n",
      "2024-03-25 13:31:03,537 - distributed.worker.memory - WARNING - Worker is at 67% memory usage. Resuming worker. Process memory: 2.71 GiB -- Worker memory limit: 4.00 GiB\n",
      "2024-03-25 13:31:03,841 - distributed.worker - ERROR - Worker stream died during communication: tcp://127.0.0.1:50865\n",
      "Traceback (most recent call last):\n",
      "  File \"/Users/ilangold/Projects/Theis/scanpy/venv/lib/python3.12/site-packages/distributed/comm/tcp.py\", line 225, in read\n",
      "    frames_nosplit_nbytes_bin = await stream.read_bytes(fmt_size)\n",
      "                                ^^^^^^^^^^^^^^^^^^^^^^^^^^^^^^^^^\n",
      "tornado.iostream.StreamClosedError: Stream is closed\n",
      "\n",
      "The above exception was the direct cause of the following exception:\n",
      "\n",
      "Traceback (most recent call last):\n",
      "  File \"/Users/ilangold/Projects/Theis/scanpy/venv/lib/python3.12/site-packages/distributed/worker.py\", line 2059, in gather_dep\n",
      "    response = await get_data_from_worker(\n",
      "               ^^^^^^^^^^^^^^^^^^^^^^^^^^^\n",
      "  File \"/Users/ilangold/Projects/Theis/scanpy/venv/lib/python3.12/site-packages/distributed/worker.py\", line 2863, in get_data_from_worker\n",
      "    response = await send_recv(\n",
      "               ^^^^^^^^^^^^^^^^\n",
      "  File \"/Users/ilangold/Projects/Theis/scanpy/venv/lib/python3.12/site-packages/distributed/core.py\", line 1154, in send_recv\n",
      "    response = await comm.read(deserializers=deserializers)\n",
      "               ^^^^^^^^^^^^^^^^^^^^^^^^^^^^^^^^^^^^^^^^^^^^\n",
      "  File \"/Users/ilangold/Projects/Theis/scanpy/venv/lib/python3.12/site-packages/distributed/comm/tcp.py\", line 236, in read\n",
      "    convert_stream_closed_error(self, e)\n",
      "  File \"/Users/ilangold/Projects/Theis/scanpy/venv/lib/python3.12/site-packages/distributed/comm/tcp.py\", line 142, in convert_stream_closed_error\n",
      "    raise CommClosedError(f\"in {obj}: {exc}\") from exc\n",
      "distributed.comm.core.CommClosedError: in <TCP (closed) Ephemeral Worker->Worker for gather local=tcp://127.0.0.1:50959 remote=tcp://127.0.0.1:50865>: Stream is closed\n",
      "2024-03-25 13:31:03,842 - distributed.worker - ERROR - Worker stream died during communication: tcp://127.0.0.1:50865\n",
      "Traceback (most recent call last):\n",
      "  File \"/Users/ilangold/Projects/Theis/scanpy/venv/lib/python3.12/site-packages/distributed/comm/tcp.py\", line 225, in read\n",
      "    frames_nosplit_nbytes_bin = await stream.read_bytes(fmt_size)\n",
      "                                ^^^^^^^^^^^^^^^^^^^^^^^^^^^^^^^^^\n",
      "tornado.iostream.StreamClosedError: Stream is closed\n",
      "\n",
      "The above exception was the direct cause of the following exception:\n",
      "\n",
      "Traceback (most recent call last):\n",
      "  File \"/Users/ilangold/Projects/Theis/scanpy/venv/lib/python3.12/site-packages/distributed/worker.py\", line 2059, in gather_dep\n",
      "    response = await get_data_from_worker(\n",
      "               ^^^^^^^^^^^^^^^^^^^^^^^^^^^\n",
      "  File \"/Users/ilangold/Projects/Theis/scanpy/venv/lib/python3.12/site-packages/distributed/worker.py\", line 2863, in get_data_from_worker\n",
      "    response = await send_recv(\n",
      "               ^^^^^^^^^^^^^^^^\n",
      "  File \"/Users/ilangold/Projects/Theis/scanpy/venv/lib/python3.12/site-packages/distributed/core.py\", line 1154, in send_recv\n",
      "    response = await comm.read(deserializers=deserializers)\n",
      "               ^^^^^^^^^^^^^^^^^^^^^^^^^^^^^^^^^^^^^^^^^^^^\n",
      "  File \"/Users/ilangold/Projects/Theis/scanpy/venv/lib/python3.12/site-packages/distributed/comm/tcp.py\", line 236, in read\n",
      "    convert_stream_closed_error(self, e)\n",
      "  File \"/Users/ilangold/Projects/Theis/scanpy/venv/lib/python3.12/site-packages/distributed/comm/tcp.py\", line 142, in convert_stream_closed_error\n",
      "    raise CommClosedError(f\"in {obj}: {exc}\") from exc\n",
      "distributed.comm.core.CommClosedError: in <TCP (closed) Ephemeral Worker->Worker for gather local=tcp://127.0.0.1:50958 remote=tcp://127.0.0.1:50865>: Stream is closed\n",
      "2024-03-25 13:34:09,001 - distributed.worker.memory - WARNING - Worker is at 89% memory usage. Pausing worker.  Process memory: 3.58 GiB -- Worker memory limit: 4.00 GiB\n",
      "2024-03-25 13:34:09,002 - distributed.worker.memory - WARNING - Unmanaged memory use is high. This may indicate a memory leak or the memory may not be released to the OS; see https://distributed.dask.org/en/latest/worker-memory.html#memory-not-released-back-to-the-os for more information. -- Unmanaged memory: 3.58 GiB -- Worker memory limit: 4.00 GiB\n",
      "2024-03-25 13:34:09,109 - distributed.worker.memory - WARNING - Worker is at 57% memory usage. Resuming worker. Process memory: 2.28 GiB -- Worker memory limit: 4.00 GiB\n",
      "2024-03-25 13:35:12,875 - distributed.worker.memory - WARNING - Worker is at 81% memory usage. Pausing worker.  Process memory: 3.25 GiB -- Worker memory limit: 4.00 GiB\n",
      "2024-03-25 13:35:22,682 - distributed.worker.memory - WARNING - Worker is at 0% memory usage. Resuming worker. Process memory: 20.75 MiB -- Worker memory limit: 4.00 GiB\n",
      "2024-03-25 13:35:27,059 - distributed.worker - ERROR - failed during get data with tcp://127.0.0.1:50948 -> tcp://127.0.0.1:51017\n",
      "Traceback (most recent call last):\n",
      "  File \"/Users/ilangold/Projects/Theis/scanpy/venv/lib/python3.12/site-packages/tornado/iostream.py\", line 962, in _handle_write\n",
      "    num_bytes = self.write_to_fd(self._write_buffer.peek(size))\n",
      "                ^^^^^^^^^^^^^^^^^^^^^^^^^^^^^^^^^^^^^^^^^^^^^^^\n",
      "  File \"/Users/ilangold/Projects/Theis/scanpy/venv/lib/python3.12/site-packages/tornado/iostream.py\", line 1124, in write_to_fd\n",
      "    return self.socket.send(data)  # type: ignore\n",
      "           ^^^^^^^^^^^^^^^^^^^^^^\n",
      "ConnectionResetError: [Errno 54] Connection reset by peer\n",
      "\n",
      "The above exception was the direct cause of the following exception:\n",
      "\n",
      "Traceback (most recent call last):\n",
      "  File \"/Users/ilangold/Projects/Theis/scanpy/venv/lib/python3.12/site-packages/distributed/worker.py\", line 1783, in get_data\n",
      "    response = await comm.read(deserializers=serializers)\n",
      "               ^^^^^^^^^^^^^^^^^^^^^^^^^^^^^^^^^^^^^^^^^^\n",
      "  File \"/Users/ilangold/Projects/Theis/scanpy/venv/lib/python3.12/site-packages/distributed/comm/tcp.py\", line 236, in read\n",
      "    convert_stream_closed_error(self, e)\n",
      "  File \"/Users/ilangold/Projects/Theis/scanpy/venv/lib/python3.12/site-packages/distributed/comm/tcp.py\", line 140, in convert_stream_closed_error\n",
      "    raise CommClosedError(f\"in {obj}: {exc.__class__.__name__}: {exc}\") from exc\n",
      "distributed.comm.core.CommClosedError: in <TCP (closed)  local=tcp://127.0.0.1:50948 remote=tcp://127.0.0.1:51026>: ConnectionResetError: [Errno 54] Connection reset by peer\n"
     ]
    },
    {
     "ename": "KilledWorker",
     "evalue": "Attempted to run task ('aggregate_sum-aggregate-getitem-sum_drop_keepdims-truediv-log1p-8cd4f2e566afe2fad2ba9b45d827cbe5', 7, 0) on 4 different workers, but all those workers died while running it. The last worker that attempt to run the task was tcp://127.0.0.1:51017. Inspecting worker logs is often a good next step to diagnose what went wrong. For more information see https://distributed.dask.org/en/stable/killed.html.",
     "output_type": "error",
     "traceback": [
      "\u001b[0;31m---------------------------------------------------------------------------\u001b[0m",
      "\u001b[0;31mKilledWorker\u001b[0m                              Traceback (most recent call last)",
      "File \u001b[0;32m<timed eval>:1\u001b[0m\n",
      "File \u001b[0;32m~/Projects/Theis/scanpy/venv/lib/python3.12/site-packages/scanpy/preprocessing/_pca.py:270\u001b[0m, in \u001b[0;36mpca\u001b[0;34m(***failed resolving arguments***)\u001b[0m\n\u001b[1;32m    266\u001b[0m         X \u001b[38;5;241m=\u001b[39m X\u001b[38;5;241m.\u001b[39mtoarray()\n\u001b[1;32m    267\u001b[0m     pca_ \u001b[38;5;241m=\u001b[39m PCA(\n\u001b[1;32m    268\u001b[0m         n_components\u001b[38;5;241m=\u001b[39mn_comps, svd_solver\u001b[38;5;241m=\u001b[39msvd_solver, random_state\u001b[38;5;241m=\u001b[39mrandom_state\n\u001b[1;32m    269\u001b[0m     )\n\u001b[0;32m--> 270\u001b[0m     X_pca \u001b[38;5;241m=\u001b[39m \u001b[43mpca_\u001b[49m\u001b[38;5;241;43m.\u001b[39;49m\u001b[43mfit_transform\u001b[49m\u001b[43m(\u001b[49m\u001b[43mX\u001b[49m\u001b[43m)\u001b[49m\n\u001b[1;32m    271\u001b[0m \u001b[38;5;28;01melif\u001b[39;00m issparse(X) \u001b[38;5;129;01mand\u001b[39;00m zero_center:\n\u001b[1;32m    272\u001b[0m     \u001b[38;5;28;01mfrom\u001b[39;00m \u001b[38;5;21;01msklearn\u001b[39;00m\u001b[38;5;21;01m.\u001b[39;00m\u001b[38;5;21;01mdecomposition\u001b[39;00m \u001b[38;5;28;01mimport\u001b[39;00m PCA\n",
      "File \u001b[0;32m~/Projects/Theis/scanpy/venv/lib/python3.12/site-packages/sklearn/utils/_set_output.py:295\u001b[0m, in \u001b[0;36m_wrap_method_output.<locals>.wrapped\u001b[0;34m(self, X, *args, **kwargs)\u001b[0m\n\u001b[1;32m    293\u001b[0m \u001b[38;5;129m@wraps\u001b[39m(f)\n\u001b[1;32m    294\u001b[0m \u001b[38;5;28;01mdef\u001b[39;00m \u001b[38;5;21mwrapped\u001b[39m(\u001b[38;5;28mself\u001b[39m, X, \u001b[38;5;241m*\u001b[39margs, \u001b[38;5;241m*\u001b[39m\u001b[38;5;241m*\u001b[39mkwargs):\n\u001b[0;32m--> 295\u001b[0m     data_to_wrap \u001b[38;5;241m=\u001b[39m \u001b[43mf\u001b[49m\u001b[43m(\u001b[49m\u001b[38;5;28;43mself\u001b[39;49m\u001b[43m,\u001b[49m\u001b[43m \u001b[49m\u001b[43mX\u001b[49m\u001b[43m,\u001b[49m\u001b[43m \u001b[49m\u001b[38;5;241;43m*\u001b[39;49m\u001b[43margs\u001b[49m\u001b[43m,\u001b[49m\u001b[43m \u001b[49m\u001b[38;5;241;43m*\u001b[39;49m\u001b[38;5;241;43m*\u001b[39;49m\u001b[43mkwargs\u001b[49m\u001b[43m)\u001b[49m\n\u001b[1;32m    296\u001b[0m     \u001b[38;5;28;01mif\u001b[39;00m \u001b[38;5;28misinstance\u001b[39m(data_to_wrap, \u001b[38;5;28mtuple\u001b[39m):\n\u001b[1;32m    297\u001b[0m         \u001b[38;5;66;03m# only wrap the first output for cross decomposition\u001b[39;00m\n\u001b[1;32m    298\u001b[0m         return_tuple \u001b[38;5;241m=\u001b[39m (\n\u001b[1;32m    299\u001b[0m             _wrap_data_with_container(method, data_to_wrap[\u001b[38;5;241m0\u001b[39m], X, \u001b[38;5;28mself\u001b[39m),\n\u001b[1;32m    300\u001b[0m             \u001b[38;5;241m*\u001b[39mdata_to_wrap[\u001b[38;5;241m1\u001b[39m:],\n\u001b[1;32m    301\u001b[0m         )\n",
      "File \u001b[0;32m~/Projects/Theis/scanpy/venv/lib/python3.12/site-packages/dask_ml/decomposition/pca.py:402\u001b[0m, in \u001b[0;36mPCA.fit_transform\u001b[0;34m(self, X, y)\u001b[0m\n\u001b[1;32m    400\u001b[0m \u001b[38;5;28;01mif\u001b[39;00m \u001b[38;5;129;01mnot\u001b[39;00m dask\u001b[38;5;241m.\u001b[39mis_dask_collection(X):\n\u001b[1;32m    401\u001b[0m     \u001b[38;5;28;01mraise\u001b[39;00m \u001b[38;5;167;01mTypeError\u001b[39;00m(_TYPE_MSG\u001b[38;5;241m.\u001b[39mformat(\u001b[38;5;28mtype\u001b[39m(X)))\n\u001b[0;32m--> 402\u001b[0m U, S, V \u001b[38;5;241m=\u001b[39m \u001b[38;5;28;43mself\u001b[39;49m\u001b[38;5;241;43m.\u001b[39;49m\u001b[43m_fit\u001b[49m\u001b[43m(\u001b[49m\u001b[43mX\u001b[49m\u001b[43m)\u001b[49m\n\u001b[1;32m    403\u001b[0m U \u001b[38;5;241m=\u001b[39m U[:, : \u001b[38;5;28mself\u001b[39m\u001b[38;5;241m.\u001b[39mn_components_]\n\u001b[1;32m    405\u001b[0m \u001b[38;5;28;01mif\u001b[39;00m \u001b[38;5;28mself\u001b[39m\u001b[38;5;241m.\u001b[39mwhiten:\n\u001b[1;32m    406\u001b[0m     \u001b[38;5;66;03m# X_new = X * V / S * sqrt(n_samples) = U * sqrt(n_samples)\u001b[39;00m\n",
      "File \u001b[0;32m~/Projects/Theis/scanpy/venv/lib/python3.12/site-packages/dask_ml/decomposition/pca.py:298\u001b[0m, in \u001b[0;36mPCA._fit\u001b[0;34m(self, X)\u001b[0m\n\u001b[1;32m    289\u001b[0m     total_variance \u001b[38;5;241m=\u001b[39m np\u001b[38;5;241m.\u001b[39mnan\n\u001b[1;32m    291\u001b[0m \u001b[38;5;28;01mtry\u001b[39;00m:\n\u001b[1;32m    292\u001b[0m     (\n\u001b[1;32m    293\u001b[0m         (\u001b[38;5;28mself\u001b[39m\u001b[38;5;241m.\u001b[39mn_samples_, \u001b[38;5;28mself\u001b[39m\u001b[38;5;241m.\u001b[39mn_features_in_),\n\u001b[1;32m    294\u001b[0m         \u001b[38;5;28mself\u001b[39m\u001b[38;5;241m.\u001b[39mn_components_,\n\u001b[1;32m    295\u001b[0m         \u001b[38;5;28mself\u001b[39m\u001b[38;5;241m.\u001b[39mcomponents_,\n\u001b[1;32m    296\u001b[0m         \u001b[38;5;28mself\u001b[39m\u001b[38;5;241m.\u001b[39msingular_values_,\n\u001b[1;32m    297\u001b[0m         total_variance,\n\u001b[0;32m--> 298\u001b[0m     ) \u001b[38;5;241m=\u001b[39m \u001b[43mcompute\u001b[49m\u001b[43m(\u001b[49m\n\u001b[1;32m    299\u001b[0m \u001b[43m        \u001b[49m\u001b[43mdelayed\u001b[49m\u001b[43m(\u001b[49m\u001b[38;5;28;43;01mlambda\u001b[39;49;00m\u001b[43m \u001b[49m\u001b[43mx\u001b[49m\u001b[43m:\u001b[49m\u001b[43m \u001b[49m\u001b[43mx\u001b[49m\u001b[38;5;241;43m.\u001b[39;49m\u001b[43mshape\u001b[49m\u001b[43m)\u001b[49m\u001b[43m(\u001b[49m\u001b[43mX\u001b[49m\u001b[43m)\u001b[49m\u001b[43m,\u001b[49m\n\u001b[1;32m    300\u001b[0m \u001b[43m        \u001b[49m\u001b[43mn_components\u001b[49m\u001b[43m,\u001b[49m\n\u001b[1;32m    301\u001b[0m \u001b[43m        \u001b[49m\u001b[43mcomponents\u001b[49m\u001b[43m,\u001b[49m\n\u001b[1;32m    302\u001b[0m \u001b[43m        \u001b[49m\u001b[43msingular_values\u001b[49m\u001b[43m,\u001b[49m\n\u001b[1;32m    303\u001b[0m \u001b[43m        \u001b[49m\u001b[43mtotal_variance\u001b[49m\u001b[43m,\u001b[49m\n\u001b[1;32m    304\u001b[0m \u001b[43m    \u001b[49m\u001b[43m)\u001b[49m\n\u001b[1;32m    305\u001b[0m \u001b[38;5;28;01mexcept\u001b[39;00m \u001b[38;5;167;01mValueError\u001b[39;00m \u001b[38;5;28;01mas\u001b[39;00m e:\n\u001b[1;32m    306\u001b[0m     \u001b[38;5;28;01mif\u001b[39;00m np\u001b[38;5;241m.\u001b[39misnan(X\u001b[38;5;241m.\u001b[39mshape)\u001b[38;5;241m.\u001b[39many():\n",
      "File \u001b[0;32m~/Projects/Theis/scanpy/venv/lib/python3.12/site-packages/dask/base.py:661\u001b[0m, in \u001b[0;36mcompute\u001b[0;34m(traverse, optimize_graph, scheduler, get, *args, **kwargs)\u001b[0m\n\u001b[1;32m    658\u001b[0m     postcomputes\u001b[38;5;241m.\u001b[39mappend(x\u001b[38;5;241m.\u001b[39m__dask_postcompute__())\n\u001b[1;32m    660\u001b[0m \u001b[38;5;28;01mwith\u001b[39;00m shorten_traceback():\n\u001b[0;32m--> 661\u001b[0m     results \u001b[38;5;241m=\u001b[39m \u001b[43mschedule\u001b[49m\u001b[43m(\u001b[49m\u001b[43mdsk\u001b[49m\u001b[43m,\u001b[49m\u001b[43m \u001b[49m\u001b[43mkeys\u001b[49m\u001b[43m,\u001b[49m\u001b[43m \u001b[49m\u001b[38;5;241;43m*\u001b[39;49m\u001b[38;5;241;43m*\u001b[39;49m\u001b[43mkwargs\u001b[49m\u001b[43m)\u001b[49m\n\u001b[1;32m    663\u001b[0m \u001b[38;5;28;01mreturn\u001b[39;00m repack([f(r, \u001b[38;5;241m*\u001b[39ma) \u001b[38;5;28;01mfor\u001b[39;00m r, (f, a) \u001b[38;5;129;01min\u001b[39;00m \u001b[38;5;28mzip\u001b[39m(results, postcomputes)])\n",
      "File \u001b[0;32m~/Projects/Theis/scanpy/venv/lib/python3.12/site-packages/distributed/client.py:2232\u001b[0m, in \u001b[0;36mClient._gather\u001b[0;34m(self, futures, errors, direct, local_worker)\u001b[0m\n\u001b[1;32m   2230\u001b[0m         exc \u001b[38;5;241m=\u001b[39m CancelledError(key)\n\u001b[1;32m   2231\u001b[0m     \u001b[38;5;28;01melse\u001b[39;00m:\n\u001b[0;32m-> 2232\u001b[0m         \u001b[38;5;28;01mraise\u001b[39;00m exception\u001b[38;5;241m.\u001b[39mwith_traceback(traceback)\n\u001b[1;32m   2233\u001b[0m     \u001b[38;5;28;01mraise\u001b[39;00m exc\n\u001b[1;32m   2234\u001b[0m \u001b[38;5;28;01mif\u001b[39;00m errors \u001b[38;5;241m==\u001b[39m \u001b[38;5;124m\"\u001b[39m\u001b[38;5;124mskip\u001b[39m\u001b[38;5;124m\"\u001b[39m:\n",
      "\u001b[0;31mKilledWorker\u001b[0m: Attempted to run task ('aggregate_sum-aggregate-getitem-sum_drop_keepdims-truediv-log1p-8cd4f2e566afe2fad2ba9b45d827cbe5', 7, 0) on 4 different workers, but all those workers died while running it. The last worker that attempt to run the task was tcp://127.0.0.1:51017. Inspecting worker logs is often a good next step to diagnose what went wrong. For more information see https://distributed.dask.org/en/stable/killed.html."
     ]
    }
   ],
   "source": [
    "%%time\n",
    "sc.pp.pca(adata, layer=\"dense\")"
   ]
  },
  {
   "cell_type": "markdown",
   "metadata": {},
   "source": [
    "While most of the PCA computation runs immediately, the last step (computing the observation loadings) is lazy, so must be triggered manually to avoid recomputation."
   ]
  },
  {
   "cell_type": "code",
   "execution_count": 13,
   "metadata": {},
   "outputs": [
    {
     "ename": "KeyError",
     "evalue": "'X_pca'",
     "output_type": "error",
     "traceback": [
      "\u001b[0;31m---------------------------------------------------------------------------\u001b[0m",
      "\u001b[0;31mKeyError\u001b[0m                                  Traceback (most recent call last)",
      "File \u001b[0;32m<timed exec>:1\u001b[0m\n",
      "File \u001b[0;32m~/Projects/Theis/scanpy/venv/lib/python3.12/site-packages/anndata/_core/aligned_mapping.py:196\u001b[0m, in \u001b[0;36mAlignedActualMixin.__getitem__\u001b[0;34m(self, key)\u001b[0m\n\u001b[1;32m    195\u001b[0m \u001b[38;5;28;01mdef\u001b[39;00m \u001b[38;5;21m__getitem__\u001b[39m(\u001b[38;5;28mself\u001b[39m, key: \u001b[38;5;28mstr\u001b[39m) \u001b[38;5;241m-\u001b[39m\u001b[38;5;241m>\u001b[39m V:\n\u001b[0;32m--> 196\u001b[0m     \u001b[38;5;28;01mreturn\u001b[39;00m \u001b[38;5;28;43mself\u001b[39;49m\u001b[38;5;241;43m.\u001b[39;49m\u001b[43m_data\u001b[49m\u001b[43m[\u001b[49m\u001b[43mkey\u001b[49m\u001b[43m]\u001b[49m\n",
      "\u001b[0;31mKeyError\u001b[0m: 'X_pca'"
     ]
    }
   ],
   "source": [
    "%%time\n",
    "adata.obsm[\"X_pca\"] = adata.obsm[\"X_pca\"].compute()"
   ]
  },
  {
   "cell_type": "code",
   "execution_count": 14,
   "metadata": {},
   "outputs": [
    {
     "data": {
      "text/plain": [
       "AnnData object with n_obs × n_vars = 1462702 × 27714\n",
       "    obs: 'celltype', 'majorType', 'City', 'sampleID', 'donor_id', 'Sample type', 'CoVID-19 severity', 'Sample time', 'Sampling day (Days after symptom onset)', 'BCR single cell sequencing', 'TCR single cell sequencing', 'Outcome', 'Comorbidities', 'COVID-19-related medication and anti-microbials', 'Leukocytes [G over L]', 'Neutrophils [G over L]', 'Lymphocytes [G over L]', 'Unpublished', 'disease_ontology_term_id', 'cell_type_ontology_term_id', 'tissue_ontology_term_id', 'development_stage_ontology_term_id', 'self_reported_ethnicity_ontology_term_id', 'assay_ontology_term_id', 'sex_ontology_term_id', 'is_primary_data', 'organism_ontology_term_id', 'suspension_type', 'tissue_type', 'cell_type', 'assay', 'disease', 'organism', 'sex', 'tissue', 'self_reported_ethnicity', 'development_stage', 'observation_joinid'\n",
       "    var: 'feature_is_filtered', 'feature_name', 'feature_reference', 'feature_biotype', 'feature_length', 'highly_variable', 'means', 'dispersions', 'dispersions_norm'\n",
       "    uns: 'log1p', 'hvg'\n",
       "    layers: 'counts', 'dense'"
      ]
     },
     "execution_count": 14,
     "metadata": {},
     "output_type": "execute_result"
    }
   ],
   "source": [
    "adata"
   ]
  },
  {
   "cell_type": "markdown",
   "metadata": {},
   "source": [
    "Now that we've computed our PCA let's take a look at it:"
   ]
  },
  {
   "cell_type": "code",
   "execution_count": 15,
   "metadata": {},
   "outputs": [
    {
     "name": "stderr",
     "output_type": "stream",
     "text": [
      "2024-03-25 13:35:32,216 - distributed.worker.memory - WARNING - Unmanaged memory use is high. This may indicate a memory leak or the memory may not be released to the OS; see https://distributed.dask.org/en/latest/worker-memory.html#memory-not-released-back-to-the-os for more information. -- Unmanaged memory: 2.84 GiB -- Worker memory limit: 4.00 GiB\n"
     ]
    },
    {
     "ename": "KeyError",
     "evalue": "\"Could not find 'pca' or 'X_pca' in .obsm\"",
     "output_type": "error",
     "traceback": [
      "\u001b[0;31m---------------------------------------------------------------------------\u001b[0m",
      "\u001b[0;31mKeyError\u001b[0m                                  Traceback (most recent call last)",
      "Cell \u001b[0;32mIn[15], line 1\u001b[0m\n\u001b[0;32m----> 1\u001b[0m \u001b[43msc\u001b[49m\u001b[38;5;241;43m.\u001b[39;49m\u001b[43mpl\u001b[49m\u001b[38;5;241;43m.\u001b[39;49m\u001b[43mpca\u001b[49m\u001b[43m(\u001b[49m\u001b[43madata\u001b[49m\u001b[43m,\u001b[49m\u001b[43m \u001b[49m\u001b[43mcolor\u001b[49m\u001b[38;5;241;43m=\u001b[39;49m\u001b[38;5;124;43m\"\u001b[39;49m\u001b[38;5;124;43mmajorType\u001b[39;49m\u001b[38;5;124;43m\"\u001b[39;49m\u001b[43m)\u001b[49m\n",
      "File \u001b[0;32m~/Projects/Theis/scanpy/venv/lib/python3.12/site-packages/scanpy/plotting/_tools/scatterplots.py:877\u001b[0m, in \u001b[0;36mpca\u001b[0;34m(adata, annotate_var_explained, show, return_fig, save, **kwargs)\u001b[0m\n\u001b[1;32m    830\u001b[0m \u001b[38;5;250m\u001b[39m\u001b[38;5;124;03m\"\"\"\\\u001b[39;00m\n\u001b[1;32m    831\u001b[0m \u001b[38;5;124;03mScatter plot in PCA coordinates.\u001b[39;00m\n\u001b[1;32m    832\u001b[0m \n\u001b[0;32m   (...)\u001b[0m\n\u001b[1;32m    874\u001b[0m \u001b[38;5;124;03mpp.pca\u001b[39;00m\n\u001b[1;32m    875\u001b[0m \u001b[38;5;124;03m\"\"\"\u001b[39;00m\n\u001b[1;32m    876\u001b[0m \u001b[38;5;28;01mif\u001b[39;00m \u001b[38;5;129;01mnot\u001b[39;00m annotate_var_explained:\n\u001b[0;32m--> 877\u001b[0m     \u001b[38;5;28;01mreturn\u001b[39;00m \u001b[43membedding\u001b[49m\u001b[43m(\u001b[49m\n\u001b[1;32m    878\u001b[0m \u001b[43m        \u001b[49m\u001b[43madata\u001b[49m\u001b[43m,\u001b[49m\u001b[43m \u001b[49m\u001b[38;5;124;43m\"\u001b[39;49m\u001b[38;5;124;43mpca\u001b[39;49m\u001b[38;5;124;43m\"\u001b[39;49m\u001b[43m,\u001b[49m\u001b[43m \u001b[49m\u001b[43mshow\u001b[49m\u001b[38;5;241;43m=\u001b[39;49m\u001b[43mshow\u001b[49m\u001b[43m,\u001b[49m\u001b[43m \u001b[49m\u001b[43mreturn_fig\u001b[49m\u001b[38;5;241;43m=\u001b[39;49m\u001b[43mreturn_fig\u001b[49m\u001b[43m,\u001b[49m\u001b[43m \u001b[49m\u001b[43msave\u001b[49m\u001b[38;5;241;43m=\u001b[39;49m\u001b[43msave\u001b[49m\u001b[43m,\u001b[49m\u001b[43m \u001b[49m\u001b[38;5;241;43m*\u001b[39;49m\u001b[38;5;241;43m*\u001b[39;49m\u001b[43mkwargs\u001b[49m\n\u001b[1;32m    879\u001b[0m \u001b[43m    \u001b[49m\u001b[43m)\u001b[49m\n\u001b[1;32m    880\u001b[0m \u001b[38;5;28;01mif\u001b[39;00m \u001b[38;5;124m\"\u001b[39m\u001b[38;5;124mpca\u001b[39m\u001b[38;5;124m\"\u001b[39m \u001b[38;5;129;01mnot\u001b[39;00m \u001b[38;5;129;01min\u001b[39;00m adata\u001b[38;5;241m.\u001b[39mobsm\u001b[38;5;241m.\u001b[39mkeys() \u001b[38;5;129;01mand\u001b[39;00m \u001b[38;5;124m\"\u001b[39m\u001b[38;5;124mX_pca\u001b[39m\u001b[38;5;124m\"\u001b[39m \u001b[38;5;129;01mnot\u001b[39;00m \u001b[38;5;129;01min\u001b[39;00m adata\u001b[38;5;241m.\u001b[39mobsm\u001b[38;5;241m.\u001b[39mkeys():\n\u001b[1;32m    881\u001b[0m     \u001b[38;5;28;01mraise\u001b[39;00m \u001b[38;5;167;01mKeyError\u001b[39;00m(\n\u001b[1;32m    882\u001b[0m         \u001b[38;5;124mf\u001b[39m\u001b[38;5;124m\"\u001b[39m\u001b[38;5;124mCould not find entry in `obsm` for \u001b[39m\u001b[38;5;124m'\u001b[39m\u001b[38;5;124mpca\u001b[39m\u001b[38;5;124m'\u001b[39m\u001b[38;5;124m.\u001b[39m\u001b[38;5;130;01m\\n\u001b[39;00m\u001b[38;5;124m\"\u001b[39m\n\u001b[1;32m    883\u001b[0m         \u001b[38;5;124mf\u001b[39m\u001b[38;5;124m\"\u001b[39m\u001b[38;5;124mAvailable keys are: \u001b[39m\u001b[38;5;132;01m{\u001b[39;00m\u001b[38;5;28mlist\u001b[39m(adata\u001b[38;5;241m.\u001b[39mobsm\u001b[38;5;241m.\u001b[39mkeys())\u001b[38;5;132;01m}\u001b[39;00m\u001b[38;5;124m.\u001b[39m\u001b[38;5;124m\"\u001b[39m\n\u001b[1;32m    884\u001b[0m     )\n",
      "File \u001b[0;32m~/Projects/Theis/scanpy/venv/lib/python3.12/site-packages/scanpy/plotting/_tools/scatterplots.py:132\u001b[0m, in \u001b[0;36membedding\u001b[0;34m(adata, basis, color, mask_obs, gene_symbols, use_raw, sort_order, edges, edges_width, edges_color, neighbors_key, arrows, arrows_kwds, groups, components, dimensions, layer, projection, scale_factor, color_map, cmap, palette, na_color, na_in_legend, size, frameon, legend_fontsize, legend_fontweight, legend_loc, legend_fontoutline, colorbar_loc, vmax, vmin, vcenter, norm, add_outline, outline_width, outline_color, ncols, hspace, wspace, title, show, save, ax, return_fig, marker, **kwargs)\u001b[0m\n\u001b[1;32m    129\u001b[0m check_projection(projection)\n\u001b[1;32m    130\u001b[0m sanitize_anndata(adata)\n\u001b[0;32m--> 132\u001b[0m basis_values \u001b[38;5;241m=\u001b[39m \u001b[43m_get_basis\u001b[49m\u001b[43m(\u001b[49m\u001b[43madata\u001b[49m\u001b[43m,\u001b[49m\u001b[43m \u001b[49m\u001b[43mbasis\u001b[49m\u001b[43m)\u001b[49m\n\u001b[1;32m    133\u001b[0m dimensions \u001b[38;5;241m=\u001b[39m _components_to_dimensions(\n\u001b[1;32m    134\u001b[0m     components, dimensions, projection\u001b[38;5;241m=\u001b[39mprojection, total_dims\u001b[38;5;241m=\u001b[39mbasis_values\u001b[38;5;241m.\u001b[39mshape[\u001b[38;5;241m1\u001b[39m]\n\u001b[1;32m    135\u001b[0m )\n\u001b[1;32m    136\u001b[0m args_3d \u001b[38;5;241m=\u001b[39m \u001b[38;5;28mdict\u001b[39m(projection\u001b[38;5;241m=\u001b[39m\u001b[38;5;124m\"\u001b[39m\u001b[38;5;124m3d\u001b[39m\u001b[38;5;124m\"\u001b[39m) \u001b[38;5;28;01mif\u001b[39;00m projection \u001b[38;5;241m==\u001b[39m \u001b[38;5;124m\"\u001b[39m\u001b[38;5;124m3d\u001b[39m\u001b[38;5;124m\"\u001b[39m \u001b[38;5;28;01melse\u001b[39;00m {}\n",
      "File \u001b[0;32m~/Projects/Theis/scanpy/venv/lib/python3.12/site-packages/scanpy/plotting/_tools/scatterplots.py:1158\u001b[0m, in \u001b[0;36m_get_basis\u001b[0;34m(adata, basis)\u001b[0m\n\u001b[1;32m   1156\u001b[0m     \u001b[38;5;28;01mreturn\u001b[39;00m adata\u001b[38;5;241m.\u001b[39mobsm[\u001b[38;5;124mf\u001b[39m\u001b[38;5;124m\"\u001b[39m\u001b[38;5;124mX_\u001b[39m\u001b[38;5;132;01m{\u001b[39;00mbasis\u001b[38;5;132;01m}\u001b[39;00m\u001b[38;5;124m\"\u001b[39m]\n\u001b[1;32m   1157\u001b[0m \u001b[38;5;28;01melse\u001b[39;00m:\n\u001b[0;32m-> 1158\u001b[0m     \u001b[38;5;28;01mraise\u001b[39;00m \u001b[38;5;167;01mKeyError\u001b[39;00m(\u001b[38;5;124mf\u001b[39m\u001b[38;5;124m\"\u001b[39m\u001b[38;5;124mCould not find \u001b[39m\u001b[38;5;124m'\u001b[39m\u001b[38;5;132;01m{\u001b[39;00mbasis\u001b[38;5;132;01m}\u001b[39;00m\u001b[38;5;124m'\u001b[39m\u001b[38;5;124m or \u001b[39m\u001b[38;5;124m'\u001b[39m\u001b[38;5;124mX_\u001b[39m\u001b[38;5;132;01m{\u001b[39;00mbasis\u001b[38;5;132;01m}\u001b[39;00m\u001b[38;5;124m'\u001b[39m\u001b[38;5;124m in .obsm\u001b[39m\u001b[38;5;124m\"\u001b[39m)\n",
      "\u001b[0;31mKeyError\u001b[0m: \"Could not find 'pca' or 'X_pca' in .obsm\""
     ]
    }
   ],
   "source": [
    "sc.pl.pca(adata, color=\"majorType\")"
   ]
  },
  {
   "cell_type": "markdown",
   "metadata": {},
   "source": [
    "Further support for `dask` is a work in progress. However, many operations past this point can work with the dimensionality reduction directly in memory. With scanpy `1.10` many of these operations can be accelerated to make working with large datasets significantly easier. For example:\n",
    "\n",
    "* Using alternative KNN backends for faster neighbor calculation {doc}`/how-to/knn-transformers`\n",
    "* Using the `igraph` backend for clustering"
   ]
  },
  {
   "cell_type": "code",
   "execution_count": null,
   "metadata": {},
   "outputs": [],
   "source": [
    "%%time\n",
    "from sklearn_ann.kneighbors.annoy import AnnoyTransformer  # noqa: E402\n",
    "\n",
    "transformer = AnnoyTransformer(n_neighbors=15)\n",
    "sc.pp.neighbors(adata, transformer=transformer)"
   ]
  },
  {
   "cell_type": "code",
   "execution_count": null,
   "metadata": {},
   "outputs": [],
   "source": [
    "%%time\n",
    "sc.tl.leiden(adata, flavor=\"igraph\", n_iterations=2)"
   ]
  },
  {
   "cell_type": "markdown",
   "metadata": {},
   "source": [
    "UMAP computation can be slow however, so we have it commented out and show the plotting result (although if you wish to run with your own data, you will need to uncomment):"
   ]
  },
  {
   "cell_type": "code",
   "execution_count": null,
   "metadata": {},
   "outputs": [],
   "source": [
    "# %%time\n",
    "# sc.tl.umap(adata)\n",
    "# sc.pl.umap(adata, color=[\"leiden\", \"majorType\"])"
   ]
  },
  {
   "cell_type": "code",
   "execution_count": null,
   "metadata": {},
   "outputs": [],
   "source": []
  }
 ],
 "metadata": {
  "kernelspec": {
   "display_name": "Python 3 (ipykernel)",
   "language": "python",
   "name": "python3"
  },
  "language_info": {
   "codemirror_mode": {
    "name": "ipython",
    "version": 3
   },
   "file_extension": ".py",
   "mimetype": "text/x-python",
   "name": "python",
   "nbconvert_exporter": "python",
   "pygments_lexer": "ipython3",
   "version": "3.12.2"
  }
 },
 "nbformat": 4,
 "nbformat_minor": 4
}
