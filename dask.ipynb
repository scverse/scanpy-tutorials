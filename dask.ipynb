{
 "cells": [
  {
   "cell_type": "markdown",
   "metadata": {},
   "source": [
    "# Using `dask` with Scanpy"
   ]
  },
  {
   "cell_type": "markdown",
   "metadata": {},
   "source": [
    "`dask` is a popular out-of-core, distributed array processing library that scanpy is beginning to support.  Here we walk through a quick tutorial of using `dask` in a simple analysis task."
   ]
  },
  {
   "cell_type": "code",
   "execution_count": 1,
   "metadata": {},
   "outputs": [
    {
     "name": "stdout",
     "output_type": "stream",
     "text": [
      "scanpy==1.10.0rc2.dev93+g31669098 anndata==0.11.0.dev78+g64ab900 umap==0.5.5 numpy==1.26.3 scipy==1.12.0 pandas==2.2.0 scikit-learn==1.3.2 statsmodels==0.14.1 igraph==0.10.8 pynndescent==0.5.11\n"
     ]
    }
   ],
   "source": [
    "import numpy as np\n",
    "import dask.distributed as dd\n",
    "import dask.array as da\n",
    "from dask import delayed\n",
    "import scanpy as sc\n",
    "import anndata as ad\n",
    "import h5py\n",
    "from xarray.backends import CachingFileManager\n",
    "from pathlib import Path\n",
    "sc.logging.print_header()"
   ]
  },
  {
   "cell_type": "code",
   "execution_count": 2,
   "metadata": {},
   "outputs": [
    {
     "name": "stdout",
     "output_type": "stream",
     "text": [
      "--2024-03-20 15:17:40--  https://datasets.cellxgene.cziscience.com/82eac9c1-485f-4e21-ab21-8510823d4f6e.h5ad\n",
      "Resolving datasets.cellxgene.cziscience.com (datasets.cellxgene.cziscience.com)... 18.172.112.87, 18.172.112.108, 18.172.112.61, ...\n",
      "Connecting to datasets.cellxgene.cziscience.com (datasets.cellxgene.cziscience.com)|18.172.112.87|:443... connected.\n",
      "HTTP request sent, awaiting response... 200 OK\n",
      "Length: 13979243997 (13G) [binary/octet-stream]\n",
      "Saving to: ‘cell_atlas.h5ad’\n",
      "\n",
      "cell_atlas.h5ad     100%[===================>]  13,02G  24,5MB/s    in 9m 21s  \n",
      "\n",
      "2024-03-20 15:27:03 (23,7 MB/s) - ‘cell_atlas.h5ad’ saved [13979243997/13979243997]\n",
      "\n"
     ]
    }
   ],
   "source": [
    "if not Path(\"c.h5ad\").exists():\n",
    "    !wget https://datasets.cellxgene.cziscience.com/82eac9c1-485f-4e21-ab21-8510823d4f6e.h5ad -O \"cell_atlas.h5ad\""
   ]
  },
  {
   "cell_type": "markdown",
   "metadata": {},
   "source": [
    "For more information on using distributed computing via `dask`, please see their [documentation](https://docs.dask.org/en/stable/deploying-python.html).  For example, `dask` provides direct support for [slurm](https://jobqueue.dask.org/en/latest/).  In short, one needs to define both a cluster and a client to have some degree of control over the compute resources dask will use."
   ]
  },
  {
   "cell_type": "code",
   "execution_count": 3,
   "metadata": {},
   "outputs": [],
   "source": [
    "cluster = dd.LocalCluster()\n",
    "client = dd.Client(cluster)\n",
    "chunksize = 1000"
   ]
  },
  {
   "cell_type": "markdown",
   "metadata": {},
   "source": [
    "We'll convert the `X` representation to `dask`.  For more info on i/o from disk, please see the `anndata` tutorials, e.g. [here](https://anndata.readthedocs.io/en/latest/tutorials/notebooks/anndata_dask_array.html) or [here](https://anndata.readthedocs.io/en/latest/tutorials/notebooks/%7Bread%2Cwrite%7D_dispatched.html).  For now, simply converting `X` will be enough to demonstrate the functionality of scanpy with dask.\n",
    "\n",
    "**_Important Note:_** At the moment, scanpy only works with dense, `np.array` chunks in `dask` arrays.  Sparse support is a work in progress, and this tutorial will be updated accordingly when possible. \n",
    "**_Important NO\n"
   ]
  },
  {
   "cell_type": "code",
   "execution_count": 4,
   "metadata": {},
   "outputs": [],
   "source": [
    "def read_dask(file):\n",
    "    f = h5py.File(file, 'r')\n",
    "    manager = CachingFileManager(h5py.File, file, mode='r')\n",
    "    def callback(func, elem_name: str, elem, iospec):\n",
    "        if iospec.encoding_type in (\n",
    "            \"dataframe\",\n",
    "            \"awkward-array\",\n",
    "        ):\n",
    "            # Preventing recursing inside of these types\n",
    "            return ad.experimental.read_elem(elem)\n",
    "        elif iospec.encoding_type == \"array\":\n",
    "            return da.from_array(elem)\n",
    "        elif iospec.encoding_type in (\"csr_matrix\", \"csc_matrix\"):\n",
    "            shape = elem.attrs[\"shape\"]\n",
    "            def make_dask_chunk(block_id=None):\n",
    "                with manager.acquire_context(needs_lock=False) as f:\n",
    "                    mtx = ad.experimental.sparse_dataset(f[elem_name])\n",
    "                    (row, _) = block_id\n",
    "                    chunk = np.asarray(mtx[slice(row * chunksize, min((row * chunksize) + chunksize, shape[0]))].todense())\n",
    "                return chunk\n",
    "            chunks_0 = (chunksize,) * (shape[0] // chunksize)\n",
    "            chunks_0 += (shape[0] % chunksize , )\n",
    "            chunks_1 = (shape[1],)\n",
    "            da_mtx = da.map_blocks(\n",
    "                make_dask_chunk,\n",
    "                dtype=elem[\"data\"].dtype,\n",
    "                chunks=(chunks_0, chunks_1),\n",
    "                meta=np.array([])\n",
    "            )\n",
    "            return da_mtx\n",
    "        return func(elem)\n",
    "    \n",
    "    adata = ad.experimental.read_dispatched(f, callback=callback)\n",
    "    return adata\n",
    "adata_dask = read_dask('cell_atlas.h5ad')"
   ]
  },
  {
   "cell_type": "code",
   "execution_count": 5,
   "metadata": {},
   "outputs": [
    {
     "data": {
      "text/html": [
       "<table>\n",
       "    <tr>\n",
       "        <td>\n",
       "            <table style=\"border-collapse: collapse;\">\n",
       "                <thead>\n",
       "                    <tr>\n",
       "                        <td> </td>\n",
       "                        <th> Array </th>\n",
       "                        <th> Chunk </th>\n",
       "                    </tr>\n",
       "                </thead>\n",
       "                <tbody>\n",
       "                    \n",
       "                    <tr>\n",
       "                        <th> Bytes </th>\n",
       "                        <td> 151.01 GiB </td>\n",
       "                        <td> 105.72 MiB </td>\n",
       "                    </tr>\n",
       "                    \n",
       "                    <tr>\n",
       "                        <th> Shape </th>\n",
       "                        <td> (1462702, 27714) </td>\n",
       "                        <td> (1000, 27714) </td>\n",
       "                    </tr>\n",
       "                    <tr>\n",
       "                        <th> Dask graph </th>\n",
       "                        <td colspan=\"2\"> 1463 chunks in 2 graph layers </td>\n",
       "                    </tr>\n",
       "                    <tr>\n",
       "                        <th> Data type </th>\n",
       "                        <td colspan=\"2\"> float32 numpy.ndarray </td>\n",
       "                    </tr>\n",
       "                </tbody>\n",
       "            </table>\n",
       "        </td>\n",
       "        <td>\n",
       "        <svg width=\"78\" height=\"170\" style=\"stroke:rgb(0,0,0);stroke-width:1\" >\n",
       "\n",
       "  <!-- Horizontal lines -->\n",
       "  <line x1=\"0\" y1=\"0\" x2=\"28\" y2=\"0\" style=\"stroke-width:2\" />\n",
       "  <line x1=\"0\" y1=\"6\" x2=\"28\" y2=\"6\" />\n",
       "  <line x1=\"0\" y1=\"12\" x2=\"28\" y2=\"12\" />\n",
       "  <line x1=\"0\" y1=\"18\" x2=\"28\" y2=\"18\" />\n",
       "  <line x1=\"0\" y1=\"25\" x2=\"28\" y2=\"25\" />\n",
       "  <line x1=\"0\" y1=\"31\" x2=\"28\" y2=\"31\" />\n",
       "  <line x1=\"0\" y1=\"37\" x2=\"28\" y2=\"37\" />\n",
       "  <line x1=\"0\" y1=\"44\" x2=\"28\" y2=\"44\" />\n",
       "  <line x1=\"0\" y1=\"50\" x2=\"28\" y2=\"50\" />\n",
       "  <line x1=\"0\" y1=\"56\" x2=\"28\" y2=\"56\" />\n",
       "  <line x1=\"0\" y1=\"63\" x2=\"28\" y2=\"63\" />\n",
       "  <line x1=\"0\" y1=\"69\" x2=\"28\" y2=\"69\" />\n",
       "  <line x1=\"0\" y1=\"75\" x2=\"28\" y2=\"75\" />\n",
       "  <line x1=\"0\" y1=\"82\" x2=\"28\" y2=\"82\" />\n",
       "  <line x1=\"0\" y1=\"88\" x2=\"28\" y2=\"88\" />\n",
       "  <line x1=\"0\" y1=\"94\" x2=\"28\" y2=\"94\" />\n",
       "  <line x1=\"0\" y1=\"101\" x2=\"28\" y2=\"101\" />\n",
       "  <line x1=\"0\" y1=\"107\" x2=\"28\" y2=\"107\" />\n",
       "  <line x1=\"0\" y1=\"113\" x2=\"28\" y2=\"113\" />\n",
       "  <line x1=\"0\" y1=\"120\" x2=\"28\" y2=\"120\" style=\"stroke-width:2\" />\n",
       "\n",
       "  <!-- Vertical lines -->\n",
       "  <line x1=\"0\" y1=\"0\" x2=\"0\" y2=\"120\" style=\"stroke-width:2\" />\n",
       "  <line x1=\"28\" y1=\"0\" x2=\"28\" y2=\"120\" style=\"stroke-width:2\" />\n",
       "\n",
       "  <!-- Colored Rectangle -->\n",
       "  <polygon points=\"0.0,0.0 28.727866076248358,0.0 28.727866076248358,120.0 0.0,120.0\" style=\"fill:#8B4903A0;stroke-width:0\"/>\n",
       "\n",
       "  <!-- Text -->\n",
       "  <text x=\"14.363933\" y=\"140.000000\" font-size=\"1.0rem\" font-weight=\"100\" text-anchor=\"middle\" >27714</text>\n",
       "  <text x=\"48.727866\" y=\"60.000000\" font-size=\"1.0rem\" font-weight=\"100\" text-anchor=\"middle\" transform=\"rotate(-90,48.727866,60.000000)\">1462702</text>\n",
       "</svg>\n",
       "        </td>\n",
       "    </tr>\n",
       "</table>"
      ],
      "text/plain": [
       "dask.array<make_dask_chunk, shape=(1462702, 27714), dtype=float32, chunksize=(1000, 27714), chunktype=numpy.ndarray>"
      ]
     },
     "execution_count": 5,
     "metadata": {},
     "output_type": "execute_result"
    }
   ],
   "source": [
    "adata_dask.X"
   ]
  },
  {
   "cell_type": "code",
   "execution_count": null,
   "metadata": {},
   "outputs": [],
   "source": [
    "sc.pp.filter_cells(adata_dask, min_genes=200)\n",
    "sc.pp.filter_genes(adata_dask, min_cells=3)"
   ]
  },
  {
   "cell_type": "code",
   "execution_count": null,
   "metadata": {},
   "outputs": [],
   "source": [
    "sc.pp.normalize_total(adata_dask, target_sum=1e4)\n",
    "sc.pp.highly_variable_genes(adata_dask, min_mean=0.0125, max_mean=3, min_disp=0.5)"
   ]
  },
  {
   "cell_type": "code",
   "execution_count": null,
   "metadata": {},
   "outputs": [],
   "source": [
    "sc.pl.highly_variable_genes(adata_dask)"
   ]
  },
  {
   "cell_type": "code",
   "execution_count": null,
   "metadata": {},
   "outputs": [],
   "source": []
  }
 ],
 "metadata": {
  "kernelspec": {
   "display_name": "Python 3 (ipykernel)",
   "language": "python",
   "name": "python3"
  },
  "language_info": {
   "codemirror_mode": {
    "name": "ipython",
    "version": 3
   },
   "file_extension": ".py",
   "mimetype": "text/x-python",
   "name": "python",
   "nbconvert_exporter": "python",
   "pygments_lexer": "ipython3",
   "version": "3.11.8"
  }
 },
 "nbformat": 4,
 "nbformat_minor": 4
}
